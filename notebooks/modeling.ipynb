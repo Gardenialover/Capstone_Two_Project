{
 "cells": [
  {
   "cell_type": "markdown",
   "id": "160bebdc",
   "metadata": {},
   "source": [
    "# loading data"
   ]
  },
  {
   "cell_type": "code",
   "execution_count": 1,
   "id": "cd61747f",
   "metadata": {},
   "outputs": [],
   "source": [
    "import numpy as np\n",
    "import scipy as sp\n",
    "import pandas as pd\n",
    "\n",
    "# plotting and visualization\n",
    "\n",
    "import matplotlib.colors\n",
    "import matplotlib.pyplot as plt\n",
    "import seaborn as sns\n",
    "\n",
    "# modeling\n",
    "import sklearn.model_selection\n",
    "from sklearn.model_selection import KFold\n",
    "from sklearn.feature_selection import SelectKBest, f_regression\n",
    "from sklearn.model_selection import cross_val_score,cross_validate\n",
    "from xgboost import XGBClassifier\n",
    "from sklearn.linear_model import LogisticRegression\n",
    "from sklearn.neighbors import KNeighborsClassifier\n",
    "from sklearn.dummy import DummyClassifier\n",
    "from sklearn.ensemble import RandomForestClassifier\n",
    "from sklearn.metrics import accuracy_score, f1_score,precision_score\n",
    "from sklearn.metrics import precision_recall_fscore_support as score\n",
    "from sklearn.metrics import classification_report\n",
    "from sklearn.metrics import confusion_matrix\n",
    "from sklearn.metrics import roc_auc_score, roc_curve\n",
    "from sklearn.metrics import ConfusionMatrixDisplay\n",
    "\n",
    "import pickle\n",
    "\n",
    "from sklearn import __version__ as sklearn_version\n",
    "from sklearn.model_selection import train_test_split, cross_validate, GridSearchCV\n",
    "\n",
    "from sklearn.pipeline import make_pipeline\n",
    "from sklearn.impute import SimpleImputer\n",
    "from sklearn.feature_selection import SelectKBest, f_regression\n",
    "import datetime\n",
    "\n",
    "import os"
   ]
  },
  {
   "cell_type": "code",
   "execution_count": 2,
   "id": "4bdf513b",
   "metadata": {},
   "outputs": [
    {
     "data": {
      "text/html": [
       "<div>\n",
       "<style scoped>\n",
       "    .dataframe tbody tr th:only-of-type {\n",
       "        vertical-align: middle;\n",
       "    }\n",
       "\n",
       "    .dataframe tbody tr th {\n",
       "        vertical-align: top;\n",
       "    }\n",
       "\n",
       "    .dataframe thead th {\n",
       "        text-align: right;\n",
       "    }\n",
       "</style>\n",
       "<table border=\"1\" class=\"dataframe\">\n",
       "  <thead>\n",
       "    <tr style=\"text-align: right;\">\n",
       "      <th></th>\n",
       "      <th>fixed_acidity</th>\n",
       "      <th>volatile_acidity</th>\n",
       "      <th>citric_acid</th>\n",
       "      <th>residual_sugar</th>\n",
       "      <th>chlorides</th>\n",
       "      <th>free_sulfur_dioxide</th>\n",
       "      <th>total_sulfur_dioxide</th>\n",
       "      <th>density</th>\n",
       "      <th>pH</th>\n",
       "      <th>sulphates</th>\n",
       "      <th>alcohol</th>\n",
       "      <th>free_SO2_ratio</th>\n",
       "      <th>alcohol_surgar_ratio</th>\n",
       "      <th>sugar_acidity_ratio</th>\n",
       "      <th>fixed_acidity_ratio</th>\n",
       "    </tr>\n",
       "  </thead>\n",
       "  <tbody>\n",
       "    <tr>\n",
       "      <th>0</th>\n",
       "      <td>0.247934</td>\n",
       "      <td>0.120000</td>\n",
       "      <td>0.192771</td>\n",
       "      <td>0.098160</td>\n",
       "      <td>0.053156</td>\n",
       "      <td>0.128472</td>\n",
       "      <td>0.258065</td>\n",
       "      <td>0.130904</td>\n",
       "      <td>0.410853</td>\n",
       "      <td>0.168539</td>\n",
       "      <td>0.405797</td>\n",
       "      <td>0.358702</td>\n",
       "      <td>0.078052</td>\n",
       "      <td>0.124245</td>\n",
       "      <td>0.839710</td>\n",
       "    </tr>\n",
       "    <tr>\n",
       "      <th>1</th>\n",
       "      <td>0.239669</td>\n",
       "      <td>0.113333</td>\n",
       "      <td>0.445783</td>\n",
       "      <td>0.288344</td>\n",
       "      <td>0.074751</td>\n",
       "      <td>0.149306</td>\n",
       "      <td>0.375576</td>\n",
       "      <td>0.256217</td>\n",
       "      <td>0.612403</td>\n",
       "      <td>0.129213</td>\n",
       "      <td>0.260870</td>\n",
       "      <td>0.284783</td>\n",
       "      <td>0.018717</td>\n",
       "      <td>0.366162</td>\n",
       "      <td>0.845020</td>\n",
       "    </tr>\n",
       "    <tr>\n",
       "      <th>2</th>\n",
       "      <td>0.190083</td>\n",
       "      <td>0.213333</td>\n",
       "      <td>0.096386</td>\n",
       "      <td>0.018405</td>\n",
       "      <td>0.099668</td>\n",
       "      <td>0.034722</td>\n",
       "      <td>0.043779</td>\n",
       "      <td>0.161751</td>\n",
       "      <td>0.542636</td>\n",
       "      <td>0.292135</td>\n",
       "      <td>0.304348</td>\n",
       "      <td>0.500078</td>\n",
       "      <td>0.310672</td>\n",
       "      <td>0.028200</td>\n",
       "      <td>0.686411</td>\n",
       "    </tr>\n",
       "    <tr>\n",
       "      <th>3</th>\n",
       "      <td>0.231405</td>\n",
       "      <td>0.126667</td>\n",
       "      <td>0.150602</td>\n",
       "      <td>0.038344</td>\n",
       "      <td>0.071429</td>\n",
       "      <td>0.138889</td>\n",
       "      <td>0.419355</td>\n",
       "      <td>0.084635</td>\n",
       "      <td>0.403101</td>\n",
       "      <td>0.101124</td>\n",
       "      <td>0.478261</td>\n",
       "      <td>0.234125</td>\n",
       "      <td>0.198261</td>\n",
       "      <td>0.051629</td>\n",
       "      <td>0.824361</td>\n",
       "    </tr>\n",
       "    <tr>\n",
       "      <th>4</th>\n",
       "      <td>0.165289</td>\n",
       "      <td>0.086667</td>\n",
       "      <td>0.192771</td>\n",
       "      <td>0.015337</td>\n",
       "      <td>0.059801</td>\n",
       "      <td>0.128472</td>\n",
       "      <td>0.205069</td>\n",
       "      <td>0.045306</td>\n",
       "      <td>0.395349</td>\n",
       "      <td>0.404494</td>\n",
       "      <td>0.637681</td>\n",
       "      <td>0.452140</td>\n",
       "      <td>0.432972</td>\n",
       "      <td>0.026762</td>\n",
       "      <td>0.851406</td>\n",
       "    </tr>\n",
       "    <tr>\n",
       "      <th>...</th>\n",
       "      <td>...</td>\n",
       "      <td>...</td>\n",
       "      <td>...</td>\n",
       "      <td>...</td>\n",
       "      <td>...</td>\n",
       "      <td>...</td>\n",
       "      <td>...</td>\n",
       "      <td>...</td>\n",
       "      <td>...</td>\n",
       "      <td>...</td>\n",
       "      <td>...</td>\n",
       "      <td>...</td>\n",
       "      <td>...</td>\n",
       "      <td>...</td>\n",
       "      <td>...</td>\n",
       "    </tr>\n",
       "    <tr>\n",
       "      <th>6031</th>\n",
       "      <td>0.232797</td>\n",
       "      <td>0.065614</td>\n",
       "      <td>0.227901</td>\n",
       "      <td>0.014062</td>\n",
       "      <td>0.037087</td>\n",
       "      <td>0.091411</td>\n",
       "      <td>0.240359</td>\n",
       "      <td>0.082382</td>\n",
       "      <td>0.416075</td>\n",
       "      <td>0.189178</td>\n",
       "      <td>0.497635</td>\n",
       "      <td>0.269405</td>\n",
       "      <td>0.421025</td>\n",
       "      <td>0.020978</td>\n",
       "      <td>0.905414</td>\n",
       "    </tr>\n",
       "    <tr>\n",
       "      <th>6032</th>\n",
       "      <td>0.292554</td>\n",
       "      <td>0.133367</td>\n",
       "      <td>0.201169</td>\n",
       "      <td>0.090634</td>\n",
       "      <td>0.024262</td>\n",
       "      <td>0.054529</td>\n",
       "      <td>0.219156</td>\n",
       "      <td>0.127660</td>\n",
       "      <td>0.200748</td>\n",
       "      <td>0.176455</td>\n",
       "      <td>0.373884</td>\n",
       "      <td>0.167985</td>\n",
       "      <td>0.083460</td>\n",
       "      <td>0.105738</td>\n",
       "      <td>0.839941</td>\n",
       "    </tr>\n",
       "    <tr>\n",
       "      <th>6033</th>\n",
       "      <td>0.300610</td>\n",
       "      <td>0.162201</td>\n",
       "      <td>0.197012</td>\n",
       "      <td>0.086024</td>\n",
       "      <td>0.037714</td>\n",
       "      <td>0.043268</td>\n",
       "      <td>0.278422</td>\n",
       "      <td>0.099410</td>\n",
       "      <td>0.337849</td>\n",
       "      <td>0.107232</td>\n",
       "      <td>0.603911</td>\n",
       "      <td>0.099637</td>\n",
       "      <td>0.102145</td>\n",
       "      <td>0.098697</td>\n",
       "      <td>0.810163</td>\n",
       "    </tr>\n",
       "    <tr>\n",
       "      <th>6034</th>\n",
       "      <td>0.213175</td>\n",
       "      <td>0.207843</td>\n",
       "      <td>0.125620</td>\n",
       "      <td>0.037667</td>\n",
       "      <td>0.040551</td>\n",
       "      <td>0.086602</td>\n",
       "      <td>0.247697</td>\n",
       "      <td>0.056601</td>\n",
       "      <td>0.368446</td>\n",
       "      <td>0.171679</td>\n",
       "      <td>0.684143</td>\n",
       "      <td>0.248503</td>\n",
       "      <td>0.230315</td>\n",
       "      <td>0.051596</td>\n",
       "      <td>0.709345</td>\n",
       "    </tr>\n",
       "    <tr>\n",
       "      <th>6035</th>\n",
       "      <td>0.172091</td>\n",
       "      <td>0.131760</td>\n",
       "      <td>0.233163</td>\n",
       "      <td>0.025802</td>\n",
       "      <td>0.047425</td>\n",
       "      <td>0.047317</td>\n",
       "      <td>0.169555</td>\n",
       "      <td>0.054412</td>\n",
       "      <td>0.262651</td>\n",
       "      <td>0.136262</td>\n",
       "      <td>0.544469</td>\n",
       "      <td>0.194493</td>\n",
       "      <td>0.292282</td>\n",
       "      <td>0.040394</td>\n",
       "      <td>0.791080</td>\n",
       "    </tr>\n",
       "  </tbody>\n",
       "</table>\n",
       "<p>6036 rows × 15 columns</p>\n",
       "</div>"
      ],
      "text/plain": [
       "      fixed_acidity  volatile_acidity  citric_acid  residual_sugar  chlorides  \\\n",
       "0          0.247934          0.120000     0.192771        0.098160   0.053156   \n",
       "1          0.239669          0.113333     0.445783        0.288344   0.074751   \n",
       "2          0.190083          0.213333     0.096386        0.018405   0.099668   \n",
       "3          0.231405          0.126667     0.150602        0.038344   0.071429   \n",
       "4          0.165289          0.086667     0.192771        0.015337   0.059801   \n",
       "...             ...               ...          ...             ...        ...   \n",
       "6031       0.232797          0.065614     0.227901        0.014062   0.037087   \n",
       "6032       0.292554          0.133367     0.201169        0.090634   0.024262   \n",
       "6033       0.300610          0.162201     0.197012        0.086024   0.037714   \n",
       "6034       0.213175          0.207843     0.125620        0.037667   0.040551   \n",
       "6035       0.172091          0.131760     0.233163        0.025802   0.047425   \n",
       "\n",
       "      free_sulfur_dioxide  total_sulfur_dioxide   density        pH  \\\n",
       "0                0.128472              0.258065  0.130904  0.410853   \n",
       "1                0.149306              0.375576  0.256217  0.612403   \n",
       "2                0.034722              0.043779  0.161751  0.542636   \n",
       "3                0.138889              0.419355  0.084635  0.403101   \n",
       "4                0.128472              0.205069  0.045306  0.395349   \n",
       "...                   ...                   ...       ...       ...   \n",
       "6031             0.091411              0.240359  0.082382  0.416075   \n",
       "6032             0.054529              0.219156  0.127660  0.200748   \n",
       "6033             0.043268              0.278422  0.099410  0.337849   \n",
       "6034             0.086602              0.247697  0.056601  0.368446   \n",
       "6035             0.047317              0.169555  0.054412  0.262651   \n",
       "\n",
       "      sulphates   alcohol  free_SO2_ratio  alcohol_surgar_ratio  \\\n",
       "0      0.168539  0.405797        0.358702              0.078052   \n",
       "1      0.129213  0.260870        0.284783              0.018717   \n",
       "2      0.292135  0.304348        0.500078              0.310672   \n",
       "3      0.101124  0.478261        0.234125              0.198261   \n",
       "4      0.404494  0.637681        0.452140              0.432972   \n",
       "...         ...       ...             ...                   ...   \n",
       "6031   0.189178  0.497635        0.269405              0.421025   \n",
       "6032   0.176455  0.373884        0.167985              0.083460   \n",
       "6033   0.107232  0.603911        0.099637              0.102145   \n",
       "6034   0.171679  0.684143        0.248503              0.230315   \n",
       "6035   0.136262  0.544469        0.194493              0.292282   \n",
       "\n",
       "      sugar_acidity_ratio  fixed_acidity_ratio  \n",
       "0                0.124245             0.839710  \n",
       "1                0.366162             0.845020  \n",
       "2                0.028200             0.686411  \n",
       "3                0.051629             0.824361  \n",
       "4                0.026762             0.851406  \n",
       "...                   ...                  ...  \n",
       "6031             0.020978             0.905414  \n",
       "6032             0.105738             0.839941  \n",
       "6033             0.098697             0.810163  \n",
       "6034             0.051596             0.709345  \n",
       "6035             0.040394             0.791080  \n",
       "\n",
       "[6036 rows x 15 columns]"
      ]
     },
     "execution_count": 2,
     "metadata": {},
     "output_type": "execute_result"
    }
   ],
   "source": [
    "X_train = pd.read_csv(\"../Capstone_Two_Project/data/processed/X_train.csv\", index_col = 0)\n",
    "X_train"
   ]
  },
  {
   "cell_type": "code",
   "execution_count": 3,
   "id": "859f3315",
   "metadata": {},
   "outputs": [],
   "source": [
    "X_test = pd.read_csv(\"../Capstone_Two_Project/data/processed/X_test.csv\", index_col = 0)"
   ]
  },
  {
   "cell_type": "code",
   "execution_count": 4,
   "id": "2b950514",
   "metadata": {},
   "outputs": [],
   "source": [
    "y_train = pd.read_csv(\"../Capstone_Two_Project/data/processed/y_train.csv\",index_col = False)\n",
    "\n",
    "y_train=y_train.drop('Unnamed: 0',axis=1)"
   ]
  },
  {
   "cell_type": "code",
   "execution_count": 5,
   "id": "48c92a7f",
   "metadata": {},
   "outputs": [],
   "source": [
    "y_test = pd.read_csv(\"../Capstone_Two_Project/data/processed/y_test.csv\", index_col = False)\n",
    "y_test=y_test.drop('Unnamed: 0',axis=1)"
   ]
  },
  {
   "cell_type": "markdown",
   "id": "91db5b29",
   "metadata": {},
   "source": [
    "# Modeling"
   ]
  },
  {
   "cell_type": "markdown",
   "id": "89a34133",
   "metadata": {},
   "source": [
    "## Metrics for model performance"
   ]
  },
  {
   "cell_type": "markdown",
   "id": "8bda3a6e",
   "metadata": {},
   "source": [
    "For a classification machine learning, several metrics such as accuracy, recall, F1 and ROC_AUC are used in model performance evaluation. The project purpose is to predict good quality wine, and the dataset is imblanced, therefore the model with highest precision values with relative high accuracy among the three models:Logisticregression, randomforest, XGBoost will be the winner. "
   ]
  },
  {
   "cell_type": "code",
   "execution_count": 58,
   "id": "d42819c1",
   "metadata": {},
   "outputs": [],
   "source": []
  },
  {
   "cell_type": "markdown",
   "id": "8c8eadb5",
   "metadata": {},
   "source": [
    "## Baseline model"
   ]
  },
  {
   "cell_type": "markdown",
   "id": "2d01ed37",
   "metadata": {},
   "source": [
    "dummyclassifier is used in modeling prediction. it will serve as the baseline modeling, good models should shows better metris than it."
   ]
  },
  {
   "cell_type": "code",
   "execution_count": 59,
   "id": "ebf91c01",
   "metadata": {},
   "outputs": [
    {
     "name": "stdout",
     "output_type": "stream",
     "text": [
      "0.47562273628754986\n"
     ]
    }
   ],
   "source": [
    "dummy = DummyClassifier(strategy =\"stratified\",random_state = 123)\n",
    "dummy.fit(X_train.values,y_train.values.ravel())\n",
    "y_pred = dummy.predict(X_test.values)\n",
    "y_pred_probs = dummy.predict_proba(X_test.values) [:,1]\n",
    "roc_auc_score_dummy = roc_auc_score(y_test, y_pred_probs)\n",
    "print(roc_auc_score_dummy)\n"
   ]
  },
  {
   "cell_type": "code",
   "execution_count": 7,
   "id": "feb71e13",
   "metadata": {},
   "outputs": [
    {
     "name": "stdout",
     "output_type": "stream",
     "text": [
      "dummy: precision=0.677\n",
      "report:               precision    recall  f1-score   support\n",
      "\n",
      "           0       0.79      0.48      0.60      1293\n",
      "           1       0.18      0.47      0.25       303\n",
      "\n",
      "    accuracy                           0.48      1596\n",
      "   macro avg       0.48      0.48      0.43      1596\n",
      "weighted avg       0.68      0.48      0.53      1596\n",
      " \n",
      "\n"
     ]
    },
    {
     "data": {
      "image/png": "[encoded data removed]",
      "text/plain": [
       "<Figure size 640x480 with 2 Axes>"
      ]
     },
     "metadata": {},
     "output_type": "display_data"
    }
   ],
   "source": [
    "pc_dummy = precision_score(y_test, y_pred,average='weighted')\n",
    "precision_score_list.append(pc_dummy)\n",
    "report_dummy = classification_report(y_test, y_pred)\n",
    "cm_dummy = confusion_matrix(y_test, y_pred)\n",
    "print('dummy: precision=%.3f' % (pc_dummy))\n",
    "print(\"report:\", report_dummy,\"\\n\")\n",
    "ConfusionMatrixDisplay(confusion_matrix=cm_dummy,display_labels=dummy.classes_).plot()\n",
    "plt.show()"
   ]
  },
  {
   "cell_type": "markdown",
   "id": "2f80e963",
   "metadata": {},
   "source": [
    "In dummy model, the precison for predict good win is 0.20. overall precision is 0.697."
   ]
  },
  {
   "cell_type": "markdown",
   "id": "304c0fff",
   "metadata": {},
   "source": [
    "three models:logisticregression, random forest and XGBoost Model will be selected. Through compare the cross validtion scores, the final model will be select and final tuned. Also, the number of features used in modeling was controlled bu selectkbest algorithms. "
   ]
  },
  {
   "cell_type": "markdown",
   "id": "2fe3b74a",
   "metadata": {},
   "source": [
    "## Logisticregression model"
   ]
  },
  {
   "cell_type": "markdown",
   "id": "8768ca3f",
   "metadata": {},
   "source": [
    "### make a pipeline"
   ]
  },
  {
   "cell_type": "code",
   "execution_count": 8,
   "id": "a1686511",
   "metadata": {},
   "outputs": [],
   "source": [
    "from sklearn.pipeline import Pipeline\n",
    "pipe_log = Pipeline(\n",
    "    steps =[(\"feature_selection\",SelectKBest(score_func=f_regression, k =5)),(\"model\",\n",
    "    LogisticRegression())]\n",
    ")"
   ]
  },
  {
   "cell_type": "code",
   "execution_count": 9,
   "id": "3b498cd6",
   "metadata": {},
   "outputs": [
    {
     "data": {
      "text/html": [
       "<style>#sk-container-id-1 {color: black;}#sk-container-id-1 pre{padding: 0;}#sk-container-id-1 div.sk-toggleable {background-color: white;}#sk-container-id-1 label.sk-toggleable__label {cursor: pointer;display: block;width: 100%;margin-bottom: 0;padding: 0.3em;box-sizing: border-box;text-align: center;}#sk-container-id-1 label.sk-toggleable__label-arrow:before {content: \"▸\";float: left;margin-right: 0.25em;color: #696969;}#sk-container-id-1 label.sk-toggleable__label-arrow:hover:before {color: black;}#sk-container-id-1 div.sk-estimator:hover label.sk-toggleable__label-arrow:before {color: black;}#sk-container-id-1 div.sk-toggleable__content {max-height: 0;max-width: 0;overflow: hidden;text-align: left;background-color: #f0f8ff;}#sk-container-id-1 div.sk-toggleable__content pre {margin: 0.2em;color: black;border-radius: 0.25em;background-color: #f0f8ff;}#sk-container-id-1 input.sk-toggleable__control:checked~div.sk-toggleable__content {max-height: 200px;max-width: 100%;overflow: auto;}#sk-container-id-1 input.sk-toggleable__control:checked~label.sk-toggleable__label-arrow:before {content: \"▾\";}#sk-container-id-1 div.sk-estimator input.sk-toggleable__control:checked~label.sk-toggleable__label {background-color: #d4ebff;}#sk-container-id-1 div.sk-label input.sk-toggleable__control:checked~label.sk-toggleable__label {background-color: #d4ebff;}#sk-container-id-1 input.sk-hidden--visually {border: 0;clip: rect(1px 1px 1px 1px);clip: rect(1px, 1px, 1px, 1px);height: 1px;margin: -1px;overflow: hidden;padding: 0;position: absolute;width: 1px;}#sk-container-id-1 div.sk-estimator {font-family: monospace;background-color: #f0f8ff;border: 1px dotted black;border-radius: 0.25em;box-sizing: border-box;margin-bottom: 0.5em;}#sk-container-id-1 div.sk-estimator:hover {background-color: #d4ebff;}#sk-container-id-1 div.sk-parallel-item::after {content: \"\";width: 100%;border-bottom: 1px solid gray;flex-grow: 1;}#sk-container-id-1 div.sk-label:hover label.sk-toggleable__label {background-color: #d4ebff;}#sk-container-id-1 div.sk-serial::before {content: \"\";position: absolute;border-left: 1px solid gray;box-sizing: border-box;top: 0;bottom: 0;left: 50%;z-index: 0;}#sk-container-id-1 div.sk-serial {display: flex;flex-direction: column;align-items: center;background-color: white;padding-right: 0.2em;padding-left: 0.2em;position: relative;}#sk-container-id-1 div.sk-item {position: relative;z-index: 1;}#sk-container-id-1 div.sk-parallel {display: flex;align-items: stretch;justify-content: center;background-color: white;position: relative;}#sk-container-id-1 div.sk-item::before, #sk-container-id-1 div.sk-parallel-item::before {content: \"\";position: absolute;border-left: 1px solid gray;box-sizing: border-box;top: 0;bottom: 0;left: 50%;z-index: -1;}#sk-container-id-1 div.sk-parallel-item {display: flex;flex-direction: column;z-index: 1;position: relative;background-color: white;}#sk-container-id-1 div.sk-parallel-item:first-child::after {align-self: flex-end;width: 50%;}#sk-container-id-1 div.sk-parallel-item:last-child::after {align-self: flex-start;width: 50%;}#sk-container-id-1 div.sk-parallel-item:only-child::after {width: 0;}#sk-container-id-1 div.sk-dashed-wrapped {border: 1px dashed gray;margin: 0 0.4em 0.5em 0.4em;box-sizing: border-box;padding-bottom: 0.4em;background-color: white;}#sk-container-id-1 div.sk-label label {font-family: monospace;font-weight: bold;display: inline-block;line-height: 1.2em;}#sk-container-id-1 div.sk-label-container {text-align: center;}#sk-container-id-1 div.sk-container {/* jupyter's `normalize.less` sets `[hidden] { display: none; }` but bootstrap.min.css set `[hidden] { display: none !important; }` so we also need the `!important` here to be able to override the default hidden behavior on the sphinx rendered scikit-learn.org. See: https://github.com/scikit-learn/scikit-learn/issues/21755 */display: inline-block !important;position: relative;}#sk-container-id-1 div.sk-text-repr-fallback {display: none;}</style><div id=\"sk-container-id-1\" class=\"sk-top-container\"><div class=\"sk-text-repr-fallback\"><pre>Pipeline(steps=[(&#x27;feature_selection&#x27;,\n",
       "                 SelectKBest(k=5,\n",
       "                             score_func=&lt;function f_regression at 0x0000027DFBE74430&gt;)),\n",
       "                (&#x27;model&#x27;, LogisticRegression())])</pre><b>In a Jupyter environment, please rerun this cell to show the HTML representation or trust the notebook. <br />On GitHub, the HTML representation is unable to render, please try loading this page with nbviewer.org.</b></div><div class=\"sk-container\" hidden><div class=\"sk-item sk-dashed-wrapped\"><div class=\"sk-label-container\"><div class=\"sk-label sk-toggleable\"><input class=\"sk-toggleable__control sk-hidden--visually\" id=\"sk-estimator-id-1\" type=\"checkbox\" ><label for=\"sk-estimator-id-1\" class=\"sk-toggleable__label sk-toggleable__label-arrow\">Pipeline</label><div class=\"sk-toggleable__content\"><pre>Pipeline(steps=[(&#x27;feature_selection&#x27;,\n",
       "                 SelectKBest(k=5,\n",
       "                             score_func=&lt;function f_regression at 0x0000027DFBE74430&gt;)),\n",
       "                (&#x27;model&#x27;, LogisticRegression())])</pre></div></div></div><div class=\"sk-serial\"><div class=\"sk-item\"><div class=\"sk-estimator sk-toggleable\"><input class=\"sk-toggleable__control sk-hidden--visually\" id=\"sk-estimator-id-2\" type=\"checkbox\" ><label for=\"sk-estimator-id-2\" class=\"sk-toggleable__label sk-toggleable__label-arrow\">SelectKBest</label><div class=\"sk-toggleable__content\"><pre>SelectKBest(k=5, score_func=&lt;function f_regression at 0x0000027DFBE74430&gt;)</pre></div></div></div><div class=\"sk-item\"><div class=\"sk-estimator sk-toggleable\"><input class=\"sk-toggleable__control sk-hidden--visually\" id=\"sk-estimator-id-3\" type=\"checkbox\" ><label for=\"sk-estimator-id-3\" class=\"sk-toggleable__label sk-toggleable__label-arrow\">LogisticRegression</label><div class=\"sk-toggleable__content\"><pre>LogisticRegression()</pre></div></div></div></div></div></div></div>"
      ],
      "text/plain": [
       "Pipeline(steps=[('feature_selection',\n",
       "                 SelectKBest(k=5,\n",
       "                             score_func=<function f_regression at 0x0000027DFBE74430>)),\n",
       "                ('model', LogisticRegression())])"
      ]
     },
     "execution_count": 9,
     "metadata": {},
     "output_type": "execute_result"
    }
   ],
   "source": [
    "pipe_log.fit(X_train.values, y_train.values.ravel())"
   ]
  },
  {
   "cell_type": "code",
   "execution_count": 10,
   "id": "5ccb446e",
   "metadata": {},
   "outputs": [
    {
     "name": "stdout",
     "output_type": "stream",
     "text": [
      "0.8100497984833287\n"
     ]
    },
    {
     "data": {
      "text/plain": [
       "(0.7599341499138335, 0.8246233273241583)"
      ]
     },
     "execution_count": 10,
     "metadata": {},
     "output_type": "execute_result"
    }
   ],
   "source": [
    "y_tr_pred_log = pipe_log.predict(X_train.values)\n",
    "y_te_pred_log= pipe_log.predict(X_test.values)\n",
    "y_pred_log_probs = pipe_log.predict_proba(X_test.values) [:,1]\n",
    "print(roc_auc_score(y_test, y_pred_log_probs))\n",
    "precision_score(y_train, y_tr_pred_log, average = \"weighted\" ), precision_score(y_test, y_te_pred_log, average =\"weighted\")"
   ]
  },
  {
   "cell_type": "code",
   "execution_count": 11,
   "id": "ab5c0eab",
   "metadata": {},
   "outputs": [
    {
     "data": {
      "image/png": "[encoded data removed]",
      "text/plain": [
       "<Figure size 640x480 with 2 Axes>"
      ]
     },
     "metadata": {},
     "output_type": "display_data"
    },
    {
     "name": "stdout",
     "output_type": "stream",
     "text": [
      "              precision    recall  f1-score   support\n",
      "\n",
      "           0       0.92      0.73      0.82      1293\n",
      "           1       0.40      0.75      0.52       303\n",
      "\n",
      "    accuracy                           0.74      1596\n",
      "   macro avg       0.66      0.74      0.67      1596\n",
      "weighted avg       0.82      0.74      0.76      1596\n",
      "\n"
     ]
    }
   ],
   "source": [
    "report_log = classification_report(y_test, y_te_pred_log)\n",
    "cm_log = confusion_matrix(y_test, y_te_pred_log)\n",
    "ConfusionMatrixDisplay(confusion_matrix=cm_log,display_labels=pipe_log.classes_).plot()\n",
    "plt.show()\n",
    "print(classification_report(y_test, y_te_pred_log))"
   ]
  },
  {
   "cell_type": "markdown",
   "id": "ebf589b7",
   "metadata": {},
   "source": [
    "### Assessing performance using cross-validation"
   ]
  },
  {
   "cell_type": "code",
   "execution_count": 12,
   "id": "273a1d68",
   "metadata": {},
   "outputs": [],
   "source": [
    "cv_results_log = cross_validate(pipe_log, X_train, y_train.values.ravel(), cv=5,scoring = \"precision\")"
   ]
  },
  {
   "cell_type": "code",
   "execution_count": 13,
   "id": "1f15178a",
   "metadata": {},
   "outputs": [
    {
     "data": {
      "text/plain": [
       "array([0.75653595, 0.7484472 , 0.72554745, 0.74223602, 0.73611111])"
      ]
     },
     "execution_count": 13,
     "metadata": {},
     "output_type": "execute_result"
    }
   ],
   "source": [
    "cv_scores_log = cv_results_log['test_score']\n",
    "cv_scores_log"
   ]
  },
  {
   "cell_type": "code",
   "execution_count": 14,
   "id": "3d3765c8",
   "metadata": {},
   "outputs": [],
   "source": [
    "cv_scores_mean_log = np.mean(cv_scores_log)\n",
    "cv_score_std_log = np.std(cv_scores_log)"
   ]
  },
  {
   "cell_type": "markdown",
   "id": "14eab614",
   "metadata": {},
   "source": [
    "### tunning logisticregression model"
   ]
  },
  {
   "cell_type": "code",
   "execution_count": 15,
   "id": "c3cd9f4b",
   "metadata": {},
   "outputs": [],
   "source": [
    "#k = [k+1 for k in range(len(X_train.columns))]\n",
    "c_values = [0.01,0.1,1.0,10,100]\n",
    "solvers = ['lbfgs', 'liblinear', 'newton-cg', 'newton-cholesky']\n",
    "grid_params = {'model__C':c_values,'model__solver':solvers}\n",
    "#grid_params = {'feature_selection__k': k, 'model__C':c_values,'model__solver':solvers}\n",
    "#grid_params = {'feature_slection__k': k}"
   ]
  },
  {
   "cell_type": "code",
   "execution_count": 16,
   "id": "6d213087",
   "metadata": {},
   "outputs": [
    {
     "data": {
      "text/plain": [
       "{'model__C': 0.01, 'model__solver': 'lbfgs'}"
      ]
     },
     "execution_count": 16,
     "metadata": {},
     "output_type": "execute_result"
    }
   ],
   "source": [
    "log_grid_cv = GridSearchCV(pipe_log, param_grid=grid_params,scoring=\"precision\", cv=5, n_jobs=-1)\n",
    "log_grid_cv.fit(X_train, y_train.values.ravel())\n",
    "score_mean = log_grid_cv.cv_results_['mean_test_score']\n",
    "score_std = log_grid_cv.cv_results_['std_test_score']\n",
    "log_grid_cv.best_params_"
   ]
  },
  {
   "cell_type": "code",
   "execution_count": 17,
   "id": "cee6b782",
   "metadata": {},
   "outputs": [
    {
     "data": {
      "text/plain": [
       "alcohol                1.852891\n",
       "fixed_acidity_ratio    0.495268\n",
       "chlorides             -0.279247\n",
       "density               -0.428324\n",
       "volatile_acidity      -0.490893\n",
       "dtype: float64"
      ]
     },
     "execution_count": 17,
     "metadata": {},
     "output_type": "execute_result"
    }
   ],
   "source": [
    "selected = log_grid_cv.best_estimator_.named_steps.feature_selection.get_support()\n",
    "coefs = log_grid_cv.best_estimator_.named_steps.model.coef_\n",
    "features = X_train.columns[selected]\n",
    "pd.Series(coefs.ravel(), index = features.ravel()).sort_values(ascending=False)"
   ]
  },
  {
   "cell_type": "code",
   "execution_count": 18,
   "id": "f3b5c003",
   "metadata": {},
   "outputs": [
    {
     "name": "stdout",
     "output_type": "stream",
     "text": [
      "0.8083166785356027\n"
     ]
    },
    {
     "name": "stderr",
     "output_type": "stream",
     "text": [
      "C:\\Users\\Yan Zhang\\anaconda3\\lib\\site-packages\\sklearn\\base.py:465: UserWarning: X does not have valid feature names, but SelectKBest was fitted with feature names\n",
      "  warnings.warn(\n"
     ]
    }
   ],
   "source": [
    "cv_log = cross_validate(log_grid_cv.best_estimator_, X_train, y_train, \n",
    "                            scoring='precision', cv=5, n_jobs=-1)\n",
    "cv_scores_log = cv_log['test_score']\n",
    "np.mean(cv_scores_log), np.std(cv_scores_log)\n",
    "\n",
    "y_tr_pred = log_grid_cv.best_estimator_.predict(X_train)\n",
    "y_te_pred = log_grid_cv.best_estimator_.predict(X_test)\n",
    "y_pred_probs = log_grid_cv.best_estimator_.predict_proba(X_test.values) [:,1]\n",
    "print(roc_auc_score(y_test, y_pred_probs))"
   ]
  },
  {
   "cell_type": "code",
   "execution_count": 19,
   "id": "8caa7638",
   "metadata": {},
   "outputs": [
    {
     "data": {
      "image/png": "[encoded data removed]",
      "text/plain": [
       "<Figure size 640x480 with 2 Axes>"
      ]
     },
     "metadata": {},
     "output_type": "display_data"
    },
    {
     "name": "stdout",
     "output_type": "stream",
     "text": [
      "              precision    recall  f1-score   support\n",
      "\n",
      "           0       0.93      0.73      0.82      1293\n",
      "           1       0.40      0.76      0.52       303\n",
      "\n",
      "    accuracy                           0.73      1596\n",
      "   macro avg       0.66      0.74      0.67      1596\n",
      "weighted avg       0.83      0.73      0.76      1596\n",
      "\n"
     ]
    }
   ],
   "source": [
    "report_log = classification_report(y_test, y_te_pred)\n",
    "cm_log = confusion_matrix(y_test, y_te_pred)\n",
    "ConfusionMatrixDisplay(confusion_matrix=cm_log,\n",
    "                       display_labels=log_grid_cv.classes_).plot()\n",
    "plt.show()\n",
    "print(classification_report(y_test, y_te_pred))"
   ]
  },
  {
   "cell_type": "markdown",
   "id": "8472085e",
   "metadata": {},
   "source": [
    "## Random forest "
   ]
  },
  {
   "cell_type": "markdown",
   "id": "ec106faf",
   "metadata": {},
   "source": [
    "### using the default setting"
   ]
  },
  {
   "cell_type": "code",
   "execution_count": 20,
   "id": "e35f1a73",
   "metadata": {},
   "outputs": [],
   "source": [
    "pipe_rf = Pipeline(\n",
    "    steps =[(\"feature_selection\",SelectKBest(score_func=f_regression,k=5)),(\"rf\",\n",
    "    RandomForestClassifier(random_state= 123))]\n",
    ")"
   ]
  },
  {
   "cell_type": "code",
   "execution_count": 21,
   "id": "b384fd54",
   "metadata": {},
   "outputs": [
    {
     "data": {
      "text/html": [
       "<style>#sk-container-id-2 {color: black;}#sk-container-id-2 pre{padding: 0;}#sk-container-id-2 div.sk-toggleable {background-color: white;}#sk-container-id-2 label.sk-toggleable__label {cursor: pointer;display: block;width: 100%;margin-bottom: 0;padding: 0.3em;box-sizing: border-box;text-align: center;}#sk-container-id-2 label.sk-toggleable__label-arrow:before {content: \"▸\";float: left;margin-right: 0.25em;color: #696969;}#sk-container-id-2 label.sk-toggleable__label-arrow:hover:before {color: black;}#sk-container-id-2 div.sk-estimator:hover label.sk-toggleable__label-arrow:before {color: black;}#sk-container-id-2 div.sk-toggleable__content {max-height: 0;max-width: 0;overflow: hidden;text-align: left;background-color: #f0f8ff;}#sk-container-id-2 div.sk-toggleable__content pre {margin: 0.2em;color: black;border-radius: 0.25em;background-color: #f0f8ff;}#sk-container-id-2 input.sk-toggleable__control:checked~div.sk-toggleable__content {max-height: 200px;max-width: 100%;overflow: auto;}#sk-container-id-2 input.sk-toggleable__control:checked~label.sk-toggleable__label-arrow:before {content: \"▾\";}#sk-container-id-2 div.sk-estimator input.sk-toggleable__control:checked~label.sk-toggleable__label {background-color: #d4ebff;}#sk-container-id-2 div.sk-label input.sk-toggleable__control:checked~label.sk-toggleable__label {background-color: #d4ebff;}#sk-container-id-2 input.sk-hidden--visually {border: 0;clip: rect(1px 1px 1px 1px);clip: rect(1px, 1px, 1px, 1px);height: 1px;margin: -1px;overflow: hidden;padding: 0;position: absolute;width: 1px;}#sk-container-id-2 div.sk-estimator {font-family: monospace;background-color: #f0f8ff;border: 1px dotted black;border-radius: 0.25em;box-sizing: border-box;margin-bottom: 0.5em;}#sk-container-id-2 div.sk-estimator:hover {background-color: #d4ebff;}#sk-container-id-2 div.sk-parallel-item::after {content: \"\";width: 100%;border-bottom: 1px solid gray;flex-grow: 1;}#sk-container-id-2 div.sk-label:hover label.sk-toggleable__label {background-color: #d4ebff;}#sk-container-id-2 div.sk-serial::before {content: \"\";position: absolute;border-left: 1px solid gray;box-sizing: border-box;top: 0;bottom: 0;left: 50%;z-index: 0;}#sk-container-id-2 div.sk-serial {display: flex;flex-direction: column;align-items: center;background-color: white;padding-right: 0.2em;padding-left: 0.2em;position: relative;}#sk-container-id-2 div.sk-item {position: relative;z-index: 1;}#sk-container-id-2 div.sk-parallel {display: flex;align-items: stretch;justify-content: center;background-color: white;position: relative;}#sk-container-id-2 div.sk-item::before, #sk-container-id-2 div.sk-parallel-item::before {content: \"\";position: absolute;border-left: 1px solid gray;box-sizing: border-box;top: 0;bottom: 0;left: 50%;z-index: -1;}#sk-container-id-2 div.sk-parallel-item {display: flex;flex-direction: column;z-index: 1;position: relative;background-color: white;}#sk-container-id-2 div.sk-parallel-item:first-child::after {align-self: flex-end;width: 50%;}#sk-container-id-2 div.sk-parallel-item:last-child::after {align-self: flex-start;width: 50%;}#sk-container-id-2 div.sk-parallel-item:only-child::after {width: 0;}#sk-container-id-2 div.sk-dashed-wrapped {border: 1px dashed gray;margin: 0 0.4em 0.5em 0.4em;box-sizing: border-box;padding-bottom: 0.4em;background-color: white;}#sk-container-id-2 div.sk-label label {font-family: monospace;font-weight: bold;display: inline-block;line-height: 1.2em;}#sk-container-id-2 div.sk-label-container {text-align: center;}#sk-container-id-2 div.sk-container {/* jupyter's `normalize.less` sets `[hidden] { display: none; }` but bootstrap.min.css set `[hidden] { display: none !important; }` so we also need the `!important` here to be able to override the default hidden behavior on the sphinx rendered scikit-learn.org. See: https://github.com/scikit-learn/scikit-learn/issues/21755 */display: inline-block !important;position: relative;}#sk-container-id-2 div.sk-text-repr-fallback {display: none;}</style><div id=\"sk-container-id-2\" class=\"sk-top-container\"><div class=\"sk-text-repr-fallback\"><pre>Pipeline(steps=[(&#x27;feature_selection&#x27;,\n",
       "                 SelectKBest(k=5,\n",
       "                             score_func=&lt;function f_regression at 0x0000027DFBE74430&gt;)),\n",
       "                (&#x27;rf&#x27;, RandomForestClassifier(random_state=123))])</pre><b>In a Jupyter environment, please rerun this cell to show the HTML representation or trust the notebook. <br />On GitHub, the HTML representation is unable to render, please try loading this page with nbviewer.org.</b></div><div class=\"sk-container\" hidden><div class=\"sk-item sk-dashed-wrapped\"><div class=\"sk-label-container\"><div class=\"sk-label sk-toggleable\"><input class=\"sk-toggleable__control sk-hidden--visually\" id=\"sk-estimator-id-4\" type=\"checkbox\" ><label for=\"sk-estimator-id-4\" class=\"sk-toggleable__label sk-toggleable__label-arrow\">Pipeline</label><div class=\"sk-toggleable__content\"><pre>Pipeline(steps=[(&#x27;feature_selection&#x27;,\n",
       "                 SelectKBest(k=5,\n",
       "                             score_func=&lt;function f_regression at 0x0000027DFBE74430&gt;)),\n",
       "                (&#x27;rf&#x27;, RandomForestClassifier(random_state=123))])</pre></div></div></div><div class=\"sk-serial\"><div class=\"sk-item\"><div class=\"sk-estimator sk-toggleable\"><input class=\"sk-toggleable__control sk-hidden--visually\" id=\"sk-estimator-id-5\" type=\"checkbox\" ><label for=\"sk-estimator-id-5\" class=\"sk-toggleable__label sk-toggleable__label-arrow\">SelectKBest</label><div class=\"sk-toggleable__content\"><pre>SelectKBest(k=5, score_func=&lt;function f_regression at 0x0000027DFBE74430&gt;)</pre></div></div></div><div class=\"sk-item\"><div class=\"sk-estimator sk-toggleable\"><input class=\"sk-toggleable__control sk-hidden--visually\" id=\"sk-estimator-id-6\" type=\"checkbox\" ><label for=\"sk-estimator-id-6\" class=\"sk-toggleable__label sk-toggleable__label-arrow\">RandomForestClassifier</label><div class=\"sk-toggleable__content\"><pre>RandomForestClassifier(random_state=123)</pre></div></div></div></div></div></div></div>"
      ],
      "text/plain": [
       "Pipeline(steps=[('feature_selection',\n",
       "                 SelectKBest(k=5,\n",
       "                             score_func=<function f_regression at 0x0000027DFBE74430>)),\n",
       "                ('rf', RandomForestClassifier(random_state=123))])"
      ]
     },
     "execution_count": 21,
     "metadata": {},
     "output_type": "execute_result"
    }
   ],
   "source": [
    "pipe_rf.fit(X_train, y_train.values.ravel())"
   ]
  },
  {
   "cell_type": "code",
   "execution_count": 22,
   "id": "2004787b",
   "metadata": {},
   "outputs": [],
   "source": [
    "y_tr_pred_rf = pipe_rf.predict(X_train)\n",
    "y_te_pred_rf = pipe_rf.predict(X_test)"
   ]
  },
  {
   "cell_type": "code",
   "execution_count": 23,
   "id": "c36fb27a",
   "metadata": {},
   "outputs": [
    {
     "name": "stdout",
     "output_type": "stream",
     "text": [
      "0.8045415910500564\n"
     ]
    },
    {
     "name": "stderr",
     "output_type": "stream",
     "text": [
      "C:\\Users\\Yan Zhang\\anaconda3\\lib\\site-packages\\sklearn\\base.py:465: UserWarning: X does not have valid feature names, but SelectKBest was fitted with feature names\n",
      "  warnings.warn(\n"
     ]
    }
   ],
   "source": [
    "y_pred_rf_probs = pipe_rf.predict_proba(X_test.values) [:,1]\n",
    "print(roc_auc_score(y_test, y_pred_rf_probs))"
   ]
  },
  {
   "cell_type": "code",
   "execution_count": 24,
   "id": "0eb3d392",
   "metadata": {},
   "outputs": [
    {
     "data": {
      "text/plain": [
       "(1.0, 0.8052149337759484)"
      ]
     },
     "execution_count": 24,
     "metadata": {},
     "output_type": "execute_result"
    }
   ],
   "source": [
    "precision_score(y_train, y_tr_pred_rf, average = \"weighted\" ), precision_score(y_test, y_te_pred_rf, average =\"weighted\")"
   ]
  },
  {
   "cell_type": "markdown",
   "id": "a54594a2",
   "metadata": {},
   "source": [
    "### check cross validation score"
   ]
  },
  {
   "cell_type": "code",
   "execution_count": 25,
   "id": "a54c324c",
   "metadata": {},
   "outputs": [],
   "source": [
    "cv_results_rf = cross_validate(pipe_rf, X_train, y_train.values.ravel(), cv=5,scoring = \"precision\")\n",
    "cv_scores_rf = cv_results_rf['test_score']"
   ]
  },
  {
   "cell_type": "code",
   "execution_count": 26,
   "id": "0c06b91d",
   "metadata": {},
   "outputs": [
    {
     "data": {
      "text/plain": [
       "(1.0, 0.45429362880886426)"
      ]
     },
     "execution_count": 26,
     "metadata": {},
     "output_type": "execute_result"
    }
   ],
   "source": [
    "precision_score(y_train, y_tr_pred_rf), precision_score(y_test, y_te_pred_rf)"
   ]
  },
  {
   "cell_type": "code",
   "execution_count": 27,
   "id": "9139a80e",
   "metadata": {},
   "outputs": [
    {
     "data": {
      "text/plain": [
       "(0.8394490308826524, 0.018390079282393803)"
      ]
     },
     "execution_count": 27,
     "metadata": {},
     "output_type": "execute_result"
    }
   ],
   "source": [
    "np.mean(cv_scores_rf), np.std(cv_scores_rf)"
   ]
  },
  {
   "cell_type": "markdown",
   "id": "2caff5eb",
   "metadata": {},
   "source": [
    "### tunning random forest model"
   ]
  },
  {
   "cell_type": "code",
   "execution_count": 28,
   "id": "b09c9856",
   "metadata": {},
   "outputs": [
    {
     "data": {
      "text/plain": [
       "{'rf__n_estimators': 500}"
      ]
     },
     "execution_count": 28,
     "metadata": {},
     "output_type": "execute_result"
    }
   ],
   "source": [
    "pipe = Pipeline(\n",
    "    steps =[(\"feature_selection\",SelectKBest(score_func=f_regression,k=5)),(\"rf\",\n",
    "    RandomForestClassifier(random_state= 123))]\n",
    ")\n",
    "\n",
    "#k = [k+1 for k in range(len(X_train.columns))]\n",
    "n_est = [50,100,300,500]\n",
    "grid_params = {'rf__n_estimators': n_est}\n",
    "\n",
    "# grid_params = {'feature_selection__k': k,\n",
    "#         'rf__n_estimators': n_est\n",
    "# }\n",
    "\n",
    "rf_grid_cv = GridSearchCV(pipe, param_grid=grid_params,scoring =\"precision\", cv=5, n_jobs=-1)\n",
    "rf_grid_cv.fit(X_train, y_train.values.ravel())\n",
    "rf_grid_cv.best_params_"
   ]
  },
  {
   "cell_type": "code",
   "execution_count": 29,
   "id": "6115249c",
   "metadata": {},
   "outputs": [
    {
     "data": {
      "image/png": "[encoded data removed]",
      "text/plain": [
       "<Figure size 1000x500 with 1 Axes>"
      ]
     },
     "metadata": {},
     "output_type": "display_data"
    }
   ],
   "source": [
    "#Plot a barplot of the random forest's feature importances,\n",
    "#assigning the `feature_importances_` attribute of \n",
    "\n",
    "features_imp = rf_grid_cv.best_estimator_.named_steps.rf.feature_importances_\n",
    "\n",
    "feature_names =  rf_grid_cv.best_estimator_.named_steps.feature_selection.get_feature_names_out()\n",
    "\n",
    "plt.subplots(figsize=(10, 5))\n",
    "rf_feat = pd.Series(features_imp, index=feature_names).sort_values(ascending=False)\n",
    "rf_feat.plot(kind='bar')\n",
    "plt.xlabel('feature name')\n",
    "plt.ylabel('importance')\n",
    "plt.title('Tunied random forest feature importances');"
   ]
  },
  {
   "cell_type": "code",
   "execution_count": 30,
   "id": "7fe5a0d7",
   "metadata": {},
   "outputs": [
    {
     "name": "stdout",
     "output_type": "stream",
     "text": [
      "0.8057067887763255\n"
     ]
    },
    {
     "name": "stderr",
     "output_type": "stream",
     "text": [
      "C:\\Users\\Yan Zhang\\anaconda3\\lib\\site-packages\\sklearn\\base.py:465: UserWarning: X does not have valid feature names, but SelectKBest was fitted with feature names\n",
      "  warnings.warn(\n"
     ]
    }
   ],
   "source": [
    "cv_rf = cross_validate(rf_grid_cv.best_estimator_, X_train, y_train, \n",
    "                            scoring='precision', cv=5, n_jobs=-1)\n",
    "cv_scores_rf = cv_rf['test_score']\n",
    "np.mean(cv_scores_rf), np.std(cv_scores_rf)\n",
    "\n",
    "y_tr_pred = rf_grid_cv.best_estimator_.predict(X_train)\n",
    "y_te_pred = rf_grid_cv.best_estimator_.predict(X_test)\n",
    "y_pred_probs = rf_grid_cv.best_estimator_.predict_proba(X_test.values) [:,1]\n",
    "print(roc_auc_score(y_test, y_pred_probs))"
   ]
  },
  {
   "cell_type": "code",
   "execution_count": 31,
   "id": "7523af83",
   "metadata": {},
   "outputs": [
    {
     "data": {
      "image/png": "[encoded data removed]",
      "text/plain": [
       "<Figure size 640x480 with 2 Axes>"
      ]
     },
     "metadata": {},
     "output_type": "display_data"
    },
    {
     "name": "stdout",
     "output_type": "stream",
     "text": [
      "              precision    recall  f1-score   support\n",
      "\n",
      "           0       0.89      0.84      0.86      1293\n",
      "           1       0.45      0.54      0.49       303\n",
      "\n",
      "    accuracy                           0.79      1596\n",
      "   macro avg       0.67      0.69      0.68      1596\n",
      "weighted avg       0.80      0.79      0.79      1596\n",
      "\n"
     ]
    }
   ],
   "source": [
    "report_rf = classification_report(y_test, y_te_pred)\n",
    "cm_rf = confusion_matrix(y_test, y_te_pred)\n",
    "ConfusionMatrixDisplay(confusion_matrix=cm_rf,\n",
    "                       display_labels=rf_grid_cv.classes_).plot()\n",
    "plt.show()\n",
    "print(classification_report(y_test, y_te_pred))"
   ]
  },
  {
   "cell_type": "markdown",
   "id": "2a720546",
   "metadata": {},
   "source": [
    "## XGBoost model"
   ]
  },
  {
   "cell_type": "markdown",
   "id": "1f766d12",
   "metadata": {},
   "source": [
    "### Initial modeling"
   ]
  },
  {
   "cell_type": "code",
   "execution_count": 32,
   "id": "0d00db77",
   "metadata": {},
   "outputs": [],
   "source": [
    "pipe_xgb = Pipeline(\n",
    "    steps =[(\"feature_selection\",SelectKBest(score_func=f_regression,k=5)),(\"xgb\",\n",
    "    XGBClassifier(objective='binary:logistic',learning_rate=0.1 , n_estimators=300, random_state=123))]\n",
    ")"
   ]
  },
  {
   "cell_type": "code",
   "execution_count": 33,
   "id": "aacb0112",
   "metadata": {},
   "outputs": [
    {
     "data": {
      "text/html": [
       "<style>#sk-container-id-3 {color: black;}#sk-container-id-3 pre{padding: 0;}#sk-container-id-3 div.sk-toggleable {background-color: white;}#sk-container-id-3 label.sk-toggleable__label {cursor: pointer;display: block;width: 100%;margin-bottom: 0;padding: 0.3em;box-sizing: border-box;text-align: center;}#sk-container-id-3 label.sk-toggleable__label-arrow:before {content: \"▸\";float: left;margin-right: 0.25em;color: #696969;}#sk-container-id-3 label.sk-toggleable__label-arrow:hover:before {color: black;}#sk-container-id-3 div.sk-estimator:hover label.sk-toggleable__label-arrow:before {color: black;}#sk-container-id-3 div.sk-toggleable__content {max-height: 0;max-width: 0;overflow: hidden;text-align: left;background-color: #f0f8ff;}#sk-container-id-3 div.sk-toggleable__content pre {margin: 0.2em;color: black;border-radius: 0.25em;background-color: #f0f8ff;}#sk-container-id-3 input.sk-toggleable__control:checked~div.sk-toggleable__content {max-height: 200px;max-width: 100%;overflow: auto;}#sk-container-id-3 input.sk-toggleable__control:checked~label.sk-toggleable__label-arrow:before {content: \"▾\";}#sk-container-id-3 div.sk-estimator input.sk-toggleable__control:checked~label.sk-toggleable__label {background-color: #d4ebff;}#sk-container-id-3 div.sk-label input.sk-toggleable__control:checked~label.sk-toggleable__label {background-color: #d4ebff;}#sk-container-id-3 input.sk-hidden--visually {border: 0;clip: rect(1px 1px 1px 1px);clip: rect(1px, 1px, 1px, 1px);height: 1px;margin: -1px;overflow: hidden;padding: 0;position: absolute;width: 1px;}#sk-container-id-3 div.sk-estimator {font-family: monospace;background-color: #f0f8ff;border: 1px dotted black;border-radius: 0.25em;box-sizing: border-box;margin-bottom: 0.5em;}#sk-container-id-3 div.sk-estimator:hover {background-color: #d4ebff;}#sk-container-id-3 div.sk-parallel-item::after {content: \"\";width: 100%;border-bottom: 1px solid gray;flex-grow: 1;}#sk-container-id-3 div.sk-label:hover label.sk-toggleable__label {background-color: #d4ebff;}#sk-container-id-3 div.sk-serial::before {content: \"\";position: absolute;border-left: 1px solid gray;box-sizing: border-box;top: 0;bottom: 0;left: 50%;z-index: 0;}#sk-container-id-3 div.sk-serial {display: flex;flex-direction: column;align-items: center;background-color: white;padding-right: 0.2em;padding-left: 0.2em;position: relative;}#sk-container-id-3 div.sk-item {position: relative;z-index: 1;}#sk-container-id-3 div.sk-parallel {display: flex;align-items: stretch;justify-content: center;background-color: white;position: relative;}#sk-container-id-3 div.sk-item::before, #sk-container-id-3 div.sk-parallel-item::before {content: \"\";position: absolute;border-left: 1px solid gray;box-sizing: border-box;top: 0;bottom: 0;left: 50%;z-index: -1;}#sk-container-id-3 div.sk-parallel-item {display: flex;flex-direction: column;z-index: 1;position: relative;background-color: white;}#sk-container-id-3 div.sk-parallel-item:first-child::after {align-self: flex-end;width: 50%;}#sk-container-id-3 div.sk-parallel-item:last-child::after {align-self: flex-start;width: 50%;}#sk-container-id-3 div.sk-parallel-item:only-child::after {width: 0;}#sk-container-id-3 div.sk-dashed-wrapped {border: 1px dashed gray;margin: 0 0.4em 0.5em 0.4em;box-sizing: border-box;padding-bottom: 0.4em;background-color: white;}#sk-container-id-3 div.sk-label label {font-family: monospace;font-weight: bold;display: inline-block;line-height: 1.2em;}#sk-container-id-3 div.sk-label-container {text-align: center;}#sk-container-id-3 div.sk-container {/* jupyter's `normalize.less` sets `[hidden] { display: none; }` but bootstrap.min.css set `[hidden] { display: none !important; }` so we also need the `!important` here to be able to override the default hidden behavior on the sphinx rendered scikit-learn.org. See: https://github.com/scikit-learn/scikit-learn/issues/21755 */display: inline-block !important;position: relative;}#sk-container-id-3 div.sk-text-repr-fallback {display: none;}</style><div id=\"sk-container-id-3\" class=\"sk-top-container\"><div class=\"sk-text-repr-fallback\"><pre>Pipeline(steps=[(&#x27;feature_selection&#x27;,\n",
       "                 SelectKBest(k=5,\n",
       "                             score_func=&lt;function f_regression at 0x0000027DFBE74430&gt;)),\n",
       "                (&#x27;xgb&#x27;,\n",
       "                 XGBClassifier(base_score=None, booster=None, callbacks=None,\n",
       "                               colsample_bylevel=None, colsample_bynode=None,\n",
       "                               colsample_bytree=None, device=None,\n",
       "                               early_stopping_rounds=None,\n",
       "                               enable_categorical=False, eval_metric=None,\n",
       "                               feature_types=None, gamma=Non...row_policy=None,\n",
       "                               importance_type=None,\n",
       "                               interaction_constraints=None, learning_rate=0.1,\n",
       "                               max_bin=None, max_cat_threshold=None,\n",
       "                               max_cat_to_onehot=None, max_delta_step=None,\n",
       "                               max_depth=None, max_leaves=None,\n",
       "                               min_child_weight=None, missing=nan,\n",
       "                               monotone_constraints=None, multi_strategy=None,\n",
       "                               n_estimators=300, n_jobs=None,\n",
       "                               num_parallel_tree=None, random_state=123, ...))])</pre><b>In a Jupyter environment, please rerun this cell to show the HTML representation or trust the notebook. <br />On GitHub, the HTML representation is unable to render, please try loading this page with nbviewer.org.</b></div><div class=\"sk-container\" hidden><div class=\"sk-item sk-dashed-wrapped\"><div class=\"sk-label-container\"><div class=\"sk-label sk-toggleable\"><input class=\"sk-toggleable__control sk-hidden--visually\" id=\"sk-estimator-id-7\" type=\"checkbox\" ><label for=\"sk-estimator-id-7\" class=\"sk-toggleable__label sk-toggleable__label-arrow\">Pipeline</label><div class=\"sk-toggleable__content\"><pre>Pipeline(steps=[(&#x27;feature_selection&#x27;,\n",
       "                 SelectKBest(k=5,\n",
       "                             score_func=&lt;function f_regression at 0x0000027DFBE74430&gt;)),\n",
       "                (&#x27;xgb&#x27;,\n",
       "                 XGBClassifier(base_score=None, booster=None, callbacks=None,\n",
       "                               colsample_bylevel=None, colsample_bynode=None,\n",
       "                               colsample_bytree=None, device=None,\n",
       "                               early_stopping_rounds=None,\n",
       "                               enable_categorical=False, eval_metric=None,\n",
       "                               feature_types=None, gamma=Non...row_policy=None,\n",
       "                               importance_type=None,\n",
       "                               interaction_constraints=None, learning_rate=0.1,\n",
       "                               max_bin=None, max_cat_threshold=None,\n",
       "                               max_cat_to_onehot=None, max_delta_step=None,\n",
       "                               max_depth=None, max_leaves=None,\n",
       "                               min_child_weight=None, missing=nan,\n",
       "                               monotone_constraints=None, multi_strategy=None,\n",
       "                               n_estimators=300, n_jobs=None,\n",
       "                               num_parallel_tree=None, random_state=123, ...))])</pre></div></div></div><div class=\"sk-serial\"><div class=\"sk-item\"><div class=\"sk-estimator sk-toggleable\"><input class=\"sk-toggleable__control sk-hidden--visually\" id=\"sk-estimator-id-8\" type=\"checkbox\" ><label for=\"sk-estimator-id-8\" class=\"sk-toggleable__label sk-toggleable__label-arrow\">SelectKBest</label><div class=\"sk-toggleable__content\"><pre>SelectKBest(k=5, score_func=&lt;function f_regression at 0x0000027DFBE74430&gt;)</pre></div></div></div><div class=\"sk-item\"><div class=\"sk-estimator sk-toggleable\"><input class=\"sk-toggleable__control sk-hidden--visually\" id=\"sk-estimator-id-9\" type=\"checkbox\" ><label for=\"sk-estimator-id-9\" class=\"sk-toggleable__label sk-toggleable__label-arrow\">XGBClassifier</label><div class=\"sk-toggleable__content\"><pre>XGBClassifier(base_score=None, booster=None, callbacks=None,\n",
       "              colsample_bylevel=None, colsample_bynode=None,\n",
       "              colsample_bytree=None, device=None, early_stopping_rounds=None,\n",
       "              enable_categorical=False, eval_metric=None, feature_types=None,\n",
       "              gamma=None, grow_policy=None, importance_type=None,\n",
       "              interaction_constraints=None, learning_rate=0.1, max_bin=None,\n",
       "              max_cat_threshold=None, max_cat_to_onehot=None,\n",
       "              max_delta_step=None, max_depth=None, max_leaves=None,\n",
       "              min_child_weight=None, missing=nan, monotone_constraints=None,\n",
       "              multi_strategy=None, n_estimators=300, n_jobs=None,\n",
       "              num_parallel_tree=None, random_state=123, ...)</pre></div></div></div></div></div></div></div>"
      ],
      "text/plain": [
       "Pipeline(steps=[('feature_selection',\n",
       "                 SelectKBest(k=5,\n",
       "                             score_func=<function f_regression at 0x0000027DFBE74430>)),\n",
       "                ('xgb',\n",
       "                 XGBClassifier(base_score=None, booster=None, callbacks=None,\n",
       "                               colsample_bylevel=None, colsample_bynode=None,\n",
       "                               colsample_bytree=None, device=None,\n",
       "                               early_stopping_rounds=None,\n",
       "                               enable_categorical=False, eval_metric=None,\n",
       "                               feature_types=None, gamma=Non...row_policy=None,\n",
       "                               importance_type=None,\n",
       "                               interaction_constraints=None, learning_rate=0.1,\n",
       "                               max_bin=None, max_cat_threshold=None,\n",
       "                               max_cat_to_onehot=None, max_delta_step=None,\n",
       "                               max_depth=None, max_leaves=None,\n",
       "                               min_child_weight=None, missing=nan,\n",
       "                               monotone_constraints=None, multi_strategy=None,\n",
       "                               n_estimators=300, n_jobs=None,\n",
       "                               num_parallel_tree=None, random_state=123, ...))])"
      ]
     },
     "execution_count": 33,
     "metadata": {},
     "output_type": "execute_result"
    }
   ],
   "source": [
    "pipe_xgb.fit(X_train, y_train.values.ravel())"
   ]
  },
  {
   "cell_type": "code",
   "execution_count": 34,
   "id": "a7de21fa",
   "metadata": {},
   "outputs": [
    {
     "name": "stdout",
     "output_type": "stream",
     "text": [
      "0.7844128960459852\n"
     ]
    },
    {
     "name": "stderr",
     "output_type": "stream",
     "text": [
      "C:\\Users\\Yan Zhang\\anaconda3\\lib\\site-packages\\sklearn\\base.py:465: UserWarning: X does not have valid feature names, but SelectKBest was fitted with feature names\n",
      "  warnings.warn(\n"
     ]
    }
   ],
   "source": [
    "y_tr_pred_xgb = pipe_xgb.predict(X_train)\n",
    "y_te_pred_xgb = pipe_xgb.predict(X_test)\n",
    "y_pred_xgb_probs = pipe_xgb.predict_proba(X_test.values) [:,1]\n",
    "print(roc_auc_score(y_test, y_pred_xgb_probs))"
   ]
  },
  {
   "cell_type": "code",
   "execution_count": 35,
   "id": "62d6ac57",
   "metadata": {},
   "outputs": [
    {
     "data": {
      "text/plain": [
       "(0.9706945998792486, 0.7940586736756308)"
      ]
     },
     "execution_count": 35,
     "metadata": {},
     "output_type": "execute_result"
    }
   ],
   "source": [
    "precision_score(y_train, y_tr_pred_xgb, average = \"weighted\" ), precision_score(y_test, y_te_pred_xgb, average =\"weighted\")"
   ]
  },
  {
   "cell_type": "code",
   "execution_count": 36,
   "id": "1be58e08",
   "metadata": {},
   "outputs": [
    {
     "data": {
      "image/png": "[encoded data removed]",
      "text/plain": [
       "<Figure size 640x480 with 2 Axes>"
      ]
     },
     "metadata": {},
     "output_type": "display_data"
    },
    {
     "name": "stdout",
     "output_type": "stream",
     "text": [
      "              precision    recall  f1-score   support\n",
      "\n",
      "           0       0.87      0.88      0.87      1293\n",
      "           1       0.46      0.45      0.46       303\n",
      "\n",
      "    accuracy                           0.80      1596\n",
      "   macro avg       0.67      0.66      0.67      1596\n",
      "weighted avg       0.79      0.80      0.80      1596\n",
      "\n"
     ]
    }
   ],
   "source": [
    "report_log = classification_report(y_test, y_te_pred_xgb)\n",
    "cm_xgb = confusion_matrix(y_test, y_te_pred_xgb)\n",
    "ConfusionMatrixDisplay(confusion_matrix=cm_xgb,display_labels=pipe_xgb.classes_).plot()\n",
    "plt.show()\n",
    "print(classification_report(y_test, y_te_pred_xgb))"
   ]
  },
  {
   "cell_type": "markdown",
   "id": "3c25c4b9",
   "metadata": {},
   "source": [
    "### cross validation"
   ]
  },
  {
   "cell_type": "code",
   "execution_count": 37,
   "id": "c200591b",
   "metadata": {},
   "outputs": [
    {
     "data": {
      "text/plain": [
       "array([0.87368421, 0.8576    , 0.84615385, 0.84763314, 0.87003058])"
      ]
     },
     "execution_count": 37,
     "metadata": {},
     "output_type": "execute_result"
    }
   ],
   "source": [
    "cv_results_xgb = cross_validate(pipe_xgb, X_train, y_train.values.ravel(), cv=5,scoring = \"precision\")\n",
    "cv_scores_xgb = cv_results_xgb['test_score']\n",
    "cv_scores_xgb"
   ]
  },
  {
   "cell_type": "code",
   "execution_count": 38,
   "id": "5d2cec83",
   "metadata": {},
   "outputs": [
    {
     "data": {
      "text/plain": [
       "(0.8590203547629185, 0.01125599350528554)"
      ]
     },
     "execution_count": 38,
     "metadata": {},
     "output_type": "execute_result"
    }
   ],
   "source": [
    "np.mean(cv_scores_xgb), np.std(cv_scores_xgb)"
   ]
  },
  {
   "cell_type": "markdown",
   "id": "7cc90282",
   "metadata": {},
   "source": [
    "### xgb model tunning"
   ]
  },
  {
   "cell_type": "code",
   "execution_count": 39,
   "id": "385ac441",
   "metadata": {},
   "outputs": [
    {
     "data": {
      "text/plain": [
       "dict_keys(['memory', 'steps', 'verbose', 'feature_selection', 'xgb', 'feature_selection__k', 'feature_selection__score_func', 'xgb__objective', 'xgb__base_score', 'xgb__booster', 'xgb__callbacks', 'xgb__colsample_bylevel', 'xgb__colsample_bynode', 'xgb__colsample_bytree', 'xgb__device', 'xgb__early_stopping_rounds', 'xgb__enable_categorical', 'xgb__eval_metric', 'xgb__feature_types', 'xgb__gamma', 'xgb__grow_policy', 'xgb__importance_type', 'xgb__interaction_constraints', 'xgb__learning_rate', 'xgb__max_bin', 'xgb__max_cat_threshold', 'xgb__max_cat_to_onehot', 'xgb__max_delta_step', 'xgb__max_depth', 'xgb__max_leaves', 'xgb__min_child_weight', 'xgb__missing', 'xgb__monotone_constraints', 'xgb__multi_strategy', 'xgb__n_estimators', 'xgb__n_jobs', 'xgb__num_parallel_tree', 'xgb__random_state', 'xgb__reg_alpha', 'xgb__reg_lambda', 'xgb__sampling_method', 'xgb__scale_pos_weight', 'xgb__subsample', 'xgb__tree_method', 'xgb__validate_parameters', 'xgb__verbosity'])"
      ]
     },
     "execution_count": 39,
     "metadata": {},
     "output_type": "execute_result"
    }
   ],
   "source": [
    "pipe_xgb.get_params().keys()"
   ]
  },
  {
   "cell_type": "code",
   "execution_count": 40,
   "id": "fbf6da0f",
   "metadata": {},
   "outputs": [],
   "source": [
    "gbm_param_grid = {\n",
    "   'xgb__learning_rate' : np.arange(0.05, 1,0.05),\n",
    "    'xgb__max_depth': np.arange(3, 10, 1),\n",
    "    'xgb__n_estimators': np.arange(50,200, 50)\n",
    "}\n"
   ]
  },
  {
   "cell_type": "code",
   "execution_count": 41,
   "id": "3c2fb981",
   "metadata": {},
   "outputs": [
    {
     "name": "stdout",
     "output_type": "stream",
     "text": [
      "Fitting 5 folds for each of 2 candidates, totalling 10 fits\n"
     ]
    },
    {
     "data": {
      "text/html": [
       "<style>#sk-container-id-4 {color: black;}#sk-container-id-4 pre{padding: 0;}#sk-container-id-4 div.sk-toggleable {background-color: white;}#sk-container-id-4 label.sk-toggleable__label {cursor: pointer;display: block;width: 100%;margin-bottom: 0;padding: 0.3em;box-sizing: border-box;text-align: center;}#sk-container-id-4 label.sk-toggleable__label-arrow:before {content: \"▸\";float: left;margin-right: 0.25em;color: #696969;}#sk-container-id-4 label.sk-toggleable__label-arrow:hover:before {color: black;}#sk-container-id-4 div.sk-estimator:hover label.sk-toggleable__label-arrow:before {color: black;}#sk-container-id-4 div.sk-toggleable__content {max-height: 0;max-width: 0;overflow: hidden;text-align: left;background-color: #f0f8ff;}#sk-container-id-4 div.sk-toggleable__content pre {margin: 0.2em;color: black;border-radius: 0.25em;background-color: #f0f8ff;}#sk-container-id-4 input.sk-toggleable__control:checked~div.sk-toggleable__content {max-height: 200px;max-width: 100%;overflow: auto;}#sk-container-id-4 input.sk-toggleable__control:checked~label.sk-toggleable__label-arrow:before {content: \"▾\";}#sk-container-id-4 div.sk-estimator input.sk-toggleable__control:checked~label.sk-toggleable__label {background-color: #d4ebff;}#sk-container-id-4 div.sk-label input.sk-toggleable__control:checked~label.sk-toggleable__label {background-color: #d4ebff;}#sk-container-id-4 input.sk-hidden--visually {border: 0;clip: rect(1px 1px 1px 1px);clip: rect(1px, 1px, 1px, 1px);height: 1px;margin: -1px;overflow: hidden;padding: 0;position: absolute;width: 1px;}#sk-container-id-4 div.sk-estimator {font-family: monospace;background-color: #f0f8ff;border: 1px dotted black;border-radius: 0.25em;box-sizing: border-box;margin-bottom: 0.5em;}#sk-container-id-4 div.sk-estimator:hover {background-color: #d4ebff;}#sk-container-id-4 div.sk-parallel-item::after {content: \"\";width: 100%;border-bottom: 1px solid gray;flex-grow: 1;}#sk-container-id-4 div.sk-label:hover label.sk-toggleable__label {background-color: #d4ebff;}#sk-container-id-4 div.sk-serial::before {content: \"\";position: absolute;border-left: 1px solid gray;box-sizing: border-box;top: 0;bottom: 0;left: 50%;z-index: 0;}#sk-container-id-4 div.sk-serial {display: flex;flex-direction: column;align-items: center;background-color: white;padding-right: 0.2em;padding-left: 0.2em;position: relative;}#sk-container-id-4 div.sk-item {position: relative;z-index: 1;}#sk-container-id-4 div.sk-parallel {display: flex;align-items: stretch;justify-content: center;background-color: white;position: relative;}#sk-container-id-4 div.sk-item::before, #sk-container-id-4 div.sk-parallel-item::before {content: \"\";position: absolute;border-left: 1px solid gray;box-sizing: border-box;top: 0;bottom: 0;left: 50%;z-index: -1;}#sk-container-id-4 div.sk-parallel-item {display: flex;flex-direction: column;z-index: 1;position: relative;background-color: white;}#sk-container-id-4 div.sk-parallel-item:first-child::after {align-self: flex-end;width: 50%;}#sk-container-id-4 div.sk-parallel-item:last-child::after {align-self: flex-start;width: 50%;}#sk-container-id-4 div.sk-parallel-item:only-child::after {width: 0;}#sk-container-id-4 div.sk-dashed-wrapped {border: 1px dashed gray;margin: 0 0.4em 0.5em 0.4em;box-sizing: border-box;padding-bottom: 0.4em;background-color: white;}#sk-container-id-4 div.sk-label label {font-family: monospace;font-weight: bold;display: inline-block;line-height: 1.2em;}#sk-container-id-4 div.sk-label-container {text-align: center;}#sk-container-id-4 div.sk-container {/* jupyter's `normalize.less` sets `[hidden] { display: none; }` but bootstrap.min.css set `[hidden] { display: none !important; }` so we also need the `!important` here to be able to override the default hidden behavior on the sphinx rendered scikit-learn.org. See: https://github.com/scikit-learn/scikit-learn/issues/21755 */display: inline-block !important;position: relative;}#sk-container-id-4 div.sk-text-repr-fallback {display: none;}</style><div id=\"sk-container-id-4\" class=\"sk-top-container\"><div class=\"sk-text-repr-fallback\"><pre>RandomizedSearchCV(cv=5,\n",
       "                   estimator=Pipeline(steps=[(&#x27;feature_selection&#x27;,\n",
       "                                              SelectKBest(k=5,\n",
       "                                                          score_func=&lt;function f_regression at 0x0000027DFBE74430&gt;)),\n",
       "                                             (&#x27;xgb&#x27;,\n",
       "                                              XGBClassifier(base_score=None,\n",
       "                                                            booster=None,\n",
       "                                                            callbacks=None,\n",
       "                                                            colsample_bylevel=None,\n",
       "                                                            colsample_bynode=None,\n",
       "                                                            colsample_bytree=None,\n",
       "                                                            device=None,\n",
       "                                                            early_stopping_rounds=None,\n",
       "                                                            enable_categorical=False,\n",
       "                                                            eval_metric...\n",
       "                                                            multi_strategy=None,\n",
       "                                                            n_estimators=300,\n",
       "                                                            n_jobs=None,\n",
       "                                                            num_parallel_tree=None,\n",
       "                                                            random_state=123, ...))]),\n",
       "                   n_iter=2,\n",
       "                   param_distributions={&#x27;xgb__learning_rate&#x27;: array([0.05, 0.1 , 0.15, 0.2 , 0.25, 0.3 , 0.35, 0.4 , 0.45, 0.5 , 0.55,\n",
       "       0.6 , 0.65, 0.7 , 0.75, 0.8 , 0.85, 0.9 , 0.95]),\n",
       "                                        &#x27;xgb__max_depth&#x27;: array([3, 4, 5, 6, 7, 8, 9]),\n",
       "                                        &#x27;xgb__n_estimators&#x27;: array([ 50, 100, 150])},\n",
       "                   scoring=&#x27;precision&#x27;, verbose=1)</pre><b>In a Jupyter environment, please rerun this cell to show the HTML representation or trust the notebook. <br />On GitHub, the HTML representation is unable to render, please try loading this page with nbviewer.org.</b></div><div class=\"sk-container\" hidden><div class=\"sk-item sk-dashed-wrapped\"><div class=\"sk-label-container\"><div class=\"sk-label sk-toggleable\"><input class=\"sk-toggleable__control sk-hidden--visually\" id=\"sk-estimator-id-10\" type=\"checkbox\" ><label for=\"sk-estimator-id-10\" class=\"sk-toggleable__label sk-toggleable__label-arrow\">RandomizedSearchCV</label><div class=\"sk-toggleable__content\"><pre>RandomizedSearchCV(cv=5,\n",
       "                   estimator=Pipeline(steps=[(&#x27;feature_selection&#x27;,\n",
       "                                              SelectKBest(k=5,\n",
       "                                                          score_func=&lt;function f_regression at 0x0000027DFBE74430&gt;)),\n",
       "                                             (&#x27;xgb&#x27;,\n",
       "                                              XGBClassifier(base_score=None,\n",
       "                                                            booster=None,\n",
       "                                                            callbacks=None,\n",
       "                                                            colsample_bylevel=None,\n",
       "                                                            colsample_bynode=None,\n",
       "                                                            colsample_bytree=None,\n",
       "                                                            device=None,\n",
       "                                                            early_stopping_rounds=None,\n",
       "                                                            enable_categorical=False,\n",
       "                                                            eval_metric...\n",
       "                                                            multi_strategy=None,\n",
       "                                                            n_estimators=300,\n",
       "                                                            n_jobs=None,\n",
       "                                                            num_parallel_tree=None,\n",
       "                                                            random_state=123, ...))]),\n",
       "                   n_iter=2,\n",
       "                   param_distributions={&#x27;xgb__learning_rate&#x27;: array([0.05, 0.1 , 0.15, 0.2 , 0.25, 0.3 , 0.35, 0.4 , 0.45, 0.5 , 0.55,\n",
       "       0.6 , 0.65, 0.7 , 0.75, 0.8 , 0.85, 0.9 , 0.95]),\n",
       "                                        &#x27;xgb__max_depth&#x27;: array([3, 4, 5, 6, 7, 8, 9]),\n",
       "                                        &#x27;xgb__n_estimators&#x27;: array([ 50, 100, 150])},\n",
       "                   scoring=&#x27;precision&#x27;, verbose=1)</pre></div></div></div><div class=\"sk-parallel\"><div class=\"sk-parallel-item\"><div class=\"sk-item\"><div class=\"sk-label-container\"><div class=\"sk-label sk-toggleable\"><input class=\"sk-toggleable__control sk-hidden--visually\" id=\"sk-estimator-id-11\" type=\"checkbox\" ><label for=\"sk-estimator-id-11\" class=\"sk-toggleable__label sk-toggleable__label-arrow\">estimator: Pipeline</label><div class=\"sk-toggleable__content\"><pre>Pipeline(steps=[(&#x27;feature_selection&#x27;,\n",
       "                 SelectKBest(k=5,\n",
       "                             score_func=&lt;function f_regression at 0x0000027DFBE74430&gt;)),\n",
       "                (&#x27;xgb&#x27;,\n",
       "                 XGBClassifier(base_score=None, booster=None, callbacks=None,\n",
       "                               colsample_bylevel=None, colsample_bynode=None,\n",
       "                               colsample_bytree=None, device=None,\n",
       "                               early_stopping_rounds=None,\n",
       "                               enable_categorical=False, eval_metric=None,\n",
       "                               feature_types=None, gamma=Non...row_policy=None,\n",
       "                               importance_type=None,\n",
       "                               interaction_constraints=None, learning_rate=0.1,\n",
       "                               max_bin=None, max_cat_threshold=None,\n",
       "                               max_cat_to_onehot=None, max_delta_step=None,\n",
       "                               max_depth=None, max_leaves=None,\n",
       "                               min_child_weight=None, missing=nan,\n",
       "                               monotone_constraints=None, multi_strategy=None,\n",
       "                               n_estimators=300, n_jobs=None,\n",
       "                               num_parallel_tree=None, random_state=123, ...))])</pre></div></div></div><div class=\"sk-serial\"><div class=\"sk-item\"><div class=\"sk-serial\"><div class=\"sk-item\"><div class=\"sk-estimator sk-toggleable\"><input class=\"sk-toggleable__control sk-hidden--visually\" id=\"sk-estimator-id-12\" type=\"checkbox\" ><label for=\"sk-estimator-id-12\" class=\"sk-toggleable__label sk-toggleable__label-arrow\">SelectKBest</label><div class=\"sk-toggleable__content\"><pre>SelectKBest(k=5, score_func=&lt;function f_regression at 0x0000027DFBE74430&gt;)</pre></div></div></div><div class=\"sk-item\"><div class=\"sk-estimator sk-toggleable\"><input class=\"sk-toggleable__control sk-hidden--visually\" id=\"sk-estimator-id-13\" type=\"checkbox\" ><label for=\"sk-estimator-id-13\" class=\"sk-toggleable__label sk-toggleable__label-arrow\">XGBClassifier</label><div class=\"sk-toggleable__content\"><pre>XGBClassifier(base_score=None, booster=None, callbacks=None,\n",
       "              colsample_bylevel=None, colsample_bynode=None,\n",
       "              colsample_bytree=None, device=None, early_stopping_rounds=None,\n",
       "              enable_categorical=False, eval_metric=None, feature_types=None,\n",
       "              gamma=None, grow_policy=None, importance_type=None,\n",
       "              interaction_constraints=None, learning_rate=0.1, max_bin=None,\n",
       "              max_cat_threshold=None, max_cat_to_onehot=None,\n",
       "              max_delta_step=None, max_depth=None, max_leaves=None,\n",
       "              min_child_weight=None, missing=nan, monotone_constraints=None,\n",
       "              multi_strategy=None, n_estimators=300, n_jobs=None,\n",
       "              num_parallel_tree=None, random_state=123, ...)</pre></div></div></div></div></div></div></div></div></div></div></div></div>"
      ],
      "text/plain": [
       "RandomizedSearchCV(cv=5,\n",
       "                   estimator=Pipeline(steps=[('feature_selection',\n",
       "                                              SelectKBest(k=5,\n",
       "                                                          score_func=<function f_regression at 0x0000027DFBE74430>)),\n",
       "                                             ('xgb',\n",
       "                                              XGBClassifier(base_score=None,\n",
       "                                                            booster=None,\n",
       "                                                            callbacks=None,\n",
       "                                                            colsample_bylevel=None,\n",
       "                                                            colsample_bynode=None,\n",
       "                                                            colsample_bytree=None,\n",
       "                                                            device=None,\n",
       "                                                            early_stopping_rounds=None,\n",
       "                                                            enable_categorical=False,\n",
       "                                                            eval_metric...\n",
       "                                                            multi_strategy=None,\n",
       "                                                            n_estimators=300,\n",
       "                                                            n_jobs=None,\n",
       "                                                            num_parallel_tree=None,\n",
       "                                                            random_state=123, ...))]),\n",
       "                   n_iter=2,\n",
       "                   param_distributions={'xgb__learning_rate': array([0.05, 0.1 , 0.15, 0.2 , 0.25, 0.3 , 0.35, 0.4 , 0.45, 0.5 , 0.55,\n",
       "       0.6 , 0.65, 0.7 , 0.75, 0.8 , 0.85, 0.9 , 0.95]),\n",
       "                                        'xgb__max_depth': array([3, 4, 5, 6, 7, 8, 9]),\n",
       "                                        'xgb__n_estimators': array([ 50, 100, 150])},\n",
       "                   scoring='precision', verbose=1)"
      ]
     },
     "execution_count": 41,
     "metadata": {},
     "output_type": "execute_result"
    }
   ],
   "source": [
    "from sklearn.model_selection import RandomizedSearchCV\n",
    "xgb_randomized_cv = RandomizedSearchCV(pipe_xgb,gbm_param_grid,n_iter=2,scoring='precision',cv=5,verbose=1)\n",
    "xgb_randomized_cv.fit(X_train, y_train.values.ravel())\n"
   ]
  },
  {
   "cell_type": "code",
   "execution_count": 42,
   "id": "8348889d",
   "metadata": {},
   "outputs": [
    {
     "data": {
      "text/plain": [
       "{'xgb__n_estimators': 100,\n",
       " 'xgb__max_depth': 8,\n",
       " 'xgb__learning_rate': 0.7000000000000001}"
      ]
     },
     "execution_count": 42,
     "metadata": {},
     "output_type": "execute_result"
    }
   ],
   "source": [
    "xgb_randomized_cv.best_params_"
   ]
  },
  {
   "cell_type": "code",
   "execution_count": 43,
   "id": "2eb63b5c",
   "metadata": {},
   "outputs": [],
   "source": [
    "xgb_features_imp =xgb_randomized_cv.best_estimator_.named_steps[\"xgb\"].feature_importances_\n",
    "feature_names = xgb_randomized_cv.best_estimator_.named_steps.feature_selection.get_feature_names_out()"
   ]
  },
  {
   "cell_type": "code",
   "execution_count": 44,
   "id": "793ed734",
   "metadata": {},
   "outputs": [
    {
     "data": {
      "text/plain": [
       "<Axes: title={'center': 'xgb model feature importance'}, xlabel='feature important ratio', ylabel='Feature'>"
      ]
     },
     "execution_count": 44,
     "metadata": {},
     "output_type": "execute_result"
    },
    {
     "data": {
      "image/png": "[encoded data removed]",
      "text/plain": [
       "<Figure size 640x480 with 1 Axes>"
      ]
     },
     "metadata": {},
     "output_type": "display_data"
    }
   ],
   "source": [
    "\n",
    "# making a pandas dataframe\n",
    "data = list(zip(feature_names, xgb_features_imp))\n",
    "df_importances = pd.DataFrame(data, columns=['Feature', 'Importance']).sort_values(by='Importance')\n",
    "df_importances.plot.barh(x='Feature', y='Importance',xlabel = \"feature important ratio\", title=\"xgb model feature importance\")"
   ]
  },
  {
   "cell_type": "code",
   "execution_count": 45,
   "id": "83705cf5",
   "metadata": {},
   "outputs": [
    {
     "data": {
      "text/plain": [
       "(0.854969719643865, 0.02011777768283537)"
      ]
     },
     "execution_count": 45,
     "metadata": {},
     "output_type": "execute_result"
    }
   ],
   "source": [
    "cv_xgb= cross_validate(xgb_randomized_cv.best_estimator_, X_train, y_train, \n",
    "                            scoring='precision', cv=5, n_jobs=-1)\n",
    "\n",
    "cv_scores_xgb = cv_xgb['test_score']\n",
    "np.mean(cv_scores_xgb), np.std(cv_scores_xgb)"
   ]
  },
  {
   "cell_type": "code",
   "execution_count": 46,
   "id": "84fb30c3",
   "metadata": {},
   "outputs": [
    {
     "name": "stdout",
     "output_type": "stream",
     "text": [
      "0.7718496907695411\n"
     ]
    },
    {
     "name": "stderr",
     "output_type": "stream",
     "text": [
      "C:\\Users\\Yan Zhang\\anaconda3\\lib\\site-packages\\sklearn\\base.py:465: UserWarning: X does not have valid feature names, but SelectKBest was fitted with feature names\n",
      "  warnings.warn(\n"
     ]
    }
   ],
   "source": [
    "y_tr_pred = xgb_randomized_cv.best_estimator_.predict(X_train)\n",
    "y_te_pred = xgb_randomized_cv.best_estimator_.predict(X_test)\n",
    "y_pred_probs = xgb_randomized_cv.best_estimator_.predict_proba(X_test.values) [:,1]\n",
    "print(roc_auc_score(y_test, y_pred_probs))"
   ]
  },
  {
   "cell_type": "code",
   "execution_count": 47,
   "id": "844ffaba",
   "metadata": {},
   "outputs": [
    {
     "data": {
      "image/png": "[encoded data removed]",
      "text/plain": [
       "<Figure size 640x480 with 2 Axes>"
      ]
     },
     "metadata": {},
     "output_type": "display_data"
    },
    {
     "name": "stdout",
     "output_type": "stream",
     "text": [
      "              precision    recall  f1-score   support\n",
      "\n",
      "           0       0.86      0.86      0.86      1293\n",
      "           1       0.41      0.41      0.41       303\n",
      "\n",
      "    accuracy                           0.77      1596\n",
      "   macro avg       0.63      0.64      0.64      1596\n",
      "weighted avg       0.78      0.77      0.78      1596\n",
      "\n"
     ]
    }
   ],
   "source": [
    "report_xgb = classification_report(y_test, y_te_pred)\n",
    "cm_xgb = confusion_matrix(y_test, y_te_pred)\n",
    "ConfusionMatrixDisplay(confusion_matrix=cm_xgb,display_labels=xgb_randomized_cv.classes_).plot()\n",
    "plt.show()\n",
    "print(classification_report(y_test, y_te_pred))"
   ]
  },
  {
   "cell_type": "markdown",
   "id": "2da7a6fe",
   "metadata": {},
   "source": [
    "## evaluate the three model performance"
   ]
  },
  {
   "cell_type": "code",
   "execution_count": 48,
   "id": "76d16783",
   "metadata": {},
   "outputs": [
    {
     "data": {
      "text/html": [
       "<div>\n",
       "<style scoped>\n",
       "    .dataframe tbody tr th:only-of-type {\n",
       "        vertical-align: middle;\n",
       "    }\n",
       "\n",
       "    .dataframe tbody tr th {\n",
       "        vertical-align: top;\n",
       "    }\n",
       "\n",
       "    .dataframe thead th {\n",
       "        text-align: right;\n",
       "    }\n",
       "</style>\n",
       "<table border=\"1\" class=\"dataframe\">\n",
       "  <thead>\n",
       "    <tr style=\"text-align: right;\">\n",
       "      <th></th>\n",
       "      <th>model</th>\n",
       "      <th>cv_score</th>\n",
       "    </tr>\n",
       "  </thead>\n",
       "  <tbody>\n",
       "    <tr>\n",
       "      <th>0</th>\n",
       "      <td>cv_scores_log</td>\n",
       "      <td>0.745646</td>\n",
       "    </tr>\n",
       "    <tr>\n",
       "      <th>1</th>\n",
       "      <td>cv_scores_rf</td>\n",
       "      <td>0.839557</td>\n",
       "    </tr>\n",
       "    <tr>\n",
       "      <th>2</th>\n",
       "      <td>cv_scores_xgb</td>\n",
       "      <td>0.854970</td>\n",
       "    </tr>\n",
       "  </tbody>\n",
       "</table>\n",
       "</div>"
      ],
      "text/plain": [
       "           model  cv_score\n",
       "0  cv_scores_log  0.745646\n",
       "1   cv_scores_rf  0.839557\n",
       "2  cv_scores_xgb  0.854970"
      ]
     },
     "execution_count": 48,
     "metadata": {},
     "output_type": "execute_result"
    }
   ],
   "source": [
    "cv_dict = {\n",
    "    \"cv_scores_log\": np.mean(cv_scores_log),\n",
    "    \"cv_scores_rf\": np.mean(cv_scores_rf),\n",
    "    \"cv_scores_xgb\": np.mean(cv_scores_xgb)\n",
    "}\n",
    "cv_score_model = pd.DataFrame(cv_dict.items(), columns=[\"model\",\"cv_score\"])\n",
    "cv_score_model"
   ]
  },
  {
   "cell_type": "markdown",
   "id": "dd87e14b",
   "metadata": {},
   "source": [
    "## Save best model object frome pipeline"
   ]
  },
  {
   "cell_type": "code",
   "execution_count": 49,
   "id": "7847a7e3",
   "metadata": {},
   "outputs": [],
   "source": [
    "best_model = rf_grid_cv.best_estimator_\n",
    "best_model.version = '1.0'\n",
    "best_model.pandas_version = pd.__version__\n",
    "best_model.numpy_version = np.__version__\n",
    "best_model.sklearn_version = sklearn_version\n",
    "best_model.X_columns = [col for col in X_train.columns]\n",
    "best_model.build_datetime = datetime.datetime.now()\n"
   ]
  },
  {
   "cell_type": "code",
   "execution_count": 50,
   "id": "2fced55f",
   "metadata": {},
   "outputs": [],
   "source": [
    "import pickle"
   ]
  },
  {
   "cell_type": "code",
   "execution_count": 51,
   "id": "08dc62c9",
   "metadata": {},
   "outputs": [],
   "source": [
    "# save the model to disk\n",
    "filename = 'wine_quality_model.sav'\n",
    "pickle.dump(best_model, open(filename, 'wb'))"
   ]
  },
  {
   "cell_type": "markdown",
   "id": "ac19b0fd",
   "metadata": {},
   "source": [
    "## Modeling the wine quality"
   ]
  },
  {
   "cell_type": "code",
   "execution_count": 52,
   "id": "7855a92d",
   "metadata": {},
   "outputs": [
    {
     "data": {
      "text/html": [
       "<div>\n",
       "<style scoped>\n",
       "    .dataframe tbody tr th:only-of-type {\n",
       "        vertical-align: middle;\n",
       "    }\n",
       "\n",
       "    .dataframe tbody tr th {\n",
       "        vertical-align: top;\n",
       "    }\n",
       "\n",
       "    .dataframe thead th {\n",
       "        text-align: right;\n",
       "    }\n",
       "</style>\n",
       "<table border=\"1\" class=\"dataframe\">\n",
       "  <thead>\n",
       "    <tr style=\"text-align: right;\">\n",
       "      <th></th>\n",
       "      <th>fixed_acidity</th>\n",
       "      <th>volatile_acidity</th>\n",
       "      <th>citric_acid</th>\n",
       "      <th>residual_sugar</th>\n",
       "      <th>chlorides</th>\n",
       "      <th>free_sulfur_dioxide</th>\n",
       "      <th>total_sulfur_dioxide</th>\n",
       "      <th>density</th>\n",
       "      <th>pH</th>\n",
       "      <th>sulphates</th>\n",
       "      <th>alcohol</th>\n",
       "      <th>quality</th>\n",
       "      <th>free_SO2_ratio</th>\n",
       "      <th>alcohol_surgar_ratio</th>\n",
       "      <th>sugar_acidity_ratio</th>\n",
       "      <th>fixed_acidity_ratio</th>\n",
       "    </tr>\n",
       "    <tr>\n",
       "      <th>wine_type_white</th>\n",
       "      <th></th>\n",
       "      <th></th>\n",
       "      <th></th>\n",
       "      <th></th>\n",
       "      <th></th>\n",
       "      <th></th>\n",
       "      <th></th>\n",
       "      <th></th>\n",
       "      <th></th>\n",
       "      <th></th>\n",
       "      <th></th>\n",
       "      <th></th>\n",
       "      <th></th>\n",
       "      <th></th>\n",
       "      <th></th>\n",
       "      <th></th>\n",
       "    </tr>\n",
       "  </thead>\n",
       "  <tbody>\n",
       "    <tr>\n",
       "      <th>0</th>\n",
       "      <td>7.4</td>\n",
       "      <td>0.70</td>\n",
       "      <td>0.00</td>\n",
       "      <td>1.9</td>\n",
       "      <td>0.076</td>\n",
       "      <td>11.0</td>\n",
       "      <td>34.0</td>\n",
       "      <td>0.99780</td>\n",
       "      <td>3.51</td>\n",
       "      <td>0.56</td>\n",
       "      <td>9.4</td>\n",
       "      <td>0</td>\n",
       "      <td>32.352941</td>\n",
       "      <td>494.736842</td>\n",
       "      <td>23.456790</td>\n",
       "      <td>91.358025</td>\n",
       "    </tr>\n",
       "    <tr>\n",
       "      <th>0</th>\n",
       "      <td>7.8</td>\n",
       "      <td>0.88</td>\n",
       "      <td>0.00</td>\n",
       "      <td>2.6</td>\n",
       "      <td>0.098</td>\n",
       "      <td>25.0</td>\n",
       "      <td>67.0</td>\n",
       "      <td>0.99680</td>\n",
       "      <td>3.20</td>\n",
       "      <td>0.68</td>\n",
       "      <td>9.8</td>\n",
       "      <td>0</td>\n",
       "      <td>37.313433</td>\n",
       "      <td>376.923077</td>\n",
       "      <td>29.953917</td>\n",
       "      <td>89.861751</td>\n",
       "    </tr>\n",
       "    <tr>\n",
       "      <th>0</th>\n",
       "      <td>7.8</td>\n",
       "      <td>0.76</td>\n",
       "      <td>0.04</td>\n",
       "      <td>2.3</td>\n",
       "      <td>0.092</td>\n",
       "      <td>15.0</td>\n",
       "      <td>54.0</td>\n",
       "      <td>0.99700</td>\n",
       "      <td>3.26</td>\n",
       "      <td>0.65</td>\n",
       "      <td>9.8</td>\n",
       "      <td>0</td>\n",
       "      <td>27.777778</td>\n",
       "      <td>426.086957</td>\n",
       "      <td>26.869159</td>\n",
       "      <td>91.121495</td>\n",
       "    </tr>\n",
       "    <tr>\n",
       "      <th>0</th>\n",
       "      <td>11.2</td>\n",
       "      <td>0.28</td>\n",
       "      <td>0.56</td>\n",
       "      <td>1.9</td>\n",
       "      <td>0.075</td>\n",
       "      <td>17.0</td>\n",
       "      <td>60.0</td>\n",
       "      <td>0.99800</td>\n",
       "      <td>3.16</td>\n",
       "      <td>0.58</td>\n",
       "      <td>9.8</td>\n",
       "      <td>0</td>\n",
       "      <td>28.333333</td>\n",
       "      <td>515.789474</td>\n",
       "      <td>16.550523</td>\n",
       "      <td>97.560976</td>\n",
       "    </tr>\n",
       "    <tr>\n",
       "      <th>0</th>\n",
       "      <td>7.4</td>\n",
       "      <td>0.66</td>\n",
       "      <td>0.00</td>\n",
       "      <td>1.8</td>\n",
       "      <td>0.075</td>\n",
       "      <td>13.0</td>\n",
       "      <td>40.0</td>\n",
       "      <td>0.99780</td>\n",
       "      <td>3.51</td>\n",
       "      <td>0.56</td>\n",
       "      <td>9.4</td>\n",
       "      <td>0</td>\n",
       "      <td>32.500000</td>\n",
       "      <td>522.222222</td>\n",
       "      <td>22.332506</td>\n",
       "      <td>91.811414</td>\n",
       "    </tr>\n",
       "    <tr>\n",
       "      <th>...</th>\n",
       "      <td>...</td>\n",
       "      <td>...</td>\n",
       "      <td>...</td>\n",
       "      <td>...</td>\n",
       "      <td>...</td>\n",
       "      <td>...</td>\n",
       "      <td>...</td>\n",
       "      <td>...</td>\n",
       "      <td>...</td>\n",
       "      <td>...</td>\n",
       "      <td>...</td>\n",
       "      <td>...</td>\n",
       "      <td>...</td>\n",
       "      <td>...</td>\n",
       "      <td>...</td>\n",
       "      <td>...</td>\n",
       "    </tr>\n",
       "    <tr>\n",
       "      <th>1</th>\n",
       "      <td>6.2</td>\n",
       "      <td>0.21</td>\n",
       "      <td>0.29</td>\n",
       "      <td>1.6</td>\n",
       "      <td>0.039</td>\n",
       "      <td>24.0</td>\n",
       "      <td>92.0</td>\n",
       "      <td>0.99114</td>\n",
       "      <td>3.27</td>\n",
       "      <td>0.50</td>\n",
       "      <td>11.2</td>\n",
       "      <td>0</td>\n",
       "      <td>26.086957</td>\n",
       "      <td>700.000000</td>\n",
       "      <td>24.960998</td>\n",
       "      <td>96.723869</td>\n",
       "    </tr>\n",
       "    <tr>\n",
       "      <th>1</th>\n",
       "      <td>6.6</td>\n",
       "      <td>0.32</td>\n",
       "      <td>0.36</td>\n",
       "      <td>8.0</td>\n",
       "      <td>0.047</td>\n",
       "      <td>57.0</td>\n",
       "      <td>168.0</td>\n",
       "      <td>0.99490</td>\n",
       "      <td>3.15</td>\n",
       "      <td>0.46</td>\n",
       "      <td>9.6</td>\n",
       "      <td>0</td>\n",
       "      <td>33.928571</td>\n",
       "      <td>120.000000</td>\n",
       "      <td>115.606936</td>\n",
       "      <td>95.375723</td>\n",
       "    </tr>\n",
       "    <tr>\n",
       "      <th>1</th>\n",
       "      <td>6.5</td>\n",
       "      <td>0.24</td>\n",
       "      <td>0.19</td>\n",
       "      <td>1.2</td>\n",
       "      <td>0.041</td>\n",
       "      <td>30.0</td>\n",
       "      <td>111.0</td>\n",
       "      <td>0.99254</td>\n",
       "      <td>2.99</td>\n",
       "      <td>0.46</td>\n",
       "      <td>9.4</td>\n",
       "      <td>0</td>\n",
       "      <td>27.027027</td>\n",
       "      <td>783.333333</td>\n",
       "      <td>17.804154</td>\n",
       "      <td>96.439169</td>\n",
       "    </tr>\n",
       "    <tr>\n",
       "      <th>1</th>\n",
       "      <td>5.5</td>\n",
       "      <td>0.29</td>\n",
       "      <td>0.30</td>\n",
       "      <td>1.1</td>\n",
       "      <td>0.022</td>\n",
       "      <td>20.0</td>\n",
       "      <td>110.0</td>\n",
       "      <td>0.98869</td>\n",
       "      <td>3.34</td>\n",
       "      <td>0.38</td>\n",
       "      <td>12.8</td>\n",
       "      <td>1</td>\n",
       "      <td>18.181818</td>\n",
       "      <td>1163.636364</td>\n",
       "      <td>18.998273</td>\n",
       "      <td>94.991364</td>\n",
       "    </tr>\n",
       "    <tr>\n",
       "      <th>1</th>\n",
       "      <td>6.0</td>\n",
       "      <td>0.21</td>\n",
       "      <td>0.38</td>\n",
       "      <td>0.8</td>\n",
       "      <td>0.020</td>\n",
       "      <td>22.0</td>\n",
       "      <td>98.0</td>\n",
       "      <td>0.98941</td>\n",
       "      <td>3.26</td>\n",
       "      <td>0.32</td>\n",
       "      <td>11.8</td>\n",
       "      <td>0</td>\n",
       "      <td>22.448980</td>\n",
       "      <td>1475.000000</td>\n",
       "      <td>12.882448</td>\n",
       "      <td>96.618357</td>\n",
       "    </tr>\n",
       "  </tbody>\n",
       "</table>\n",
       "<p>5320 rows × 16 columns</p>\n",
       "</div>"
      ],
      "text/plain": [
       "                 fixed_acidity  volatile_acidity  citric_acid  residual_sugar  \\\n",
       "wine_type_white                                                                 \n",
       "0                          7.4              0.70         0.00             1.9   \n",
       "0                          7.8              0.88         0.00             2.6   \n",
       "0                          7.8              0.76         0.04             2.3   \n",
       "0                         11.2              0.28         0.56             1.9   \n",
       "0                          7.4              0.66         0.00             1.8   \n",
       "...                        ...               ...          ...             ...   \n",
       "1                          6.2              0.21         0.29             1.6   \n",
       "1                          6.6              0.32         0.36             8.0   \n",
       "1                          6.5              0.24         0.19             1.2   \n",
       "1                          5.5              0.29         0.30             1.1   \n",
       "1                          6.0              0.21         0.38             0.8   \n",
       "\n",
       "                 chlorides  free_sulfur_dioxide  total_sulfur_dioxide  \\\n",
       "wine_type_white                                                         \n",
       "0                    0.076                 11.0                  34.0   \n",
       "0                    0.098                 25.0                  67.0   \n",
       "0                    0.092                 15.0                  54.0   \n",
       "0                    0.075                 17.0                  60.0   \n",
       "0                    0.075                 13.0                  40.0   \n",
       "...                    ...                  ...                   ...   \n",
       "1                    0.039                 24.0                  92.0   \n",
       "1                    0.047                 57.0                 168.0   \n",
       "1                    0.041                 30.0                 111.0   \n",
       "1                    0.022                 20.0                 110.0   \n",
       "1                    0.020                 22.0                  98.0   \n",
       "\n",
       "                 density    pH  sulphates  alcohol  quality  free_SO2_ratio  \\\n",
       "wine_type_white                                                               \n",
       "0                0.99780  3.51       0.56      9.4        0       32.352941   \n",
       "0                0.99680  3.20       0.68      9.8        0       37.313433   \n",
       "0                0.99700  3.26       0.65      9.8        0       27.777778   \n",
       "0                0.99800  3.16       0.58      9.8        0       28.333333   \n",
       "0                0.99780  3.51       0.56      9.4        0       32.500000   \n",
       "...                  ...   ...        ...      ...      ...             ...   \n",
       "1                0.99114  3.27       0.50     11.2        0       26.086957   \n",
       "1                0.99490  3.15       0.46      9.6        0       33.928571   \n",
       "1                0.99254  2.99       0.46      9.4        0       27.027027   \n",
       "1                0.98869  3.34       0.38     12.8        1       18.181818   \n",
       "1                0.98941  3.26       0.32     11.8        0       22.448980   \n",
       "\n",
       "                 alcohol_surgar_ratio  sugar_acidity_ratio  \\\n",
       "wine_type_white                                              \n",
       "0                          494.736842            23.456790   \n",
       "0                          376.923077            29.953917   \n",
       "0                          426.086957            26.869159   \n",
       "0                          515.789474            16.550523   \n",
       "0                          522.222222            22.332506   \n",
       "...                               ...                  ...   \n",
       "1                          700.000000            24.960998   \n",
       "1                          120.000000           115.606936   \n",
       "1                          783.333333            17.804154   \n",
       "1                         1163.636364            18.998273   \n",
       "1                         1475.000000            12.882448   \n",
       "\n",
       "                 fixed_acidity_ratio  \n",
       "wine_type_white                       \n",
       "0                          91.358025  \n",
       "0                          89.861751  \n",
       "0                          91.121495  \n",
       "0                          97.560976  \n",
       "0                          91.811414  \n",
       "...                              ...  \n",
       "1                          96.723869  \n",
       "1                          95.375723  \n",
       "1                          96.439169  \n",
       "1                          94.991364  \n",
       "1                          96.618357  \n",
       "\n",
       "[5320 rows x 16 columns]"
      ]
     },
     "execution_count": 52,
     "metadata": {},
     "output_type": "execute_result"
    }
   ],
   "source": [
    "df= pd.read_csv(\"../Capstone_Two_Project/data/processed/df_model.csv\", index_col = \"wine_type_white\")\n",
    "df = df.drop(\"Unnamed: 0\",axis =1)\n",
    "df\n"
   ]
  },
  {
   "cell_type": "code",
   "execution_count": 53,
   "id": "06c8d5b8",
   "metadata": {},
   "outputs": [],
   "source": [
    "X=df.drop([\"quality\"],axis = 1)\n",
    "y=df[\"quality\"]"
   ]
  },
  {
   "cell_type": "code",
   "execution_count": 54,
   "id": "60056cfe",
   "metadata": {},
   "outputs": [],
   "source": [
    "# load the model from disk\n",
    "loaded_model = pickle.load(open(filename, 'rb'))\n",
    "result = loaded_model.score(X, y)"
   ]
  },
  {
   "cell_type": "markdown",
   "id": "e306b3bc",
   "metadata": {},
   "source": [
    "## summary"
   ]
  },
  {
   "cell_type": "markdown",
   "id": "ea039b89",
   "metadata": {},
   "source": [
    "Four modeling were performed in good wine quality prediction. At beginner, the dummyclassifier is used as baseline model, which the prediction is irrelavent to featrues. Then three models logisticregression, random forest model and xgboost were evaluate through pipeline. the cv results shows the random forest model have high precision scores and therefore it be select for further tunning. "
   ]
  },
  {
   "cell_type": "code",
   "execution_count": null,
   "id": "39499a4f",
   "metadata": {},
   "outputs": [],
   "source": []
  }
 ],
 "metadata": {
  "kernelspec": {
   "display_name": "Python 3 (ipykernel)",
   "language": "python",
   "name": "python3"
  },
  "language_info": {
   "codemirror_mode": {
    "name": "ipython",
    "version": 3
   },
   "file_extension": ".py",
   "mimetype": "text/x-python",
   "name": "python",
   "nbconvert_exporter": "python",
   "pygments_lexer": "ipython3",
   "version": "3.10.12"
  },
  "toc": {
   "base_numbering": 1,
   "nav_menu": {},
   "number_sections": true,
   "sideBar": true,
   "skip_h1_title": false,
   "title_cell": "Table of Contents",
   "title_sidebar": "Contents",
   "toc_cell": false,
   "toc_position": {},
   "toc_section_display": true,
   "toc_window_display": false
  }
 },
 "nbformat": 4,
 "nbformat_minor": 5
}
