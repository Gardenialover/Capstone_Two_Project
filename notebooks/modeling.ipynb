{
 "cells": [
  {
   "cell_type": "markdown",
   "id": "160bebdc",
   "metadata": {},
   "source": [
    "# loading data"
   ]
  },
  {
   "cell_type": "code",
   "execution_count": 1,
   "id": "cd61747f",
   "metadata": {},
   "outputs": [],
   "source": [
    "import numpy as np\n",
    "import scipy as sp\n",
    "import pandas as pd\n",
    "\n",
    "# plotting and visualization\n",
    "\n",
    "import matplotlib.colors\n",
    "import matplotlib.pyplot as plt\n",
    "import seaborn as sns\n",
    "\n",
    "# modeling\n",
    "import sklearn.model_selection\n",
    "from sklearn.model_selection import KFold\n",
    "from sklearn.feature_selection import SelectKBest, f_regression\n",
    "from sklearn.model_selection import cross_val_score,cross_validate\n",
    "from xgboost import XGBClassifier\n",
    "from sklearn.linear_model import LogisticRegression\n",
    "from sklearn.neighbors import KNeighborsClassifier\n",
    "from sklearn.dummy import DummyClassifier\n",
    "from sklearn.ensemble import RandomForestClassifier\n",
    "from sklearn.metrics import accuracy_score, f1_score,precision_score,recall_score\n",
    "from sklearn.metrics import precision_recall_fscore_support as score\n",
    "from sklearn.metrics import classification_report\n",
    "from sklearn.metrics import confusion_matrix\n",
    "from sklearn.metrics import roc_auc_score, roc_curve\n",
    "from sklearn.metrics import ConfusionMatrixDisplay\n",
    "\n",
    "import pickle\n",
    "\n",
    "from sklearn import __version__ as sklearn_version\n",
    "from sklearn.model_selection import train_test_split, cross_validate, GridSearchCV\n",
    "\n",
    "from sklearn.pipeline import make_pipeline\n",
    "from sklearn.impute import SimpleImputer\n",
    "from sklearn.feature_selection import SelectKBest, f_regression\n",
    "import datetime\n",
    "\n",
    "import os"
   ]
  },
  {
   "cell_type": "code",
   "execution_count": 2,
   "id": "4bdf513b",
   "metadata": {},
   "outputs": [
    {
     "data": {
      "text/html": [
       "<div>\n",
       "<style scoped>\n",
       "    .dataframe tbody tr th:only-of-type {\n",
       "        vertical-align: middle;\n",
       "    }\n",
       "\n",
       "    .dataframe tbody tr th {\n",
       "        vertical-align: top;\n",
       "    }\n",
       "\n",
       "    .dataframe thead th {\n",
       "        text-align: right;\n",
       "    }\n",
       "</style>\n",
       "<table border=\"1\" class=\"dataframe\">\n",
       "  <thead>\n",
       "    <tr style=\"text-align: right;\">\n",
       "      <th></th>\n",
       "      <th>fixed_acidity</th>\n",
       "      <th>volatile_acidity</th>\n",
       "      <th>citric_acid</th>\n",
       "      <th>residual_sugar</th>\n",
       "      <th>chlorides</th>\n",
       "      <th>free_sulfur_dioxide</th>\n",
       "      <th>total_sulfur_dioxide</th>\n",
       "      <th>density</th>\n",
       "      <th>pH</th>\n",
       "      <th>sulphates</th>\n",
       "      <th>alcohol</th>\n",
       "      <th>free_SO2_ratio</th>\n",
       "      <th>alcohol_surgar_ratio</th>\n",
       "      <th>sugar_acidity_ratio</th>\n",
       "      <th>fixed_acidity_ratio</th>\n",
       "    </tr>\n",
       "  </thead>\n",
       "  <tbody>\n",
       "    <tr>\n",
       "      <th>0</th>\n",
       "      <td>0.247934</td>\n",
       "      <td>0.120000</td>\n",
       "      <td>0.192771</td>\n",
       "      <td>0.098160</td>\n",
       "      <td>0.053156</td>\n",
       "      <td>0.128472</td>\n",
       "      <td>0.258065</td>\n",
       "      <td>0.130904</td>\n",
       "      <td>0.410853</td>\n",
       "      <td>0.168539</td>\n",
       "      <td>0.405797</td>\n",
       "      <td>0.358702</td>\n",
       "      <td>0.078052</td>\n",
       "      <td>0.124245</td>\n",
       "      <td>0.839710</td>\n",
       "    </tr>\n",
       "    <tr>\n",
       "      <th>1</th>\n",
       "      <td>0.239669</td>\n",
       "      <td>0.113333</td>\n",
       "      <td>0.445783</td>\n",
       "      <td>0.288344</td>\n",
       "      <td>0.074751</td>\n",
       "      <td>0.149306</td>\n",
       "      <td>0.375576</td>\n",
       "      <td>0.256217</td>\n",
       "      <td>0.612403</td>\n",
       "      <td>0.129213</td>\n",
       "      <td>0.260870</td>\n",
       "      <td>0.284783</td>\n",
       "      <td>0.018717</td>\n",
       "      <td>0.366162</td>\n",
       "      <td>0.845020</td>\n",
       "    </tr>\n",
       "    <tr>\n",
       "      <th>2</th>\n",
       "      <td>0.190083</td>\n",
       "      <td>0.213333</td>\n",
       "      <td>0.096386</td>\n",
       "      <td>0.018405</td>\n",
       "      <td>0.099668</td>\n",
       "      <td>0.034722</td>\n",
       "      <td>0.043779</td>\n",
       "      <td>0.161751</td>\n",
       "      <td>0.542636</td>\n",
       "      <td>0.292135</td>\n",
       "      <td>0.304348</td>\n",
       "      <td>0.500078</td>\n",
       "      <td>0.310672</td>\n",
       "      <td>0.028200</td>\n",
       "      <td>0.686411</td>\n",
       "    </tr>\n",
       "    <tr>\n",
       "      <th>3</th>\n",
       "      <td>0.231405</td>\n",
       "      <td>0.126667</td>\n",
       "      <td>0.150602</td>\n",
       "      <td>0.038344</td>\n",
       "      <td>0.071429</td>\n",
       "      <td>0.138889</td>\n",
       "      <td>0.419355</td>\n",
       "      <td>0.084635</td>\n",
       "      <td>0.403101</td>\n",
       "      <td>0.101124</td>\n",
       "      <td>0.478261</td>\n",
       "      <td>0.234125</td>\n",
       "      <td>0.198261</td>\n",
       "      <td>0.051629</td>\n",
       "      <td>0.824361</td>\n",
       "    </tr>\n",
       "    <tr>\n",
       "      <th>4</th>\n",
       "      <td>0.165289</td>\n",
       "      <td>0.086667</td>\n",
       "      <td>0.192771</td>\n",
       "      <td>0.015337</td>\n",
       "      <td>0.059801</td>\n",
       "      <td>0.128472</td>\n",
       "      <td>0.205069</td>\n",
       "      <td>0.045306</td>\n",
       "      <td>0.395349</td>\n",
       "      <td>0.404494</td>\n",
       "      <td>0.637681</td>\n",
       "      <td>0.452140</td>\n",
       "      <td>0.432972</td>\n",
       "      <td>0.026762</td>\n",
       "      <td>0.851406</td>\n",
       "    </tr>\n",
       "    <tr>\n",
       "      <th>...</th>\n",
       "      <td>...</td>\n",
       "      <td>...</td>\n",
       "      <td>...</td>\n",
       "      <td>...</td>\n",
       "      <td>...</td>\n",
       "      <td>...</td>\n",
       "      <td>...</td>\n",
       "      <td>...</td>\n",
       "      <td>...</td>\n",
       "      <td>...</td>\n",
       "      <td>...</td>\n",
       "      <td>...</td>\n",
       "      <td>...</td>\n",
       "      <td>...</td>\n",
       "      <td>...</td>\n",
       "    </tr>\n",
       "    <tr>\n",
       "      <th>6031</th>\n",
       "      <td>0.232797</td>\n",
       "      <td>0.065614</td>\n",
       "      <td>0.227901</td>\n",
       "      <td>0.014062</td>\n",
       "      <td>0.037087</td>\n",
       "      <td>0.091411</td>\n",
       "      <td>0.240359</td>\n",
       "      <td>0.082382</td>\n",
       "      <td>0.416075</td>\n",
       "      <td>0.189178</td>\n",
       "      <td>0.497635</td>\n",
       "      <td>0.269405</td>\n",
       "      <td>0.421025</td>\n",
       "      <td>0.020978</td>\n",
       "      <td>0.905414</td>\n",
       "    </tr>\n",
       "    <tr>\n",
       "      <th>6032</th>\n",
       "      <td>0.292554</td>\n",
       "      <td>0.133367</td>\n",
       "      <td>0.201169</td>\n",
       "      <td>0.090634</td>\n",
       "      <td>0.024262</td>\n",
       "      <td>0.054529</td>\n",
       "      <td>0.219156</td>\n",
       "      <td>0.127660</td>\n",
       "      <td>0.200748</td>\n",
       "      <td>0.176455</td>\n",
       "      <td>0.373884</td>\n",
       "      <td>0.167985</td>\n",
       "      <td>0.083460</td>\n",
       "      <td>0.105738</td>\n",
       "      <td>0.839941</td>\n",
       "    </tr>\n",
       "    <tr>\n",
       "      <th>6033</th>\n",
       "      <td>0.300610</td>\n",
       "      <td>0.162201</td>\n",
       "      <td>0.197012</td>\n",
       "      <td>0.086024</td>\n",
       "      <td>0.037714</td>\n",
       "      <td>0.043268</td>\n",
       "      <td>0.278422</td>\n",
       "      <td>0.099410</td>\n",
       "      <td>0.337849</td>\n",
       "      <td>0.107232</td>\n",
       "      <td>0.603911</td>\n",
       "      <td>0.099637</td>\n",
       "      <td>0.102145</td>\n",
       "      <td>0.098697</td>\n",
       "      <td>0.810163</td>\n",
       "    </tr>\n",
       "    <tr>\n",
       "      <th>6034</th>\n",
       "      <td>0.213175</td>\n",
       "      <td>0.207843</td>\n",
       "      <td>0.125620</td>\n",
       "      <td>0.037667</td>\n",
       "      <td>0.040551</td>\n",
       "      <td>0.086602</td>\n",
       "      <td>0.247697</td>\n",
       "      <td>0.056601</td>\n",
       "      <td>0.368446</td>\n",
       "      <td>0.171679</td>\n",
       "      <td>0.684143</td>\n",
       "      <td>0.248503</td>\n",
       "      <td>0.230315</td>\n",
       "      <td>0.051596</td>\n",
       "      <td>0.709345</td>\n",
       "    </tr>\n",
       "    <tr>\n",
       "      <th>6035</th>\n",
       "      <td>0.172091</td>\n",
       "      <td>0.131760</td>\n",
       "      <td>0.233163</td>\n",
       "      <td>0.025802</td>\n",
       "      <td>0.047425</td>\n",
       "      <td>0.047317</td>\n",
       "      <td>0.169555</td>\n",
       "      <td>0.054412</td>\n",
       "      <td>0.262651</td>\n",
       "      <td>0.136262</td>\n",
       "      <td>0.544469</td>\n",
       "      <td>0.194493</td>\n",
       "      <td>0.292282</td>\n",
       "      <td>0.040394</td>\n",
       "      <td>0.791080</td>\n",
       "    </tr>\n",
       "  </tbody>\n",
       "</table>\n",
       "<p>6036 rows × 15 columns</p>\n",
       "</div>"
      ],
      "text/plain": [
       "      fixed_acidity  volatile_acidity  citric_acid  residual_sugar  chlorides  \\\n",
       "0          0.247934          0.120000     0.192771        0.098160   0.053156   \n",
       "1          0.239669          0.113333     0.445783        0.288344   0.074751   \n",
       "2          0.190083          0.213333     0.096386        0.018405   0.099668   \n",
       "3          0.231405          0.126667     0.150602        0.038344   0.071429   \n",
       "4          0.165289          0.086667     0.192771        0.015337   0.059801   \n",
       "...             ...               ...          ...             ...        ...   \n",
       "6031       0.232797          0.065614     0.227901        0.014062   0.037087   \n",
       "6032       0.292554          0.133367     0.201169        0.090634   0.024262   \n",
       "6033       0.300610          0.162201     0.197012        0.086024   0.037714   \n",
       "6034       0.213175          0.207843     0.125620        0.037667   0.040551   \n",
       "6035       0.172091          0.131760     0.233163        0.025802   0.047425   \n",
       "\n",
       "      free_sulfur_dioxide  total_sulfur_dioxide   density        pH  \\\n",
       "0                0.128472              0.258065  0.130904  0.410853   \n",
       "1                0.149306              0.375576  0.256217  0.612403   \n",
       "2                0.034722              0.043779  0.161751  0.542636   \n",
       "3                0.138889              0.419355  0.084635  0.403101   \n",
       "4                0.128472              0.205069  0.045306  0.395349   \n",
       "...                   ...                   ...       ...       ...   \n",
       "6031             0.091411              0.240359  0.082382  0.416075   \n",
       "6032             0.054529              0.219156  0.127660  0.200748   \n",
       "6033             0.043268              0.278422  0.099410  0.337849   \n",
       "6034             0.086602              0.247697  0.056601  0.368446   \n",
       "6035             0.047317              0.169555  0.054412  0.262651   \n",
       "\n",
       "      sulphates   alcohol  free_SO2_ratio  alcohol_surgar_ratio  \\\n",
       "0      0.168539  0.405797        0.358702              0.078052   \n",
       "1      0.129213  0.260870        0.284783              0.018717   \n",
       "2      0.292135  0.304348        0.500078              0.310672   \n",
       "3      0.101124  0.478261        0.234125              0.198261   \n",
       "4      0.404494  0.637681        0.452140              0.432972   \n",
       "...         ...       ...             ...                   ...   \n",
       "6031   0.189178  0.497635        0.269405              0.421025   \n",
       "6032   0.176455  0.373884        0.167985              0.083460   \n",
       "6033   0.107232  0.603911        0.099637              0.102145   \n",
       "6034   0.171679  0.684143        0.248503              0.230315   \n",
       "6035   0.136262  0.544469        0.194493              0.292282   \n",
       "\n",
       "      sugar_acidity_ratio  fixed_acidity_ratio  \n",
       "0                0.124245             0.839710  \n",
       "1                0.366162             0.845020  \n",
       "2                0.028200             0.686411  \n",
       "3                0.051629             0.824361  \n",
       "4                0.026762             0.851406  \n",
       "...                   ...                  ...  \n",
       "6031             0.020978             0.905414  \n",
       "6032             0.105738             0.839941  \n",
       "6033             0.098697             0.810163  \n",
       "6034             0.051596             0.709345  \n",
       "6035             0.040394             0.791080  \n",
       "\n",
       "[6036 rows x 15 columns]"
      ]
     },
     "execution_count": 2,
     "metadata": {},
     "output_type": "execute_result"
    }
   ],
   "source": [
    "X_train = pd.read_csv(\"../Capstone_Two_Project/data/processed/X_train.csv\", index_col = 0)\n",
    "X_train"
   ]
  },
  {
   "cell_type": "code",
   "execution_count": 3,
   "id": "859f3315",
   "metadata": {},
   "outputs": [],
   "source": [
    "X_test = pd.read_csv(\"../Capstone_Two_Project/data/processed/X_test.csv\", index_col = 0)"
   ]
  },
  {
   "cell_type": "code",
   "execution_count": 4,
   "id": "2b950514",
   "metadata": {},
   "outputs": [],
   "source": [
    "y_train = pd.read_csv(\"../Capstone_Two_Project/data/processed/y_train.csv\",index_col = False)\n",
    "\n",
    "y_train=y_train.drop('Unnamed: 0',axis=1)"
   ]
  },
  {
   "cell_type": "code",
   "execution_count": 5,
   "id": "48c92a7f",
   "metadata": {},
   "outputs": [],
   "source": [
    "y_test = pd.read_csv(\"../Capstone_Two_Project/data/processed/y_test.csv\", index_col = False)\n",
    "y_test=y_test.drop('Unnamed: 0',axis=1)"
   ]
  },
  {
   "cell_type": "markdown",
   "id": "91db5b29",
   "metadata": {},
   "source": [
    "# Modeling"
   ]
  },
  {
   "cell_type": "markdown",
   "id": "89a34133",
   "metadata": {},
   "source": [
    "## Metrics for model performance"
   ]
  },
  {
   "cell_type": "markdown",
   "id": "8bda3a6e",
   "metadata": {},
   "source": [
    "For a classification machine learning, several metrics such as accuracy, recall, F1 and ROC_AUC are used in model performance evaluation. The project purpose is to predict good quality wine, and the dataset is imblanced, therefore the model with highest recall values with relative high scores in other metrics such as ROC_auc, Accuracy among the three models:Logisticregression, randomforest, XGBoost will be the winner. "
   ]
  },
  {
   "cell_type": "markdown",
   "id": "8c8eadb5",
   "metadata": {},
   "source": [
    "## Baseline model"
   ]
  },
  {
   "cell_type": "markdown",
   "id": "2d01ed37",
   "metadata": {},
   "source": [
    "dummyclassifier is used in modeling prediction. it will serve as the baseline modeling, good models should shows better metris than it."
   ]
  },
  {
   "cell_type": "code",
   "execution_count": 6,
   "id": "ebf91c01",
   "metadata": {},
   "outputs": [
    {
     "name": "stdout",
     "output_type": "stream",
     "text": [
      "0.47562273628754986\n"
     ]
    }
   ],
   "source": [
    "dummy = DummyClassifier(strategy =\"stratified\",random_state = 123)\n",
    "dummy.fit(X_train.values,y_train.values.ravel())\n",
    "y_pred = dummy.predict(X_test.values)\n",
    "y_pred_probs = dummy.predict_proba(X_test.values) [:,1]\n",
    "roc_auc_score_dummy = roc_auc_score(y_test, y_pred_probs)\n",
    "print(roc_auc_score_dummy)\n"
   ]
  },
  {
   "cell_type": "code",
   "execution_count": 7,
   "id": "feb71e13",
   "metadata": {},
   "outputs": [
    {
     "name": "stdout",
     "output_type": "stream",
     "text": [
      "dummy: recall=0.480\n",
      "report:               precision    recall  f1-score   support\n",
      "\n",
      "           0       0.79      0.48      0.60      1293\n",
      "           1       0.18      0.47      0.25       303\n",
      "\n",
      "    accuracy                           0.48      1596\n",
      "   macro avg       0.48      0.48      0.43      1596\n",
      "weighted avg       0.68      0.48      0.53      1596\n",
      " \n",
      "\n"
     ]
    },
    {
     "data": {
      "image/png": "[encoded data removed]",
      "text/plain": [
       "<Figure size 640x480 with 2 Axes>"
      ]
     },
     "metadata": {},
     "output_type": "display_data"
    }
   ],
   "source": [
    "pc_dummy = recall_score(y_test, y_pred_probs,average='weighted')\n",
    "report_dummy = classification_report(y_test, y_pred)\n",
    "cm_dummy = confusion_matrix(y_test, y_pred)\n",
    "print('dummy: recall=%.3f' % (pc_dummy))\n",
    "print(\"report:\", report_dummy,\"\\n\")\n",
    "ConfusionMatrixDisplay(confusion_matrix=cm_dummy,display_labels=dummy.classes_).plot()\n",
    "plt.show()"
   ]
  },
  {
   "cell_type": "markdown",
   "id": "6b55ff80",
   "metadata": {},
   "source": [
    "In dummy model, the recall for predict good win is 0.48."
   ]
  },
  {
   "cell_type": "markdown",
   "id": "304c0fff",
   "metadata": {},
   "source": [
    "three models:logisticregression, random forest and XGBoost Model will be selected. Also, the number of features used in modeling was controlled by selectkbest algorithms. "
   ]
  },
  {
   "cell_type": "markdown",
   "id": "2fe3b74a",
   "metadata": {},
   "source": [
    "## Logisticregression model"
   ]
  },
  {
   "cell_type": "code",
   "execution_count": 8,
   "id": "a1686511",
   "metadata": {},
   "outputs": [],
   "source": [
    "from sklearn.pipeline import Pipeline\n",
    "pipe_log = Pipeline(\n",
    "    steps =[(\"feature_selection\",SelectKBest(score_func=f_regression, k =5)),(\"model\",\n",
    "    LogisticRegression())]\n",
    ")"
   ]
  },
  {
   "cell_type": "code",
   "execution_count": 9,
   "id": "c3cd9f4b",
   "metadata": {},
   "outputs": [],
   "source": [
    "#k = [k+1 for k in range(len(X_train.columns))]\n",
    "c_values = [0.01,0.1,1.0,10,100]\n",
    "solvers = ['lbfgs', 'liblinear', 'newton-cg', 'newton-cholesky']\n",
    "grid_params = {'model__C':c_values,'model__solver':solvers}\n",
    "#grid_params = {'feature_selection__k': k, 'model__C':c_values,'model__solver':solvers}\n",
    "#grid_params = {'feature_slection__k': k}"
   ]
  },
  {
   "cell_type": "code",
   "execution_count": 10,
   "id": "6d213087",
   "metadata": {},
   "outputs": [
    {
     "data": {
      "text/plain": [
       "{'model__C': 0.01, 'model__solver': 'liblinear'}"
      ]
     },
     "execution_count": 10,
     "metadata": {},
     "output_type": "execute_result"
    }
   ],
   "source": [
    "log_grid_cv = GridSearchCV(pipe_log, param_grid=grid_params,scoring=\"recall\", cv=5, n_jobs=-1)\n",
    "log_grid_cv.fit(X_train, y_train.values.ravel())\n",
    "score_mean = log_grid_cv.cv_results_['mean_test_score']\n",
    "score_std = log_grid_cv.cv_results_['std_test_score']\n",
    "log_grid_cv.best_params_"
   ]
  },
  {
   "cell_type": "code",
   "execution_count": 11,
   "id": "cee6b782",
   "metadata": {},
   "outputs": [
    {
     "data": {
      "text/plain": [
       "alcohol                1.675378\n",
       "fixed_acidity_ratio    0.097825\n",
       "chlorides             -0.327597\n",
       "density               -0.514166\n",
       "volatile_acidity      -0.623222\n",
       "dtype: float64"
      ]
     },
     "execution_count": 11,
     "metadata": {},
     "output_type": "execute_result"
    }
   ],
   "source": [
    "selected = log_grid_cv.best_estimator_.named_steps.feature_selection.get_support()\n",
    "coefs = log_grid_cv.best_estimator_.named_steps.model.coef_\n",
    "features = X_train.columns[selected]\n",
    "pd.Series(coefs.ravel(), index = features.ravel()).sort_values(ascending=False)"
   ]
  },
  {
   "cell_type": "markdown",
   "id": "4b301ca7",
   "metadata": {},
   "source": [
    "it shows the alcohol is critical in control wine quality."
   ]
  },
  {
   "cell_type": "code",
   "execution_count": 12,
   "id": "30122f97",
   "metadata": {},
   "outputs": [
    {
     "data": {
      "text/plain": [
       "(0.8154514403698945, 0.015151840976826265)"
      ]
     },
     "execution_count": 12,
     "metadata": {},
     "output_type": "execute_result"
    }
   ],
   "source": [
    "cv_log = cross_validate(log_grid_cv.best_estimator_, X_train, y_train, \n",
    "                            scoring='recall', cv=5, n_jobs=-1)\n",
    "cv_scores_log = cv_log['test_score']\n",
    "np.mean(cv_scores_log), np.std(cv_scores_log)"
   ]
  },
  {
   "cell_type": "code",
   "execution_count": 13,
   "id": "f3b5c003",
   "metadata": {},
   "outputs": [
    {
     "name": "stderr",
     "output_type": "stream",
     "text": [
      "C:\\Users\\Yan Zhang\\anaconda3\\lib\\site-packages\\sklearn\\base.py:465: UserWarning: X does not have valid feature names, but SelectKBest was fitted with feature names\n",
      "  warnings.warn(\n"
     ]
    }
   ],
   "source": [
    "y_tr_pred = log_grid_cv.best_estimator_.predict(X_train)\n",
    "y_te_pred = log_grid_cv.best_estimator_.predict(X_test)\n",
    "y_pred_probs = log_grid_cv.best_estimator_.predict_proba(X_test.values) [:,1]\n",
    "#print(roc_auc_score(y_test, y_pred_probs))"
   ]
  },
  {
   "cell_type": "code",
   "execution_count": 14,
   "id": "0d6a0010",
   "metadata": {},
   "outputs": [
    {
     "name": "stdout",
     "output_type": "stream",
     "text": [
      "Best Threshold=0.50\n"
     ]
    }
   ],
   "source": [
    "fpr, tpr, thresholds = roc_curve(y_test, y_pred_probs)\n",
    "J = tpr - fpr\n",
    "ix = np.argmax(J)\n",
    "best_thresh = thresholds[ix]\n",
    "print('Best Threshold=%.2f' % (best_thresh))"
   ]
  },
  {
   "cell_type": "code",
   "execution_count": 15,
   "id": "7bb1d218",
   "metadata": {},
   "outputs": [
    {
     "name": "stdout",
     "output_type": "stream",
     "text": [
      "logisticregression roc_auc:0.75\n",
      "logisticregression precision:0.38\n",
      "logisticregression recall:0.80\n",
      "logisticregression accuracy:0.72\n"
     ]
    }
   ],
   "source": [
    "y_pred = (y_pred_probs >= 0.50).astype('int')\n",
    "print(\"logisticregression roc_auc:%.2f\"% roc_auc_score(y_test, y_pred))\n",
    "print(\"logisticregression precision:%.2f\"%  precision_score(y_test, y_pred))\n",
    "print(\"logisticregression recall:%.2f\"% recall_score(y_test, y_pred))\n",
    "print(\"logisticregression accuracy:%.2f\"% accuracy_score(y_test, y_pred))"
   ]
  },
  {
   "cell_type": "code",
   "execution_count": 16,
   "id": "8caa7638",
   "metadata": {},
   "outputs": [
    {
     "data": {
      "image/png": "[encoded data removed]",
      "text/plain": [
       "<Figure size 640x480 with 2 Axes>"
      ]
     },
     "metadata": {},
     "output_type": "display_data"
    },
    {
     "name": "stdout",
     "output_type": "stream",
     "text": [
      "              precision    recall  f1-score   support\n",
      "\n",
      "           0       0.94      0.70      0.80      1293\n",
      "           1       0.38      0.80      0.52       303\n",
      "\n",
      "    accuracy                           0.72      1596\n",
      "   macro avg       0.66      0.75      0.66      1596\n",
      "weighted avg       0.83      0.72      0.75      1596\n",
      "\n"
     ]
    }
   ],
   "source": [
    "report_log = classification_report(y_test, y_pred)\n",
    "cm_log = confusion_matrix(y_test, y_pred)\n",
    "ConfusionMatrixDisplay(confusion_matrix=cm_log,\n",
    "                       display_labels=log_grid_cv.classes_).plot()\n",
    "plt.show()\n",
    "print(classification_report(y_test, y_pred))"
   ]
  },
  {
   "cell_type": "markdown",
   "id": "8472085e",
   "metadata": {},
   "source": [
    "## Random forest "
   ]
  },
  {
   "cell_type": "code",
   "execution_count": 17,
   "id": "e35f1a73",
   "metadata": {},
   "outputs": [],
   "source": [
    "pipe_rf = Pipeline(\n",
    "    steps =[(\"feature_selection\",SelectKBest(score_func=f_regression,k=5)),(\"rf\",\n",
    "    RandomForestClassifier(random_state= 123))]\n",
    ")"
   ]
  },
  {
   "cell_type": "code",
   "execution_count": 18,
   "id": "b09c9856",
   "metadata": {},
   "outputs": [
    {
     "data": {
      "text/plain": [
       "{'rf__n_estimators': 500}"
      ]
     },
     "execution_count": 18,
     "metadata": {},
     "output_type": "execute_result"
    }
   ],
   "source": [
    "pipe = Pipeline(\n",
    "    steps =[(\"feature_selection\",SelectKBest(score_func=f_regression,k=5)),(\"rf\",\n",
    "    RandomForestClassifier(random_state= 123))]\n",
    ")\n",
    "\n",
    "#k = [k+1 for k in range(len(X_train.columns))]\n",
    "n_est = [50,100,300,500]\n",
    "grid_params = {'rf__n_estimators': n_est}\n",
    "\n",
    "# grid_params = {'feature_selection__k': k,\n",
    "#         'rf__n_estimators': n_est\n",
    "# }\n",
    "\n",
    "rf_grid_cv = GridSearchCV(pipe, param_grid=grid_params,scoring =\"recall\", cv=5, n_jobs=-1)\n",
    "rf_grid_cv.fit(X_train, y_train.values.ravel())\n",
    "rf_grid_cv.best_params_"
   ]
  },
  {
   "cell_type": "code",
   "execution_count": 19,
   "id": "6115249c",
   "metadata": {},
   "outputs": [
    {
     "data": {
      "image/png": "[encoded data removed]",
      "text/plain": [
       "<Figure size 1000x500 with 1 Axes>"
      ]
     },
     "metadata": {},
     "output_type": "display_data"
    }
   ],
   "source": [
    "#Plot a barplot of the random forest's feature importances,\n",
    "#assigning the `feature_importances_` attribute of \n",
    "\n",
    "features_imp = rf_grid_cv.best_estimator_.named_steps.rf.feature_importances_\n",
    "\n",
    "feature_names =  rf_grid_cv.best_estimator_.named_steps.feature_selection.get_feature_names_out()\n",
    "\n",
    "plt.subplots(figsize=(10, 5))\n",
    "rf_feat = pd.Series(features_imp, index=feature_names).sort_values(ascending=False)\n",
    "rf_feat.plot(kind='bar')\n",
    "plt.xlabel('feature name')\n",
    "plt.ylabel('importance')\n",
    "plt.title('Tunied random forest feature importances');"
   ]
  },
  {
   "cell_type": "markdown",
   "id": "7ca2b64f",
   "metadata": {},
   "source": [
    "Similar to logistic regression, the alcohol level has high impact on producting high wine quality."
   ]
  },
  {
   "cell_type": "code",
   "execution_count": 20,
   "id": "cecdb3b3",
   "metadata": {},
   "outputs": [
    {
     "data": {
      "text/plain": [
       "(0.8959754209087014, 0.05732580184926192)"
      ]
     },
     "execution_count": 20,
     "metadata": {},
     "output_type": "execute_result"
    }
   ],
   "source": [
    "cv_rf = cross_validate(rf_grid_cv.best_estimator_, X_train, y_train, \n",
    "                            scoring='recall', cv=5, n_jobs=-1)\n",
    "cv_scores_rf = cv_rf['test_score']\n",
    "np.mean(cv_scores_rf), np.std(cv_scores_rf)"
   ]
  },
  {
   "cell_type": "code",
   "execution_count": 21,
   "id": "7fe5a0d7",
   "metadata": {},
   "outputs": [
    {
     "name": "stderr",
     "output_type": "stream",
     "text": [
      "C:\\Users\\Yan Zhang\\anaconda3\\lib\\site-packages\\sklearn\\base.py:465: UserWarning: X does not have valid feature names, but SelectKBest was fitted with feature names\n",
      "  warnings.warn(\n"
     ]
    }
   ],
   "source": [
    "y_tr_pred = rf_grid_cv.best_estimator_.predict(X_train)\n",
    "y_te_pred = rf_grid_cv.best_estimator_.predict(X_test)\n",
    "y_pred_probs = rf_grid_cv.best_estimator_.predict_proba(X_test.values) [:,1]\n",
    "#print(roc_auc_score(y_test, y_pred_probs))"
   ]
  },
  {
   "cell_type": "code",
   "execution_count": 22,
   "id": "7c547ebc",
   "metadata": {},
   "outputs": [
    {
     "name": "stdout",
     "output_type": "stream",
     "text": [
      "Best Threshold=0.28\n"
     ]
    }
   ],
   "source": [
    "# # get the best threshold\n",
    "fpr, tpr, thresholds = roc_curve(y_test, y_pred_probs)\n",
    "J = tpr - fpr\n",
    "ix = np.argmax(J)\n",
    "best_thresh = thresholds[ix]\n",
    "print('Best Threshold=%.2f' % (best_thresh))"
   ]
  },
  {
   "cell_type": "code",
   "execution_count": 23,
   "id": "6a61259d",
   "metadata": {},
   "outputs": [
    {
     "name": "stdout",
     "output_type": "stream",
     "text": [
      "randomforest roc_auc:0.73\n",
      "randomforest precision:0.35\n",
      "randomforest recall:0.81\n",
      "randomforest Accuracy:0.68\n"
     ]
    }
   ],
   "source": [
    "y_pred = (y_pred_probs >= 0.28).astype('int')\n",
    "print(\"randomforest roc_auc:%.2f\"%roc_auc_score(y_test, y_pred))\n",
    "print(\"randomforest precision:%.2f\"% precision_score(y_test, y_pred))\n",
    "print(\"randomforest recall:%.2f\"% recall_score(y_test, y_pred))\n",
    "print(\"randomforest Accuracy:%.2f\"% accuracy_score(y_test, y_pred))"
   ]
  },
  {
   "cell_type": "code",
   "execution_count": 24,
   "id": "7523af83",
   "metadata": {},
   "outputs": [
    {
     "data": {
      "image/png": "[encoded data removed]",
      "text/plain": [
       "<Figure size 640x480 with 2 Axes>"
      ]
     },
     "metadata": {},
     "output_type": "display_data"
    },
    {
     "name": "stdout",
     "output_type": "stream",
     "text": [
      "              precision    recall  f1-score   support\n",
      "\n",
      "           0       0.94      0.66      0.77      1293\n",
      "           1       0.35      0.81      0.49       303\n",
      "\n",
      "    accuracy                           0.68      1596\n",
      "   macro avg       0.65      0.73      0.63      1596\n",
      "weighted avg       0.83      0.68      0.72      1596\n",
      "\n"
     ]
    }
   ],
   "source": [
    "report_rf = classification_report(y_test, y_pred)\n",
    "cm_rf = confusion_matrix(y_test, y_pred)\n",
    "ConfusionMatrixDisplay(confusion_matrix=cm_rf,\n",
    "                       display_labels=rf_grid_cv.classes_).plot()\n",
    "plt.show()\n",
    "print(classification_report(y_test, y_pred))"
   ]
  },
  {
   "cell_type": "markdown",
   "id": "2a720546",
   "metadata": {},
   "source": [
    "## XGBoost model"
   ]
  },
  {
   "cell_type": "code",
   "execution_count": 25,
   "id": "0d00db77",
   "metadata": {},
   "outputs": [],
   "source": [
    "pipe_xgb = Pipeline(\n",
    "    steps =[(\"feature_selection\",SelectKBest(score_func=f_regression,k=5)),(\"xgb\",\n",
    "    XGBClassifier(objective='binary:logistic',learning_rate=0.1 , n_estimators=300, random_state=123))]\n",
    ")"
   ]
  },
  {
   "cell_type": "markdown",
   "id": "7cc90282",
   "metadata": {},
   "source": [
    "### xgb model tunning"
   ]
  },
  {
   "cell_type": "code",
   "execution_count": 26,
   "id": "fbf6da0f",
   "metadata": {},
   "outputs": [],
   "source": [
    "gbm_param_grid = {\n",
    "   'xgb__learning_rate' : np.arange(0.05, 1,0.05),\n",
    "    'xgb__max_depth': np.arange(3, 10, 1),\n",
    "    'xgb__n_estimators': np.arange(50,200, 50)\n",
    "}\n"
   ]
  },
  {
   "cell_type": "code",
   "execution_count": 27,
   "id": "3c2fb981",
   "metadata": {},
   "outputs": [
    {
     "name": "stdout",
     "output_type": "stream",
     "text": [
      "Fitting 5 folds for each of 2 candidates, totalling 10 fits\n"
     ]
    },
    {
     "data": {
      "text/html": [
       "<style>#sk-container-id-1 {color: black;}#sk-container-id-1 pre{padding: 0;}#sk-container-id-1 div.sk-toggleable {background-color: white;}#sk-container-id-1 label.sk-toggleable__label {cursor: pointer;display: block;width: 100%;margin-bottom: 0;padding: 0.3em;box-sizing: border-box;text-align: center;}#sk-container-id-1 label.sk-toggleable__label-arrow:before {content: \"▸\";float: left;margin-right: 0.25em;color: #696969;}#sk-container-id-1 label.sk-toggleable__label-arrow:hover:before {color: black;}#sk-container-id-1 div.sk-estimator:hover label.sk-toggleable__label-arrow:before {color: black;}#sk-container-id-1 div.sk-toggleable__content {max-height: 0;max-width: 0;overflow: hidden;text-align: left;background-color: #f0f8ff;}#sk-container-id-1 div.sk-toggleable__content pre {margin: 0.2em;color: black;border-radius: 0.25em;background-color: #f0f8ff;}#sk-container-id-1 input.sk-toggleable__control:checked~div.sk-toggleable__content {max-height: 200px;max-width: 100%;overflow: auto;}#sk-container-id-1 input.sk-toggleable__control:checked~label.sk-toggleable__label-arrow:before {content: \"▾\";}#sk-container-id-1 div.sk-estimator input.sk-toggleable__control:checked~label.sk-toggleable__label {background-color: #d4ebff;}#sk-container-id-1 div.sk-label input.sk-toggleable__control:checked~label.sk-toggleable__label {background-color: #d4ebff;}#sk-container-id-1 input.sk-hidden--visually {border: 0;clip: rect(1px 1px 1px 1px);clip: rect(1px, 1px, 1px, 1px);height: 1px;margin: -1px;overflow: hidden;padding: 0;position: absolute;width: 1px;}#sk-container-id-1 div.sk-estimator {font-family: monospace;background-color: #f0f8ff;border: 1px dotted black;border-radius: 0.25em;box-sizing: border-box;margin-bottom: 0.5em;}#sk-container-id-1 div.sk-estimator:hover {background-color: #d4ebff;}#sk-container-id-1 div.sk-parallel-item::after {content: \"\";width: 100%;border-bottom: 1px solid gray;flex-grow: 1;}#sk-container-id-1 div.sk-label:hover label.sk-toggleable__label {background-color: #d4ebff;}#sk-container-id-1 div.sk-serial::before {content: \"\";position: absolute;border-left: 1px solid gray;box-sizing: border-box;top: 0;bottom: 0;left: 50%;z-index: 0;}#sk-container-id-1 div.sk-serial {display: flex;flex-direction: column;align-items: center;background-color: white;padding-right: 0.2em;padding-left: 0.2em;position: relative;}#sk-container-id-1 div.sk-item {position: relative;z-index: 1;}#sk-container-id-1 div.sk-parallel {display: flex;align-items: stretch;justify-content: center;background-color: white;position: relative;}#sk-container-id-1 div.sk-item::before, #sk-container-id-1 div.sk-parallel-item::before {content: \"\";position: absolute;border-left: 1px solid gray;box-sizing: border-box;top: 0;bottom: 0;left: 50%;z-index: -1;}#sk-container-id-1 div.sk-parallel-item {display: flex;flex-direction: column;z-index: 1;position: relative;background-color: white;}#sk-container-id-1 div.sk-parallel-item:first-child::after {align-self: flex-end;width: 50%;}#sk-container-id-1 div.sk-parallel-item:last-child::after {align-self: flex-start;width: 50%;}#sk-container-id-1 div.sk-parallel-item:only-child::after {width: 0;}#sk-container-id-1 div.sk-dashed-wrapped {border: 1px dashed gray;margin: 0 0.4em 0.5em 0.4em;box-sizing: border-box;padding-bottom: 0.4em;background-color: white;}#sk-container-id-1 div.sk-label label {font-family: monospace;font-weight: bold;display: inline-block;line-height: 1.2em;}#sk-container-id-1 div.sk-label-container {text-align: center;}#sk-container-id-1 div.sk-container {/* jupyter's `normalize.less` sets `[hidden] { display: none; }` but bootstrap.min.css set `[hidden] { display: none !important; }` so we also need the `!important` here to be able to override the default hidden behavior on the sphinx rendered scikit-learn.org. See: https://github.com/scikit-learn/scikit-learn/issues/21755 */display: inline-block !important;position: relative;}#sk-container-id-1 div.sk-text-repr-fallback {display: none;}</style><div id=\"sk-container-id-1\" class=\"sk-top-container\"><div class=\"sk-text-repr-fallback\"><pre>RandomizedSearchCV(cv=5,\n",
       "                   estimator=Pipeline(steps=[(&#x27;feature_selection&#x27;,\n",
       "                                              SelectKBest(k=5,\n",
       "                                                          score_func=&lt;function f_regression at 0x000002C233B344C0&gt;)),\n",
       "                                             (&#x27;xgb&#x27;,\n",
       "                                              XGBClassifier(base_score=None,\n",
       "                                                            booster=None,\n",
       "                                                            callbacks=None,\n",
       "                                                            colsample_bylevel=None,\n",
       "                                                            colsample_bynode=None,\n",
       "                                                            colsample_bytree=None,\n",
       "                                                            device=None,\n",
       "                                                            early_stopping_rounds=None,\n",
       "                                                            enable_categorical=False,\n",
       "                                                            eval_metric...\n",
       "                                                            multi_strategy=None,\n",
       "                                                            n_estimators=300,\n",
       "                                                            n_jobs=None,\n",
       "                                                            num_parallel_tree=None,\n",
       "                                                            random_state=123, ...))]),\n",
       "                   n_iter=2,\n",
       "                   param_distributions={&#x27;xgb__learning_rate&#x27;: array([0.05, 0.1 , 0.15, 0.2 , 0.25, 0.3 , 0.35, 0.4 , 0.45, 0.5 , 0.55,\n",
       "       0.6 , 0.65, 0.7 , 0.75, 0.8 , 0.85, 0.9 , 0.95]),\n",
       "                                        &#x27;xgb__max_depth&#x27;: array([3, 4, 5, 6, 7, 8, 9]),\n",
       "                                        &#x27;xgb__n_estimators&#x27;: array([ 50, 100, 150])},\n",
       "                   scoring=&#x27;recall&#x27;, verbose=1)</pre><b>In a Jupyter environment, please rerun this cell to show the HTML representation or trust the notebook. <br />On GitHub, the HTML representation is unable to render, please try loading this page with nbviewer.org.</b></div><div class=\"sk-container\" hidden><div class=\"sk-item sk-dashed-wrapped\"><div class=\"sk-label-container\"><div class=\"sk-label sk-toggleable\"><input class=\"sk-toggleable__control sk-hidden--visually\" id=\"sk-estimator-id-1\" type=\"checkbox\" ><label for=\"sk-estimator-id-1\" class=\"sk-toggleable__label sk-toggleable__label-arrow\">RandomizedSearchCV</label><div class=\"sk-toggleable__content\"><pre>RandomizedSearchCV(cv=5,\n",
       "                   estimator=Pipeline(steps=[(&#x27;feature_selection&#x27;,\n",
       "                                              SelectKBest(k=5,\n",
       "                                                          score_func=&lt;function f_regression at 0x000002C233B344C0&gt;)),\n",
       "                                             (&#x27;xgb&#x27;,\n",
       "                                              XGBClassifier(base_score=None,\n",
       "                                                            booster=None,\n",
       "                                                            callbacks=None,\n",
       "                                                            colsample_bylevel=None,\n",
       "                                                            colsample_bynode=None,\n",
       "                                                            colsample_bytree=None,\n",
       "                                                            device=None,\n",
       "                                                            early_stopping_rounds=None,\n",
       "                                                            enable_categorical=False,\n",
       "                                                            eval_metric...\n",
       "                                                            multi_strategy=None,\n",
       "                                                            n_estimators=300,\n",
       "                                                            n_jobs=None,\n",
       "                                                            num_parallel_tree=None,\n",
       "                                                            random_state=123, ...))]),\n",
       "                   n_iter=2,\n",
       "                   param_distributions={&#x27;xgb__learning_rate&#x27;: array([0.05, 0.1 , 0.15, 0.2 , 0.25, 0.3 , 0.35, 0.4 , 0.45, 0.5 , 0.55,\n",
       "       0.6 , 0.65, 0.7 , 0.75, 0.8 , 0.85, 0.9 , 0.95]),\n",
       "                                        &#x27;xgb__max_depth&#x27;: array([3, 4, 5, 6, 7, 8, 9]),\n",
       "                                        &#x27;xgb__n_estimators&#x27;: array([ 50, 100, 150])},\n",
       "                   scoring=&#x27;recall&#x27;, verbose=1)</pre></div></div></div><div class=\"sk-parallel\"><div class=\"sk-parallel-item\"><div class=\"sk-item\"><div class=\"sk-label-container\"><div class=\"sk-label sk-toggleable\"><input class=\"sk-toggleable__control sk-hidden--visually\" id=\"sk-estimator-id-2\" type=\"checkbox\" ><label for=\"sk-estimator-id-2\" class=\"sk-toggleable__label sk-toggleable__label-arrow\">estimator: Pipeline</label><div class=\"sk-toggleable__content\"><pre>Pipeline(steps=[(&#x27;feature_selection&#x27;,\n",
       "                 SelectKBest(k=5,\n",
       "                             score_func=&lt;function f_regression at 0x000002C233B344C0&gt;)),\n",
       "                (&#x27;xgb&#x27;,\n",
       "                 XGBClassifier(base_score=None, booster=None, callbacks=None,\n",
       "                               colsample_bylevel=None, colsample_bynode=None,\n",
       "                               colsample_bytree=None, device=None,\n",
       "                               early_stopping_rounds=None,\n",
       "                               enable_categorical=False, eval_metric=None,\n",
       "                               feature_types=None, gamma=Non...row_policy=None,\n",
       "                               importance_type=None,\n",
       "                               interaction_constraints=None, learning_rate=0.1,\n",
       "                               max_bin=None, max_cat_threshold=None,\n",
       "                               max_cat_to_onehot=None, max_delta_step=None,\n",
       "                               max_depth=None, max_leaves=None,\n",
       "                               min_child_weight=None, missing=nan,\n",
       "                               monotone_constraints=None, multi_strategy=None,\n",
       "                               n_estimators=300, n_jobs=None,\n",
       "                               num_parallel_tree=None, random_state=123, ...))])</pre></div></div></div><div class=\"sk-serial\"><div class=\"sk-item\"><div class=\"sk-serial\"><div class=\"sk-item\"><div class=\"sk-estimator sk-toggleable\"><input class=\"sk-toggleable__control sk-hidden--visually\" id=\"sk-estimator-id-3\" type=\"checkbox\" ><label for=\"sk-estimator-id-3\" class=\"sk-toggleable__label sk-toggleable__label-arrow\">SelectKBest</label><div class=\"sk-toggleable__content\"><pre>SelectKBest(k=5, score_func=&lt;function f_regression at 0x000002C233B344C0&gt;)</pre></div></div></div><div class=\"sk-item\"><div class=\"sk-estimator sk-toggleable\"><input class=\"sk-toggleable__control sk-hidden--visually\" id=\"sk-estimator-id-4\" type=\"checkbox\" ><label for=\"sk-estimator-id-4\" class=\"sk-toggleable__label sk-toggleable__label-arrow\">XGBClassifier</label><div class=\"sk-toggleable__content\"><pre>XGBClassifier(base_score=None, booster=None, callbacks=None,\n",
       "              colsample_bylevel=None, colsample_bynode=None,\n",
       "              colsample_bytree=None, device=None, early_stopping_rounds=None,\n",
       "              enable_categorical=False, eval_metric=None, feature_types=None,\n",
       "              gamma=None, grow_policy=None, importance_type=None,\n",
       "              interaction_constraints=None, learning_rate=0.1, max_bin=None,\n",
       "              max_cat_threshold=None, max_cat_to_onehot=None,\n",
       "              max_delta_step=None, max_depth=None, max_leaves=None,\n",
       "              min_child_weight=None, missing=nan, monotone_constraints=None,\n",
       "              multi_strategy=None, n_estimators=300, n_jobs=None,\n",
       "              num_parallel_tree=None, random_state=123, ...)</pre></div></div></div></div></div></div></div></div></div></div></div></div>"
      ],
      "text/plain": [
       "RandomizedSearchCV(cv=5,\n",
       "                   estimator=Pipeline(steps=[('feature_selection',\n",
       "                                              SelectKBest(k=5,\n",
       "                                                          score_func=<function f_regression at 0x000002C233B344C0>)),\n",
       "                                             ('xgb',\n",
       "                                              XGBClassifier(base_score=None,\n",
       "                                                            booster=None,\n",
       "                                                            callbacks=None,\n",
       "                                                            colsample_bylevel=None,\n",
       "                                                            colsample_bynode=None,\n",
       "                                                            colsample_bytree=None,\n",
       "                                                            device=None,\n",
       "                                                            early_stopping_rounds=None,\n",
       "                                                            enable_categorical=False,\n",
       "                                                            eval_metric...\n",
       "                                                            multi_strategy=None,\n",
       "                                                            n_estimators=300,\n",
       "                                                            n_jobs=None,\n",
       "                                                            num_parallel_tree=None,\n",
       "                                                            random_state=123, ...))]),\n",
       "                   n_iter=2,\n",
       "                   param_distributions={'xgb__learning_rate': array([0.05, 0.1 , 0.15, 0.2 , 0.25, 0.3 , 0.35, 0.4 , 0.45, 0.5 , 0.55,\n",
       "       0.6 , 0.65, 0.7 , 0.75, 0.8 , 0.85, 0.9 , 0.95]),\n",
       "                                        'xgb__max_depth': array([3, 4, 5, 6, 7, 8, 9]),\n",
       "                                        'xgb__n_estimators': array([ 50, 100, 150])},\n",
       "                   scoring='recall', verbose=1)"
      ]
     },
     "execution_count": 27,
     "metadata": {},
     "output_type": "execute_result"
    }
   ],
   "source": [
    "from sklearn.model_selection import RandomizedSearchCV\n",
    "xgb_randomized_cv = RandomizedSearchCV(pipe_xgb,gbm_param_grid,n_iter=2,scoring='recall',cv=5,verbose=1)\n",
    "xgb_randomized_cv.fit(X_train, y_train.values.ravel())\n"
   ]
  },
  {
   "cell_type": "code",
   "execution_count": 28,
   "id": "8348889d",
   "metadata": {},
   "outputs": [
    {
     "data": {
      "text/plain": [
       "{'xgb__n_estimators': 50,\n",
       " 'xgb__max_depth': 9,\n",
       " 'xgb__learning_rate': 0.9000000000000001}"
      ]
     },
     "execution_count": 28,
     "metadata": {},
     "output_type": "execute_result"
    }
   ],
   "source": [
    "xgb_randomized_cv.best_params_"
   ]
  },
  {
   "cell_type": "code",
   "execution_count": 29,
   "id": "2eb63b5c",
   "metadata": {},
   "outputs": [],
   "source": [
    "xgb_features_imp =xgb_randomized_cv.best_estimator_.named_steps[\"xgb\"].feature_importances_\n",
    "feature_names = xgb_randomized_cv.best_estimator_.named_steps.feature_selection.get_feature_names_out()"
   ]
  },
  {
   "cell_type": "code",
   "execution_count": 30,
   "id": "793ed734",
   "metadata": {},
   "outputs": [
    {
     "data": {
      "text/plain": [
       "<Axes: title={'center': 'xgb model feature importance'}, xlabel='feature important ratio', ylabel='Feature'>"
      ]
     },
     "execution_count": 30,
     "metadata": {},
     "output_type": "execute_result"
    },
    {
     "data": {
      "image/png": "[encoded data removed]",
      "text/plain": [
       "<Figure size 640x480 with 1 Axes>"
      ]
     },
     "metadata": {},
     "output_type": "display_data"
    }
   ],
   "source": [
    "# making a pandas dataframe\n",
    "data = list(zip(feature_names, xgb_features_imp))\n",
    "df_importances = pd.DataFrame(data, columns=['Feature', 'Importance'\n",
    "                                             ]).sort_values(by='Importance')\n",
    "df_importances.plot.barh(x='Feature',\n",
    "                         y='Importance',\n",
    "                         xlabel=\"feature important ratio\",\n",
    "                         title=\"xgb model feature importance\")"
   ]
  },
  {
   "cell_type": "code",
   "execution_count": 31,
   "id": "83705cf5",
   "metadata": {},
   "outputs": [
    {
     "data": {
      "text/plain": [
       "(0.8410035913149484, 0.16804772117553912)"
      ]
     },
     "execution_count": 31,
     "metadata": {},
     "output_type": "execute_result"
    }
   ],
   "source": [
    "cv_xgb= cross_validate(xgb_randomized_cv.best_estimator_, X_train, y_train, \n",
    "                            scoring='recall', cv=5, n_jobs=-1)\n",
    "\n",
    "cv_scores_xgb = cv_xgb['test_score']\n",
    "np.mean(cv_scores_xgb), np.std(cv_scores_xgb)"
   ]
  },
  {
   "cell_type": "code",
   "execution_count": 32,
   "id": "84fb30c3",
   "metadata": {},
   "outputs": [
    {
     "name": "stderr",
     "output_type": "stream",
     "text": [
      "C:\\Users\\Yan Zhang\\anaconda3\\lib\\site-packages\\sklearn\\base.py:465: UserWarning: X does not have valid feature names, but SelectKBest was fitted with feature names\n",
      "  warnings.warn(\n"
     ]
    }
   ],
   "source": [
    "y_tr_pred = xgb_randomized_cv.best_estimator_.predict(X_train)\n",
    "y_te_pred = xgb_randomized_cv.best_estimator_.predict(X_test)\n",
    "y_pred_probs = xgb_randomized_cv.best_estimator_.predict_proba(\n",
    "    X_test.values)[:, 1]\n",
    "#print(roc_auc_score(y_test, y_pred_probs))"
   ]
  },
  {
   "cell_type": "code",
   "execution_count": 33,
   "id": "8f89e849",
   "metadata": {},
   "outputs": [
    {
     "name": "stdout",
     "output_type": "stream",
     "text": [
      "Best Threshold=0.14\n"
     ]
    }
   ],
   "source": [
    "\n",
    "# # get the best threshold\n",
    "fpr, tpr, thresholds = roc_curve(y_test, y_pred_probs)\n",
    "J = tpr - fpr\n",
    "ix = np.argmax(J)\n",
    "best_thresh = thresholds[ix]\n",
    "print('Best Threshold=%.2f' % (best_thresh))"
   ]
  },
  {
   "cell_type": "code",
   "execution_count": 34,
   "id": "926e1ce5",
   "metadata": {},
   "outputs": [
    {
     "data": {
      "image/png": "[encoded data removed]",
      "text/plain": [
       "<Figure size 640x480 with 1 Axes>"
      ]
     },
     "metadata": {},
     "output_type": "display_data"
    }
   ],
   "source": [
    "\n",
    "# plot the roc curve for the model\n",
    "plt.plot([0,1], [0,1], linestyle='--', label='No Skill')\n",
    "plt.plot(fpr, tpr, marker='.', label='XGBoost')\n",
    "plt.scatter(fpr[ix], tpr[ix], marker='o', color='black', label='Best')\n",
    "# axis labels\n",
    "plt.xlabel('False Positive Rate')\n",
    "plt.ylabel('True Positive Rate')\n",
    "plt.legend()\n",
    "# show the plot\n",
    "plt.show()"
   ]
  },
  {
   "cell_type": "code",
   "execution_count": 42,
   "id": "01de660a",
   "metadata": {},
   "outputs": [],
   "source": [
    "y_pred = (y_pred_probs >= 0.14).astype('int')"
   ]
  },
  {
   "cell_type": "code",
   "execution_count": 43,
   "id": "879a2ac3",
   "metadata": {},
   "outputs": [
    {
     "name": "stdout",
     "output_type": "stream",
     "text": [
      "XGBOOST roc_auc:0.71\n",
      "XGBOOST precision:0.38\n",
      "XGBOOST recall:0.67\n",
      "XGBOOST Accuracy:0.73\n"
     ]
    }
   ],
   "source": [
    "print(\"XGBOOST roc_auc:%.2f\"% roc_auc_score(y_test, y_pred))\n",
    "print(\"XGBOOST precision:%.2f\"%  precision_score(y_test, y_pred))\n",
    "print(\"XGBOOST recall:%.2f\"% recall_score(y_test, y_pred))\n",
    "print(\"XGBOOST Accuracy:%.2f\"% accuracy_score(y_test, y_pred))"
   ]
  },
  {
   "cell_type": "code",
   "execution_count": 37,
   "id": "844ffaba",
   "metadata": {},
   "outputs": [
    {
     "data": {
      "image/png": "[encoded data removed]",
      "text/plain": [
       "<Figure size 640x480 with 2 Axes>"
      ]
     },
     "metadata": {},
     "output_type": "display_data"
    },
    {
     "name": "stdout",
     "output_type": "stream",
     "text": [
      "              precision    recall  f1-score   support\n",
      "\n",
      "           0       0.92      0.64      0.76      1293\n",
      "           1       0.33      0.75      0.46       303\n",
      "\n",
      "    accuracy                           0.66      1596\n",
      "   macro avg       0.62      0.70      0.61      1596\n",
      "weighted avg       0.81      0.66      0.70      1596\n",
      "\n"
     ]
    }
   ],
   "source": [
    "report_xgb = classification_report(y_test, y_pred)\n",
    "cm_xgb = confusion_matrix(y_test, y_pred)\n",
    "ConfusionMatrixDisplay(confusion_matrix=cm_xgb,display_labels=xgb_randomized_cv.classes_).plot()\n",
    "plt.show()\n",
    "print(classification_report(y_test, y_pred))"
   ]
  },
  {
   "cell_type": "code",
   "execution_count": 44,
   "id": "e7a350a3",
   "metadata": {},
   "outputs": [
    {
     "data": {
      "text/html": [
       "<div>\n",
       "<style scoped>\n",
       "    .dataframe tbody tr th:only-of-type {\n",
       "        vertical-align: middle;\n",
       "    }\n",
       "\n",
       "    .dataframe tbody tr th {\n",
       "        vertical-align: top;\n",
       "    }\n",
       "\n",
       "    .dataframe thead th {\n",
       "        text-align: right;\n",
       "    }\n",
       "</style>\n",
       "<table border=\"1\" class=\"dataframe\">\n",
       "  <thead>\n",
       "    <tr style=\"text-align: right;\">\n",
       "      <th></th>\n",
       "      <th>cv score</th>\n",
       "      <th>roc_auc</th>\n",
       "      <th>precision</th>\n",
       "      <th>recall</th>\n",
       "      <th>accuracy</th>\n",
       "    </tr>\n",
       "  </thead>\n",
       "  <tbody>\n",
       "    <tr>\n",
       "      <th>LogisticRegression</th>\n",
       "      <td>0.82</td>\n",
       "      <td>0.75</td>\n",
       "      <td>0.38</td>\n",
       "      <td>0.80</td>\n",
       "      <td>0.72</td>\n",
       "    </tr>\n",
       "    <tr>\n",
       "      <th>Randomforest</th>\n",
       "      <td>0.90</td>\n",
       "      <td>0.73</td>\n",
       "      <td>0.35</td>\n",
       "      <td>0.81</td>\n",
       "      <td>0.68</td>\n",
       "    </tr>\n",
       "    <tr>\n",
       "      <th>XGBoost</th>\n",
       "      <td>0.84</td>\n",
       "      <td>0.71</td>\n",
       "      <td>0.33</td>\n",
       "      <td>0.67</td>\n",
       "      <td>0.73</td>\n",
       "    </tr>\n",
       "  </tbody>\n",
       "</table>\n",
       "</div>"
      ],
      "text/plain": [
       "                    cv score  roc_auc  precision  recall  accuracy\n",
       "LogisticRegression      0.82     0.75       0.38    0.80      0.72\n",
       "Randomforest            0.90     0.73       0.35    0.81      0.68\n",
       "XGBoost                 0.84     0.71       0.33    0.67      0.73"
      ]
     },
     "execution_count": 44,
     "metadata": {},
     "output_type": "execute_result"
    }
   ],
   "source": [
    "\n",
    "model_1_metrics = {\"cv score\":0.82,\"roc_auc\":0.75,\"precision\":0.38, \"recall\":0.80,\"accuracy\":0.72}\n",
    "model_2_metrics = {\"cv score\":0.90,\"roc_auc\":0.73,\"precision\":0.35, \"recall\":0.81,\"accuracy\":0.68}\n",
    "model_3_metrics = {\"cv score\":0.84,\"roc_auc\":0.71,\"precision\":0.33, \"recall\":0.67,\"accuracy\":0.73}\n",
    "all_metrics=[model_1_metrics,model_2_metrics,model_3_metrics]\n",
    "model_names =[\"LogisticRegression\",\"Randomforest\",\"XGBoost\"]\n",
    "metrics_df = pd.DataFrame(all_metrics, index =model_names )\n",
    "metrics_df"
   ]
  },
  {
   "cell_type": "markdown",
   "id": "e984f90c",
   "metadata": {},
   "source": [
    "among the three models, the random forest showed the highest cross validation score 0.90 and recall score (0.81) and it be selected as the final model"
   ]
  },
  {
   "cell_type": "markdown",
   "id": "dd87e14b",
   "metadata": {},
   "source": [
    "## Save best model object frome pipeline"
   ]
  },
  {
   "cell_type": "code",
   "execution_count": 45,
   "id": "7847a7e3",
   "metadata": {},
   "outputs": [],
   "source": [
    "best_model = rf_grid_cv.best_estimator_\n",
    "best_model.version = '1.0'\n",
    "best_model.pandas_version = pd.__version__\n",
    "best_model.numpy_version = np.__version__\n",
    "best_model.sklearn_version = sklearn_version\n",
    "best_model.X_columns = [col for col in X_train.columns]\n",
    "best_model.build_datetime = datetime.datetime.now()\n"
   ]
  },
  {
   "cell_type": "code",
   "execution_count": 46,
   "id": "2fced55f",
   "metadata": {},
   "outputs": [],
   "source": [
    "import pickle"
   ]
  },
  {
   "cell_type": "code",
   "execution_count": 47,
   "id": "08dc62c9",
   "metadata": {},
   "outputs": [],
   "source": [
    "# save the model to disk\n",
    "filename = 'wine_quality_model.sav'\n",
    "pickle.dump(best_model, open(filename, 'wb'))"
   ]
  },
  {
   "cell_type": "markdown",
   "id": "e306b3bc",
   "metadata": {},
   "source": [
    "## summary"
   ]
  },
  {
   "cell_type": "markdown",
   "id": "ea039b89",
   "metadata": {},
   "source": [
    "Four modeling were performed in good wine quality prediction. At beginner, the dummyclassifier is used as baseline model, which the prediction is irrelavent to featrues. Then three models logisticregression, random forest model and xgboost were evaluate through pipeline. the cv results shows the random forest model have highest scores. All three model were tunning, and the metrics such as precision, recall, f1 and roc_auc scores were recorded. In the end, the random forest had highest recall score (0.81), and be chose as the final model. \n"
   ]
  },
  {
   "cell_type": "markdown",
   "id": "baf147df",
   "metadata": {},
   "source": [
    "## future work"
   ]
  },
  {
   "cell_type": "markdown",
   "id": "86435163",
   "metadata": {},
   "source": [
    "1. in the modeling, only five feature were used, may try more features to feed a model.\n",
    "2. in the data preprocess, the outliners was not removed, it may affect the model performance. If time allowed, will address the outliners before modeling.\n",
    "3. the modeling reveals alcohol play important role in producing good wine quality, the relation of alcohol amount to quality need to further explored. "
   ]
  },
  {
   "cell_type": "code",
   "execution_count": null,
   "id": "88640bcb",
   "metadata": {},
   "outputs": [],
   "source": []
  }
 ],
 "metadata": {
  "kernelspec": {
   "display_name": "Python 3 (ipykernel)",
   "language": "python",
   "name": "python3"
  },
  "language_info": {
   "codemirror_mode": {
    "name": "ipython",
    "version": 3
   },
   "file_extension": ".py",
   "mimetype": "text/x-python",
   "name": "python",
   "nbconvert_exporter": "python",
   "pygments_lexer": "ipython3",
   "version": "3.10.12"
  },
  "toc": {
   "base_numbering": 1,
   "nav_menu": {},
   "number_sections": true,
   "sideBar": true,
   "skip_h1_title": false,
   "title_cell": "Table of Contents",
   "title_sidebar": "Contents",
   "toc_cell": false,
   "toc_position": {},
   "toc_section_display": true,
   "toc_window_display": false
  }
 },
 "nbformat": 4,
 "nbformat_minor": 5
}
