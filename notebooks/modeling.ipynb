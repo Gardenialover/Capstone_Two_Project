{
 "cells": [
  {
   "cell_type": "markdown",
   "id": "160bebdc",
   "metadata": {},
   "source": [
    "# loading data"
   ]
  },
  {
   "cell_type": "code",
   "execution_count": null,
   "id": "cd61747f",
   "metadata": {},
   "outputs": [],
   "source": [
    "import numpy as np\n",
    "import scipy as sp\n",
    "import pandas as pd\n",
    "\n",
    "# plotting and visualization\n",
    "\n",
    "import matplotlib.colors\n",
    "import matplotlib.pyplot as plt\n",
    "import seaborn as sns\n",
    "\n",
    "# modeling\n",
    "import sklearn.model_selection\n",
    "from sklearn.model_selection import KFold\n",
    "from sklearn.feature_selection import SelectKBest, f_regression\n",
    "from sklearn.model_selection import cross_val_score,cross_validate\n",
    "from xgboost import XGBClassifier\n",
    "from sklearn.linear_model import LogisticRegression\n",
    "from sklearn.neighbors import KNeighborsClassifier\n",
    "from sklearn.dummy import DummyClassifier\n",
    "from sklearn.ensemble import RandomForestClassifier\n",
    "from sklearn.metrics import accuracy_score, f1_score,precision_score\n",
    "from sklearn.metrics import precision_recall_fscore_support as score\n",
    "from sklearn.metrics import classification_report\n",
    "from sklearn.metrics import confusion_matrix\n",
    "from sklearn.metrics import roc_auc_score, roc_curve\n",
    "from sklearn.metrics import ConfusionMatrixDisplay\n",
    "\n",
    "import pickle\n",
    "\n",
    "from sklearn import __version__ as sklearn_version\n",
    "from sklearn.model_selection import train_test_split, cross_validate, GridSearchCV\n",
    "\n",
    "from sklearn.pipeline import make_pipeline\n",
    "from sklearn.impute import SimpleImputer\n",
    "from sklearn.feature_selection import SelectKBest, f_regression\n",
    "import datetime\n",
    "\n",
    "import os"
   ]
  },
  {
   "cell_type": "code",
   "execution_count": null,
   "id": "4bdf513b",
   "metadata": {},
   "outputs": [],
   "source": [
    "X_train = pd.read_csv(\"../Capstone_Two_Project/data/processed/X_train.csv\", index_col = 0)"
   ]
  },
  {
   "cell_type": "code",
   "execution_count": null,
   "id": "859f3315",
   "metadata": {},
   "outputs": [],
   "source": [
    "X_test = pd.read_csv(\"../Capstone_Two_Project/data/processed/X_test.csv\", index_col = 0)"
   ]
  },
  {
   "cell_type": "code",
   "execution_count": null,
   "id": "2b950514",
   "metadata": {},
   "outputs": [],
   "source": [
    "y_train = pd.read_csv(\"../Capstone_Two_Project/data/processed/y_train.csv\",index_col = False)\n",
    "\n",
    "y_train=y_train.drop('Unnamed: 0',axis=1)"
   ]
  },
  {
   "cell_type": "code",
   "execution_count": null,
   "id": "48c92a7f",
   "metadata": {},
   "outputs": [],
   "source": [
    "y_test = pd.read_csv(\"../Capstone_Two_Project/data/processed/y_test.csv\", index_col = False)\n",
    "y_test=y_test.drop('Unnamed: 0',axis=1)"
   ]
  },
  {
   "cell_type": "markdown",
   "id": "91db5b29",
   "metadata": {},
   "source": [
    "# Modeling"
   ]
  },
  {
   "cell_type": "markdown",
   "id": "89a34133",
   "metadata": {},
   "source": [
    "## Metrics for model performance"
   ]
  },
  {
   "cell_type": "markdown",
   "id": "8bda3a6e",
   "metadata": {},
   "source": [
    "For a classification machine learning, several metrics such as accuracy, recall, F1 and ROC_AUC are used in model performance evaluation. The project purpose is to predict good quality wine, and the dataset is imblanced, therefore the model with highest precision values with relative high accuracy among the three models:Logisticregression, randomforest, XGBoost will be the winner. "
   ]
  },
  {
   "cell_type": "markdown",
   "id": "8c8eadb5",
   "metadata": {},
   "source": [
    "## Baseline model"
   ]
  },
  {
   "cell_type": "markdown",
   "id": "2d01ed37",
   "metadata": {},
   "source": [
    "dummyclassifier is used in modeling prediction. it will serve as the baseline modeling, good models should shows better metris than it."
   ]
  },
  {
   "cell_type": "code",
   "execution_count": null,
   "id": "ebf91c01",
   "metadata": {},
   "outputs": [],
   "source": [
    "dummy = DummyClassifier(strategy =\"stratified\",random_state = 123)\n",
    "dummy.fit(X_train.values,y_train.values.ravel())\n",
    "y_pred = dummy.predict(X_test.values)\n",
    "y_pred_probs = dummy.predict_proba(X_test.values) [:,1]"
   ]
  },
  {
   "cell_type": "code",
   "execution_count": null,
   "id": "feb71e13",
   "metadata": {},
   "outputs": [],
   "source": [
    "pc_dummy = precision_score(y_test, y_pred,average='weighted')\n",
    "report_dummy = classification_report(y_test, y_pred)\n",
    "cm_dummy = confusion_matrix(y_test, y_pred)\n",
    "print('dummy: precision=%.3f' % (pc_dummy))"
   ]
  },
  {
   "cell_type": "code",
   "execution_count": null,
   "id": "1f775d99",
   "metadata": {},
   "outputs": [],
   "source": [
    "print(\"report:\", report_dummy,\"\\n\")"
   ]
  },
  {
   "cell_type": "markdown",
   "id": "2f80e963",
   "metadata": {},
   "source": [
    "In dummy model, the precison for predict good win is 0.20. overall precision is 0.697."
   ]
  },
  {
   "cell_type": "markdown",
   "id": "304c0fff",
   "metadata": {},
   "source": [
    "three models:logisticregression, random forest and XGBoost Model will be selected. Through compare the cross validtion scores, the final model will be select and final tuned. Also, the number of features used in modeling was controlled bu selectkbest algorithms. "
   ]
  },
  {
   "cell_type": "markdown",
   "id": "2fe3b74a",
   "metadata": {},
   "source": [
    "## Logisticregression model"
   ]
  },
  {
   "cell_type": "markdown",
   "id": "8768ca3f",
   "metadata": {},
   "source": [
    "### make a pipeline"
   ]
  },
  {
   "cell_type": "code",
   "execution_count": null,
   "id": "a1686511",
   "metadata": {},
   "outputs": [],
   "source": [
    "from sklearn.pipeline import Pipeline\n",
    "pipe_log = Pipeline(\n",
    "    steps =[(\"feature_selection\",SelectKBest(score_func=f_regression)),(\"model\",\n",
    "    LogisticRegression())]\n",
    ")"
   ]
  },
  {
   "cell_type": "code",
   "execution_count": null,
   "id": "3b498cd6",
   "metadata": {},
   "outputs": [],
   "source": [
    "pipe_log.fit(X_train.values, y_train.values.ravel())"
   ]
  },
  {
   "cell_type": "code",
   "execution_count": null,
   "id": "5ccb446e",
   "metadata": {},
   "outputs": [],
   "source": [
    "y_tr_pred_log = pipe_log.predict(X_train.values)\n",
    "y_te_pred_log= pipe_log.predict(X_test.values)"
   ]
  },
  {
   "cell_type": "code",
   "execution_count": null,
   "id": "7faf45af",
   "metadata": {},
   "outputs": [],
   "source": [
    "y_pred_log_probs = pipe_log.predict_proba(X_test.values) [:,1]\n",
    "print(roc_auc_score(y_test, y_pred_log_probs))"
   ]
  },
  {
   "cell_type": "code",
   "execution_count": null,
   "id": "6d619704",
   "metadata": {},
   "outputs": [],
   "source": [
    "precision_score(y_train, y_tr_pred_log, average = \"weighted\" ), precision_score(y_test, y_te_pred_log, average =\"weighted\")"
   ]
  },
  {
   "cell_type": "code",
   "execution_count": null,
   "id": "733d46d8",
   "metadata": {},
   "outputs": [],
   "source": [
    "accuracy_score(y_train, y_tr_pred_log), accuracy_score(y_test, y_te_pred_log)"
   ]
  },
  {
   "cell_type": "code",
   "execution_count": null,
   "id": "ab5c0eab",
   "metadata": {},
   "outputs": [],
   "source": [
    "# report_log = classification_report(y_test, y_te_pred_log)\n",
    "# cm_log = confusion_matrix(y_test, y_te_pred_log)\n",
    "# ConfusionMatrixDisplay(confusion_matrix=cm_log,display_labels=pipe_log.classes_).plot()\n",
    "# plt.show()\n",
    "print(classification_report(y_test, y_te_pred_log))"
   ]
  },
  {
   "cell_type": "markdown",
   "id": "ebf589b7",
   "metadata": {},
   "source": [
    "### Assessing performance using cross-validation"
   ]
  },
  {
   "cell_type": "code",
   "execution_count": null,
   "id": "273a1d68",
   "metadata": {},
   "outputs": [],
   "source": [
    "cv_results_log = cross_validate(pipe_log, X_train, y_train.values.ravel(), cv=5,scoring = \"precision\")"
   ]
  },
  {
   "cell_type": "code",
   "execution_count": null,
   "id": "1f15178a",
   "metadata": {},
   "outputs": [],
   "source": [
    "cv_scores_log = cv_results_log['test_score']\n",
    "cv_scores_log"
   ]
  },
  {
   "cell_type": "code",
   "execution_count": null,
   "id": "3d3765c8",
   "metadata": {},
   "outputs": [],
   "source": [
    "cv_scores_mean_log = np.mean(cv_scores_log)\n",
    "cv_score_std_log = np.std(cv_scores_log)\n",
    "print(cv_scores_mean_log, cv_score_std_log)"
   ]
  },
  {
   "cell_type": "markdown",
   "id": "25dc321a",
   "metadata": {},
   "source": [
    "the cv score is only 0.59, which is lower than the intial logistic regression modeling. "
   ]
  },
  {
   "cell_type": "markdown",
   "id": "8472085e",
   "metadata": {},
   "source": [
    "## Random forest "
   ]
  },
  {
   "cell_type": "markdown",
   "id": "ec106faf",
   "metadata": {},
   "source": [
    "### using the default setting"
   ]
  },
  {
   "cell_type": "code",
   "execution_count": null,
   "id": "e35f1a73",
   "metadata": {},
   "outputs": [],
   "source": [
    "pipe_rf = Pipeline(\n",
    "    steps =[(\"feature_selection\",SelectKBest(score_func=f_regression)),(\"rf\",\n",
    "    RandomForestClassifier(random_state= 123))]\n",
    ")"
   ]
  },
  {
   "cell_type": "code",
   "execution_count": null,
   "id": "b384fd54",
   "metadata": {},
   "outputs": [],
   "source": [
    "pipe_rf.fit(X_train, y_train.values.ravel())"
   ]
  },
  {
   "cell_type": "code",
   "execution_count": null,
   "id": "2004787b",
   "metadata": {},
   "outputs": [],
   "source": [
    "y_tr_pred_rf = pipe_rf.predict(X_train)\n",
    "y_te_pred_rf = pipe_rf.predict(X_test)"
   ]
  },
  {
   "cell_type": "code",
   "execution_count": null,
   "id": "c36fb27a",
   "metadata": {},
   "outputs": [],
   "source": [
    "y_pred_rf_probs = pipe_rf.predict_proba(X_test.values) [:,1]\n",
    "print(roc_auc_score(y_test, y_pred_rf_probs))"
   ]
  },
  {
   "cell_type": "code",
   "execution_count": null,
   "id": "0eb3d392",
   "metadata": {},
   "outputs": [],
   "source": [
    "precision_score(y_train, y_tr_pred_rf, average = \"weighted\" ), precision_score(y_test, y_te_pred_rf, average =\"weighted\")"
   ]
  },
  {
   "cell_type": "markdown",
   "id": "a54594a2",
   "metadata": {},
   "source": [
    "### check cross validation score"
   ]
  },
  {
   "cell_type": "code",
   "execution_count": null,
   "id": "a54c324c",
   "metadata": {},
   "outputs": [],
   "source": [
    "cv_results_rf = cross_validate(pipe_rf, X_train, y_train.values.ravel(), cv=5,scoring = \"precision\")\n",
    "cv_scores_rf = cv_results_rf['test_score']\n",
    "cv_scores_rf"
   ]
  },
  {
   "cell_type": "code",
   "execution_count": null,
   "id": "0c06b91d",
   "metadata": {},
   "outputs": [],
   "source": [
    "accuracy_score(y_train, y_tr_pred_rf), accuracy_score(y_test, y_te_pred_rf)"
   ]
  },
  {
   "cell_type": "code",
   "execution_count": null,
   "id": "9139a80e",
   "metadata": {},
   "outputs": [],
   "source": [
    "np.mean(cv_scores_rf), np.std(cv_scores_rf)"
   ]
  },
  {
   "cell_type": "markdown",
   "id": "2a720546",
   "metadata": {},
   "source": [
    "## XGBoost model"
   ]
  },
  {
   "cell_type": "code",
   "execution_count": null,
   "id": "0d00db77",
   "metadata": {},
   "outputs": [],
   "source": [
    "pipe_xgb = Pipeline(\n",
    "    steps =[(\"feature_selection\",SelectKBest(score_func=f_regression)),(\"rf\",\n",
    "    XGBClassifier(objective='binary:logistic',learning_rate=0.1 , n_estimators=300, random_state=123))]\n",
    ")"
   ]
  },
  {
   "cell_type": "code",
   "execution_count": null,
   "id": "aacb0112",
   "metadata": {},
   "outputs": [],
   "source": [
    "pipe_xgb.fit(X_train, y_train.values.ravel())"
   ]
  },
  {
   "cell_type": "code",
   "execution_count": null,
   "id": "a7de21fa",
   "metadata": {},
   "outputs": [],
   "source": [
    "y_tr_pred_xgb = pipe_xgb.predict(X_train)\n",
    "y_te_pred_xgb = pipe_xgb.predict(X_test)\n",
    "y_pred_xgb_probs = pipe_xgb.predict_proba(X_test.values) [:,1]\n",
    "print(roc_auc_score(y_test, y_pred_xgb_probs))"
   ]
  },
  {
   "cell_type": "code",
   "execution_count": null,
   "id": "62d6ac57",
   "metadata": {},
   "outputs": [],
   "source": [
    "precision_score(y_train, y_tr_pred_xgb, average = \"weighted\" ), precision_score(y_test, y_te_pred_xgb, average =\"weighted\")"
   ]
  },
  {
   "cell_type": "markdown",
   "id": "3c25c4b9",
   "metadata": {},
   "source": [
    "### cross validation"
   ]
  },
  {
   "cell_type": "code",
   "execution_count": null,
   "id": "c200591b",
   "metadata": {},
   "outputs": [],
   "source": [
    "cv_results_xgb = cross_validate(pipe_xgb, X_train, y_train.values.ravel(), cv=5,scoring = \"precision\")\n",
    "cv_scores_xgb = cv_results_xgb['test_score']\n",
    "cv_scores_xgb"
   ]
  },
  {
   "cell_type": "code",
   "execution_count": null,
   "id": "5d2cec83",
   "metadata": {},
   "outputs": [],
   "source": [
    "np.mean(cv_scores_xgb), np.std(cv_scores_xgb)"
   ]
  },
  {
   "cell_type": "markdown",
   "id": "b1b93bf6",
   "metadata": {},
   "source": [
    "## CV of the three models:"
   ]
  },
  {
   "cell_type": "code",
   "execution_count": null,
   "id": "76d16783",
   "metadata": {},
   "outputs": [],
   "source": [
    "cv_dict = {\n",
    "    \"cv_scores_log\": np.mean(cv_scores_log),\n",
    "    \"cv_scores_rf\": np.mean(cv_scores_rf),\n",
    "    \"cv_scores_xgb\": np.mean(cv_scores_xgb)\n",
    "}\n",
    "cv_score_model = pd.DataFrame(cv_dict.items(), columns=[\"cv_score\",\"std\"])\n",
    "cv_score_model"
   ]
  },
  {
   "cell_type": "markdown",
   "id": "39bdc18f",
   "metadata": {},
   "source": [
    "among the three modles, random forest shows a slighlty highier score. Both logisticregression and random wil be tunning,and compare. "
   ]
  },
  {
   "cell_type": "markdown",
   "id": "bc834bd2",
   "metadata": {},
   "source": [
    "## tunining model"
   ]
  },
  {
   "cell_type": "markdown",
   "id": "a9abcc35",
   "metadata": {},
   "source": [
    "### logisticregression model"
   ]
  },
  {
   "cell_type": "code",
   "execution_count": null,
   "id": "03f86fbe",
   "metadata": {},
   "outputs": [],
   "source": [
    "k = [k+1 for k in range(len(X_train.columns))]\n",
    "c_values = [0.01,0.1,1.0,10,100]\n",
    "solvers = ['lbfgs', 'liblinear', 'newton-cg', 'newton-cholesky']\n",
    "grid_params = {'feature_selection__k': k, 'model__C':c_values,'model__solver':solvers}\n",
    "#grid_params = {'feature_slection__k': k}"
   ]
  },
  {
   "cell_type": "code",
   "execution_count": null,
   "id": "3783a265",
   "metadata": {},
   "outputs": [],
   "source": [
    "log_grid_cv = GridSearchCV(pipe_log, param_grid=grid_params,scoring=\"precision\", cv=5, n_jobs=-1)"
   ]
  },
  {
   "cell_type": "code",
   "execution_count": null,
   "id": "22c81eda",
   "metadata": {},
   "outputs": [],
   "source": [
    "log_grid_cv.fit(X_train, y_train.values.ravel())"
   ]
  },
  {
   "cell_type": "code",
   "execution_count": null,
   "id": "b0032c32",
   "metadata": {},
   "outputs": [],
   "source": [
    "score_mean = log_grid_cv.cv_results_['mean_test_score']\n",
    "score_std = log_grid_cv.cv_results_['std_test_score']\n"
   ]
  },
  {
   "cell_type": "code",
   "execution_count": null,
   "id": "c5ac6057",
   "metadata": {},
   "outputs": [],
   "source": [
    "log_grid_cv.best_params_"
   ]
  },
  {
   "cell_type": "code",
   "execution_count": null,
   "id": "76b60a14",
   "metadata": {},
   "outputs": [],
   "source": [
    "selected = log_grid_cv.best_estimator_.named_steps.feature_selection.get_support()\n",
    "coefs = log_grid_cv.best_estimator_.named_steps.model.coef_\n",
    "features = X_train.columns[selected]\n",
    "pd.Series(coefs.ravel(), index = features.ravel()).sort_values(ascending=False)"
   ]
  },
  {
   "cell_type": "markdown",
   "id": "ad5c48a3",
   "metadata": {},
   "source": [
    "### random forest model"
   ]
  },
  {
   "cell_type": "code",
   "execution_count": null,
   "id": "f5ad4865",
   "metadata": {},
   "outputs": [],
   "source": [
    "pipe = Pipeline(\n",
    "    steps =[(\"feature_selection\",SelectKBest(score_func=f_regression)),(\"rf\",\n",
    "    RandomForestClassifier(random_state= 123))]\n",
    ")"
   ]
  },
  {
   "cell_type": "code",
   "execution_count": null,
   "id": "03429917",
   "metadata": {},
   "outputs": [],
   "source": [
    "k = [k+1 for k in range(len(X_train.columns))]\n",
    "n_est = [50,100,300,500]\n",
    "grid_params = {'feature_selection__k': k,\n",
    "        'rf__n_estimators': n_est\n",
    "        \n",
    "}"
   ]
  },
  {
   "cell_type": "code",
   "execution_count": null,
   "id": "a1d8013b",
   "metadata": {},
   "outputs": [],
   "source": [
    "rf_grid_cv = GridSearchCV(pipe, param_grid=grid_params,scoring =\"precision\", cv=5, n_jobs=-1)\n",
    "rf_grid_cv.fit(X_train, y_train.values.ravel())"
   ]
  },
  {
   "cell_type": "code",
   "execution_count": null,
   "id": "4d56604c",
   "metadata": {},
   "outputs": [],
   "source": [
    "rf_grid_cv.best_params_"
   ]
  },
  {
   "cell_type": "code",
   "execution_count": null,
   "id": "bd37a20a",
   "metadata": {},
   "outputs": [],
   "source": [
    "#Plot a barplot of the random forest's feature importances,\n",
    "#assigning the `feature_importances_` attribute of \n",
    "\n",
    "features_imp = rf_grid_cv.best_estimator_.named_steps.rf.feature_importances_\n",
    "features_imp"
   ]
  },
  {
   "cell_type": "code",
   "execution_count": null,
   "id": "a913921e",
   "metadata": {},
   "outputs": [],
   "source": [
    "X_train.columns"
   ]
  },
  {
   "cell_type": "code",
   "execution_count": null,
   "id": "96dd6a93",
   "metadata": {},
   "outputs": [],
   "source": [
    "plt.subplots(figsize=(10, 5))\n",
    "rf_feat = pd.Series(features_imp, index=X_train.columns).sort_values(ascending=False)\n",
    "rf_feat.plot(kind='bar')\n",
    "plt.xlabel('feature name')\n",
    "plt.ylabel('importance')\n",
    "plt.title('Tunied random forest feature importances');"
   ]
  },
  {
   "cell_type": "code",
   "execution_count": null,
   "id": "edbd1a45",
   "metadata": {},
   "outputs": [],
   "source": [
    "cv_rf = cross_validate(rf_grid_cv.best_estimator_, X_train, y_train, \n",
    "                            scoring='precision', cv=5, n_jobs=-1)"
   ]
  },
  {
   "cell_type": "code",
   "execution_count": null,
   "id": "19c0db2f",
   "metadata": {},
   "outputs": [],
   "source": [
    "cv_scores_rf = cv_rf['test_score']\n",
    "np.mean(cv_scores_rf), np.std(cv_scores_rf)"
   ]
  },
  {
   "cell_type": "code",
   "execution_count": null,
   "id": "29caffed",
   "metadata": {},
   "outputs": [],
   "source": [
    "\n",
    "y_tr_pred = rf_grid_cv.best_estimator_.predict(X_train)\n",
    "y_te_pred = rf_grid_cv.best_estimator_.predict(X_test)\n",
    "y_pred_probs = rf_grid_cv.best_estimator_.predict_proba(X_test.values) [:,1]\n",
    "print(roc_auc_score(y_test, y_pred_probs))"
   ]
  },
  {
   "cell_type": "code",
   "execution_count": null,
   "id": "84191f25",
   "metadata": {},
   "outputs": [],
   "source": [
    "report_rf = classification_report(y_test, y_te_pred)\n",
    "cm_rf = confusion_matrix(y_test, y_te_pred)\n",
    "ConfusionMatrixDisplay(confusion_matrix=cm_rf,display_labels=rf_grid_cv.classes_).plot()\n",
    "plt.show()\n",
    "print(classification_report(y_test, y_te_pred))"
   ]
  },
  {
   "cell_type": "markdown",
   "id": "dd87e14b",
   "metadata": {},
   "source": [
    "## Save best model object frome pipeline"
   ]
  },
  {
   "cell_type": "code",
   "execution_count": null,
   "id": "7847a7e3",
   "metadata": {},
   "outputs": [],
   "source": [
    "best_model = rf_grid_cv.best_estimator_\n",
    "best_model.version = '1.0'\n",
    "best_model.pandas_version = pd.__version__\n",
    "best_model.numpy_version = np.__version__\n",
    "best_model.sklearn_version = sklearn_version\n",
    "best_model.X_columns = [col for col in X_train.columns]\n",
    "best_model.build_datetime = datetime.datetime.now()\n"
   ]
  },
  {
   "cell_type": "code",
   "execution_count": null,
   "id": "5e8598d8",
   "metadata": {},
   "outputs": [],
   "source": [
    "import pickle"
   ]
  },
  {
   "cell_type": "code",
   "execution_count": null,
   "id": "08dc62c9",
   "metadata": {},
   "outputs": [],
   "source": [
    "# save the model to disk\n",
    "filename = 'wine_quality_model.sav'\n",
    "pickle.dump(best_model, open(filename, 'wb'))"
   ]
  },
  {
   "cell_type": "markdown",
   "id": "96d9b36b",
   "metadata": {},
   "source": [
    "## Modeling the wine quality"
   ]
  },
  {
   "cell_type": "code",
   "execution_count": 68,
   "id": "5a2b4c67",
   "metadata": {},
   "outputs": [
    {
     "data": {
      "text/html": [
       "<div>\n",
       "<style scoped>\n",
       "    .dataframe tbody tr th:only-of-type {\n",
       "        vertical-align: middle;\n",
       "    }\n",
       "\n",
       "    .dataframe tbody tr th {\n",
       "        vertical-align: top;\n",
       "    }\n",
       "\n",
       "    .dataframe thead th {\n",
       "        text-align: right;\n",
       "    }\n",
       "</style>\n",
       "<table border=\"1\" class=\"dataframe\">\n",
       "  <thead>\n",
       "    <tr style=\"text-align: right;\">\n",
       "      <th></th>\n",
       "      <th>Unnamed: 0</th>\n",
       "      <th>fixed_acidity</th>\n",
       "      <th>volatile_acidity</th>\n",
       "      <th>citric_acid</th>\n",
       "      <th>residual_sugar</th>\n",
       "      <th>chlorides</th>\n",
       "      <th>free_sulfur_dioxide</th>\n",
       "      <th>total_sulfur_dioxide</th>\n",
       "      <th>density</th>\n",
       "      <th>pH</th>\n",
       "      <th>sulphates</th>\n",
       "      <th>alcohol</th>\n",
       "      <th>quality</th>\n",
       "      <th>free_SO2_ratio</th>\n",
       "      <th>alcohol_surgar_ratio</th>\n",
       "      <th>sugar_acidity_ratio</th>\n",
       "      <th>fixed_acidity_ratio</th>\n",
       "    </tr>\n",
       "    <tr>\n",
       "      <th>wine_type_white</th>\n",
       "      <th></th>\n",
       "      <th></th>\n",
       "      <th></th>\n",
       "      <th></th>\n",
       "      <th></th>\n",
       "      <th></th>\n",
       "      <th></th>\n",
       "      <th></th>\n",
       "      <th></th>\n",
       "      <th></th>\n",
       "      <th></th>\n",
       "      <th></th>\n",
       "      <th></th>\n",
       "      <th></th>\n",
       "      <th></th>\n",
       "      <th></th>\n",
       "      <th></th>\n",
       "    </tr>\n",
       "  </thead>\n",
       "  <tbody>\n",
       "    <tr>\n",
       "      <th>0</th>\n",
       "      <td>0</td>\n",
       "      <td>7.4</td>\n",
       "      <td>0.70</td>\n",
       "      <td>0.00</td>\n",
       "      <td>1.9</td>\n",
       "      <td>0.076</td>\n",
       "      <td>11.0</td>\n",
       "      <td>34.0</td>\n",
       "      <td>0.99780</td>\n",
       "      <td>3.51</td>\n",
       "      <td>0.56</td>\n",
       "      <td>9.4</td>\n",
       "      <td>0</td>\n",
       "      <td>32.352941</td>\n",
       "      <td>494.736842</td>\n",
       "      <td>23.456790</td>\n",
       "      <td>91.358025</td>\n",
       "    </tr>\n",
       "    <tr>\n",
       "      <th>0</th>\n",
       "      <td>1</td>\n",
       "      <td>7.8</td>\n",
       "      <td>0.88</td>\n",
       "      <td>0.00</td>\n",
       "      <td>2.6</td>\n",
       "      <td>0.098</td>\n",
       "      <td>25.0</td>\n",
       "      <td>67.0</td>\n",
       "      <td>0.99680</td>\n",
       "      <td>3.20</td>\n",
       "      <td>0.68</td>\n",
       "      <td>9.8</td>\n",
       "      <td>0</td>\n",
       "      <td>37.313433</td>\n",
       "      <td>376.923077</td>\n",
       "      <td>29.953917</td>\n",
       "      <td>89.861751</td>\n",
       "    </tr>\n",
       "    <tr>\n",
       "      <th>0</th>\n",
       "      <td>2</td>\n",
       "      <td>7.8</td>\n",
       "      <td>0.76</td>\n",
       "      <td>0.04</td>\n",
       "      <td>2.3</td>\n",
       "      <td>0.092</td>\n",
       "      <td>15.0</td>\n",
       "      <td>54.0</td>\n",
       "      <td>0.99700</td>\n",
       "      <td>3.26</td>\n",
       "      <td>0.65</td>\n",
       "      <td>9.8</td>\n",
       "      <td>0</td>\n",
       "      <td>27.777778</td>\n",
       "      <td>426.086957</td>\n",
       "      <td>26.869159</td>\n",
       "      <td>91.121495</td>\n",
       "    </tr>\n",
       "    <tr>\n",
       "      <th>0</th>\n",
       "      <td>3</td>\n",
       "      <td>11.2</td>\n",
       "      <td>0.28</td>\n",
       "      <td>0.56</td>\n",
       "      <td>1.9</td>\n",
       "      <td>0.075</td>\n",
       "      <td>17.0</td>\n",
       "      <td>60.0</td>\n",
       "      <td>0.99800</td>\n",
       "      <td>3.16</td>\n",
       "      <td>0.58</td>\n",
       "      <td>9.8</td>\n",
       "      <td>0</td>\n",
       "      <td>28.333333</td>\n",
       "      <td>515.789474</td>\n",
       "      <td>16.550523</td>\n",
       "      <td>97.560976</td>\n",
       "    </tr>\n",
       "    <tr>\n",
       "      <th>0</th>\n",
       "      <td>4</td>\n",
       "      <td>7.4</td>\n",
       "      <td>0.66</td>\n",
       "      <td>0.00</td>\n",
       "      <td>1.8</td>\n",
       "      <td>0.075</td>\n",
       "      <td>13.0</td>\n",
       "      <td>40.0</td>\n",
       "      <td>0.99780</td>\n",
       "      <td>3.51</td>\n",
       "      <td>0.56</td>\n",
       "      <td>9.4</td>\n",
       "      <td>0</td>\n",
       "      <td>32.500000</td>\n",
       "      <td>522.222222</td>\n",
       "      <td>22.332506</td>\n",
       "      <td>91.811414</td>\n",
       "    </tr>\n",
       "    <tr>\n",
       "      <th>...</th>\n",
       "      <td>...</td>\n",
       "      <td>...</td>\n",
       "      <td>...</td>\n",
       "      <td>...</td>\n",
       "      <td>...</td>\n",
       "      <td>...</td>\n",
       "      <td>...</td>\n",
       "      <td>...</td>\n",
       "      <td>...</td>\n",
       "      <td>...</td>\n",
       "      <td>...</td>\n",
       "      <td>...</td>\n",
       "      <td>...</td>\n",
       "      <td>...</td>\n",
       "      <td>...</td>\n",
       "      <td>...</td>\n",
       "      <td>...</td>\n",
       "    </tr>\n",
       "    <tr>\n",
       "      <th>1</th>\n",
       "      <td>5315</td>\n",
       "      <td>6.2</td>\n",
       "      <td>0.21</td>\n",
       "      <td>0.29</td>\n",
       "      <td>1.6</td>\n",
       "      <td>0.039</td>\n",
       "      <td>24.0</td>\n",
       "      <td>92.0</td>\n",
       "      <td>0.99114</td>\n",
       "      <td>3.27</td>\n",
       "      <td>0.50</td>\n",
       "      <td>11.2</td>\n",
       "      <td>0</td>\n",
       "      <td>26.086957</td>\n",
       "      <td>700.000000</td>\n",
       "      <td>24.960998</td>\n",
       "      <td>96.723869</td>\n",
       "    </tr>\n",
       "    <tr>\n",
       "      <th>1</th>\n",
       "      <td>5316</td>\n",
       "      <td>6.6</td>\n",
       "      <td>0.32</td>\n",
       "      <td>0.36</td>\n",
       "      <td>8.0</td>\n",
       "      <td>0.047</td>\n",
       "      <td>57.0</td>\n",
       "      <td>168.0</td>\n",
       "      <td>0.99490</td>\n",
       "      <td>3.15</td>\n",
       "      <td>0.46</td>\n",
       "      <td>9.6</td>\n",
       "      <td>0</td>\n",
       "      <td>33.928571</td>\n",
       "      <td>120.000000</td>\n",
       "      <td>115.606936</td>\n",
       "      <td>95.375723</td>\n",
       "    </tr>\n",
       "    <tr>\n",
       "      <th>1</th>\n",
       "      <td>5317</td>\n",
       "      <td>6.5</td>\n",
       "      <td>0.24</td>\n",
       "      <td>0.19</td>\n",
       "      <td>1.2</td>\n",
       "      <td>0.041</td>\n",
       "      <td>30.0</td>\n",
       "      <td>111.0</td>\n",
       "      <td>0.99254</td>\n",
       "      <td>2.99</td>\n",
       "      <td>0.46</td>\n",
       "      <td>9.4</td>\n",
       "      <td>0</td>\n",
       "      <td>27.027027</td>\n",
       "      <td>783.333333</td>\n",
       "      <td>17.804154</td>\n",
       "      <td>96.439169</td>\n",
       "    </tr>\n",
       "    <tr>\n",
       "      <th>1</th>\n",
       "      <td>5318</td>\n",
       "      <td>5.5</td>\n",
       "      <td>0.29</td>\n",
       "      <td>0.30</td>\n",
       "      <td>1.1</td>\n",
       "      <td>0.022</td>\n",
       "      <td>20.0</td>\n",
       "      <td>110.0</td>\n",
       "      <td>0.98869</td>\n",
       "      <td>3.34</td>\n",
       "      <td>0.38</td>\n",
       "      <td>12.8</td>\n",
       "      <td>1</td>\n",
       "      <td>18.181818</td>\n",
       "      <td>1163.636364</td>\n",
       "      <td>18.998273</td>\n",
       "      <td>94.991364</td>\n",
       "    </tr>\n",
       "    <tr>\n",
       "      <th>1</th>\n",
       "      <td>5319</td>\n",
       "      <td>6.0</td>\n",
       "      <td>0.21</td>\n",
       "      <td>0.38</td>\n",
       "      <td>0.8</td>\n",
       "      <td>0.020</td>\n",
       "      <td>22.0</td>\n",
       "      <td>98.0</td>\n",
       "      <td>0.98941</td>\n",
       "      <td>3.26</td>\n",
       "      <td>0.32</td>\n",
       "      <td>11.8</td>\n",
       "      <td>0</td>\n",
       "      <td>22.448980</td>\n",
       "      <td>1475.000000</td>\n",
       "      <td>12.882448</td>\n",
       "      <td>96.618357</td>\n",
       "    </tr>\n",
       "  </tbody>\n",
       "</table>\n",
       "<p>5320 rows × 17 columns</p>\n",
       "</div>"
      ],
      "text/plain": [
       "                 Unnamed: 0  fixed_acidity  volatile_acidity  citric_acid  \\\n",
       "wine_type_white                                                             \n",
       "0                         0            7.4              0.70         0.00   \n",
       "0                         1            7.8              0.88         0.00   \n",
       "0                         2            7.8              0.76         0.04   \n",
       "0                         3           11.2              0.28         0.56   \n",
       "0                         4            7.4              0.66         0.00   \n",
       "...                     ...            ...               ...          ...   \n",
       "1                      5315            6.2              0.21         0.29   \n",
       "1                      5316            6.6              0.32         0.36   \n",
       "1                      5317            6.5              0.24         0.19   \n",
       "1                      5318            5.5              0.29         0.30   \n",
       "1                      5319            6.0              0.21         0.38   \n",
       "\n",
       "                 residual_sugar  chlorides  free_sulfur_dioxide  \\\n",
       "wine_type_white                                                   \n",
       "0                           1.9      0.076                 11.0   \n",
       "0                           2.6      0.098                 25.0   \n",
       "0                           2.3      0.092                 15.0   \n",
       "0                           1.9      0.075                 17.0   \n",
       "0                           1.8      0.075                 13.0   \n",
       "...                         ...        ...                  ...   \n",
       "1                           1.6      0.039                 24.0   \n",
       "1                           8.0      0.047                 57.0   \n",
       "1                           1.2      0.041                 30.0   \n",
       "1                           1.1      0.022                 20.0   \n",
       "1                           0.8      0.020                 22.0   \n",
       "\n",
       "                 total_sulfur_dioxide  density    pH  sulphates  alcohol  \\\n",
       "wine_type_white                                                            \n",
       "0                                34.0  0.99780  3.51       0.56      9.4   \n",
       "0                                67.0  0.99680  3.20       0.68      9.8   \n",
       "0                                54.0  0.99700  3.26       0.65      9.8   \n",
       "0                                60.0  0.99800  3.16       0.58      9.8   \n",
       "0                                40.0  0.99780  3.51       0.56      9.4   \n",
       "...                               ...      ...   ...        ...      ...   \n",
       "1                                92.0  0.99114  3.27       0.50     11.2   \n",
       "1                               168.0  0.99490  3.15       0.46      9.6   \n",
       "1                               111.0  0.99254  2.99       0.46      9.4   \n",
       "1                               110.0  0.98869  3.34       0.38     12.8   \n",
       "1                                98.0  0.98941  3.26       0.32     11.8   \n",
       "\n",
       "                 quality  free_SO2_ratio  alcohol_surgar_ratio  \\\n",
       "wine_type_white                                                  \n",
       "0                      0       32.352941            494.736842   \n",
       "0                      0       37.313433            376.923077   \n",
       "0                      0       27.777778            426.086957   \n",
       "0                      0       28.333333            515.789474   \n",
       "0                      0       32.500000            522.222222   \n",
       "...                  ...             ...                   ...   \n",
       "1                      0       26.086957            700.000000   \n",
       "1                      0       33.928571            120.000000   \n",
       "1                      0       27.027027            783.333333   \n",
       "1                      1       18.181818           1163.636364   \n",
       "1                      0       22.448980           1475.000000   \n",
       "\n",
       "                 sugar_acidity_ratio  fixed_acidity_ratio  \n",
       "wine_type_white                                            \n",
       "0                          23.456790            91.358025  \n",
       "0                          29.953917            89.861751  \n",
       "0                          26.869159            91.121495  \n",
       "0                          16.550523            97.560976  \n",
       "0                          22.332506            91.811414  \n",
       "...                              ...                  ...  \n",
       "1                          24.960998            96.723869  \n",
       "1                         115.606936            95.375723  \n",
       "1                          17.804154            96.439169  \n",
       "1                          18.998273            94.991364  \n",
       "1                          12.882448            96.618357  \n",
       "\n",
       "[5320 rows x 17 columns]"
      ]
     },
     "execution_count": 68,
     "metadata": {},
     "output_type": "execute_result"
    }
   ],
   "source": [
    "df= pd.read_csv(\"../Capstone_Two_Project/data/processed/df_model.csv\", index_col = \"wine_type_white\")\n",
    "df.drop(\"Unnamed: 0\",axis =1)\n",
    "df"
   ]
  },
  {
   "cell_type": "code",
   "execution_count": null,
   "id": "80422c0c",
   "metadata": {},
   "outputs": [],
   "source": [
    "X=df.drop(\"quality\")"
   ]
  },
  {
   "cell_type": "code",
   "execution_count": null,
   "id": "60056cfe",
   "metadata": {},
   "outputs": [],
   "source": [
    "# load the model from disk\n",
    "loaded_model = pickle.load(open(filename, 'rb'))\n",
    "result = loaded_model.score(X_test, Y_test)\n",
    "print(result)"
   ]
  },
  {
   "cell_type": "markdown",
   "id": "e306b3bc",
   "metadata": {},
   "source": [
    "## summary"
   ]
  },
  {
   "cell_type": "markdown",
   "id": "ea039b89",
   "metadata": {},
   "source": [
    "Four modeling were performed in good wine quality prediction. At beginner, the dummyclassifier is used as baseline model, which the prediction is irrelavent to featrues. Then three models logisticregression, random forest model and xgboost were evaluate through pipeline. the cv results shows the random forest model have high precision scores and therefore it be select for further tunning. "
   ]
  },
  {
   "cell_type": "code",
   "execution_count": null,
   "id": "39499a4f",
   "metadata": {},
   "outputs": [],
   "source": []
  }
 ],
 "metadata": {
  "kernelspec": {
   "display_name": "Python 3 (ipykernel)",
   "language": "python",
   "name": "python3"
  },
  "language_info": {
   "codemirror_mode": {
    "name": "ipython",
    "version": 3
   },
   "file_extension": ".py",
   "mimetype": "text/x-python",
   "name": "python",
   "nbconvert_exporter": "python",
   "pygments_lexer": "ipython3",
   "version": "3.10.12"
  },
  "toc": {
   "base_numbering": 1,
   "nav_menu": {},
   "number_sections": true,
   "sideBar": true,
   "skip_h1_title": false,
   "title_cell": "Table of Contents",
   "title_sidebar": "Contents",
   "toc_cell": false,
   "toc_position": {},
   "toc_section_display": true,
   "toc_window_display": false
  }
 },
 "nbformat": 4,
 "nbformat_minor": 5
}
