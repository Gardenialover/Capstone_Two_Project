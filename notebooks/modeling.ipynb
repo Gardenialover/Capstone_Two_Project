{
 "cells": [
  {
   "cell_type": "markdown",
   "id": "160bebdc",
   "metadata": {},
   "source": [
    "# loading data"
   ]
  },
  {
   "cell_type": "code",
   "execution_count": 20,
   "id": "cd61747f",
   "metadata": {},
   "outputs": [],
   "source": [
    "import numpy as np\n",
    "import scipy as sp\n",
    "import pandas as pd\n",
    "\n",
    "# plotting and visualization\n",
    "\n",
    "import matplotlib.colors\n",
    "import matplotlib.pyplot as plt\n",
    "import seaborn as sns\n",
    "\n",
    "# modeling\n",
    "import sklearn.model_selection\n",
    "from sklearn.model_selection import KFold\n",
    "from sklearn.feature_selection import SelectKBest, f_regression\n",
    "from sklearn.model_selection import cross_val_score,cross_validate\n",
    "from xgboost import XGBClassifier\n",
    "from sklearn.linear_model import LogisticRegression\n",
    "from sklearn.neighbors import KNeighborsClassifier\n",
    "from sklearn.dummy import DummyClassifier\n",
    "from sklearn.ensemble import RandomForestClassifier\n",
    "from sklearn.metrics import accuracy_score, f1_score,precision_score,recall_score\n",
    "from sklearn.metrics import precision_recall_fscore_support as score\n",
    "from sklearn.metrics import classification_report\n",
    "from sklearn.metrics import confusion_matrix\n",
    "from sklearn.metrics import roc_auc_score, roc_curve\n",
    "from sklearn.metrics import ConfusionMatrixDisplay\n",
    "\n",
    "import pickle\n",
    "\n",
    "from sklearn import __version__ as sklearn_version\n",
    "from sklearn.model_selection import train_test_split, cross_validate, GridSearchCV\n",
    "\n",
    "from sklearn.pipeline import make_pipeline\n",
    "from sklearn.impute import SimpleImputer\n",
    "from sklearn.feature_selection import SelectKBest, f_regression\n",
    "import datetime\n",
    "\n",
    "import os"
   ]
  },
  {
   "cell_type": "code",
   "execution_count": 21,
   "id": "4bdf513b",
   "metadata": {},
   "outputs": [
    {
     "data": {
      "text/html": [
       "<div>\n",
       "<style scoped>\n",
       "    .dataframe tbody tr th:only-of-type {\n",
       "        vertical-align: middle;\n",
       "    }\n",
       "\n",
       "    .dataframe tbody tr th {\n",
       "        vertical-align: top;\n",
       "    }\n",
       "\n",
       "    .dataframe thead th {\n",
       "        text-align: right;\n",
       "    }\n",
       "</style>\n",
       "<table border=\"1\" class=\"dataframe\">\n",
       "  <thead>\n",
       "    <tr style=\"text-align: right;\">\n",
       "      <th></th>\n",
       "      <th>fixed_acidity</th>\n",
       "      <th>volatile_acidity</th>\n",
       "      <th>citric_acid</th>\n",
       "      <th>residual_sugar</th>\n",
       "      <th>chlorides</th>\n",
       "      <th>free_sulfur_dioxide</th>\n",
       "      <th>total_sulfur_dioxide</th>\n",
       "      <th>density</th>\n",
       "      <th>pH</th>\n",
       "      <th>sulphates</th>\n",
       "      <th>alcohol</th>\n",
       "      <th>free_SO2_ratio</th>\n",
       "      <th>alcohol_surgar_ratio</th>\n",
       "      <th>sugar_acidity_ratio</th>\n",
       "      <th>fixed_acidity_ratio</th>\n",
       "    </tr>\n",
       "  </thead>\n",
       "  <tbody>\n",
       "    <tr>\n",
       "      <th>0</th>\n",
       "      <td>0.361111</td>\n",
       "      <td>0.339869</td>\n",
       "      <td>0.364865</td>\n",
       "      <td>0.123596</td>\n",
       "      <td>0.384106</td>\n",
       "      <td>0.085366</td>\n",
       "      <td>0.139706</td>\n",
       "      <td>0.434474</td>\n",
       "      <td>0.473118</td>\n",
       "      <td>0.472222</td>\n",
       "      <td>0.661157</td>\n",
       "      <td>0.252078</td>\n",
       "      <td>0.221786</td>\n",
       "      <td>0.117228</td>\n",
       "      <td>0.706963</td>\n",
       "    </tr>\n",
       "    <tr>\n",
       "      <th>1</th>\n",
       "      <td>0.652778</td>\n",
       "      <td>0.483660</td>\n",
       "      <td>0.418919</td>\n",
       "      <td>0.112360</td>\n",
       "      <td>0.509934</td>\n",
       "      <td>0.243902</td>\n",
       "      <td>0.161765</td>\n",
       "      <td>0.715946</td>\n",
       "      <td>0.645161</td>\n",
       "      <td>0.958333</td>\n",
       "      <td>0.314050</td>\n",
       "      <td>0.629474</td>\n",
       "      <td>0.193985</td>\n",
       "      <td>0.075418</td>\n",
       "      <td>0.706841</td>\n",
       "    </tr>\n",
       "    <tr>\n",
       "      <th>2</th>\n",
       "      <td>0.291667</td>\n",
       "      <td>0.235294</td>\n",
       "      <td>0.351351</td>\n",
       "      <td>0.089888</td>\n",
       "      <td>0.172185</td>\n",
       "      <td>0.109756</td>\n",
       "      <td>0.242647</td>\n",
       "      <td>0.152034</td>\n",
       "      <td>0.365591</td>\n",
       "      <td>0.361111</td>\n",
       "      <td>0.685950</td>\n",
       "      <td>0.184057</td>\n",
       "      <td>0.293729</td>\n",
       "      <td>0.097389</td>\n",
       "      <td>0.768827</td>\n",
       "    </tr>\n",
       "    <tr>\n",
       "      <th>3</th>\n",
       "      <td>0.500000</td>\n",
       "      <td>0.274510</td>\n",
       "      <td>0.418919</td>\n",
       "      <td>0.469101</td>\n",
       "      <td>0.304636</td>\n",
       "      <td>0.231707</td>\n",
       "      <td>0.533088</td>\n",
       "      <td>0.625565</td>\n",
       "      <td>0.333333</td>\n",
       "      <td>0.444444</td>\n",
       "      <td>0.214876</td>\n",
       "      <td>0.173855</td>\n",
       "      <td>0.032969</td>\n",
       "      <td>0.370546</td>\n",
       "      <td>0.801419</td>\n",
       "    </tr>\n",
       "    <tr>\n",
       "      <th>4</th>\n",
       "      <td>0.333333</td>\n",
       "      <td>0.130719</td>\n",
       "      <td>0.297297</td>\n",
       "      <td>0.050562</td>\n",
       "      <td>0.225166</td>\n",
       "      <td>0.536585</td>\n",
       "      <td>0.547794</td>\n",
       "      <td>0.340219</td>\n",
       "      <td>0.451613</td>\n",
       "      <td>0.361111</td>\n",
       "      <td>0.363636</td>\n",
       "      <td>0.424001</td>\n",
       "      <td>0.368013</td>\n",
       "      <td>0.056301</td>\n",
       "      <td>0.872936</td>\n",
       "    </tr>\n",
       "    <tr>\n",
       "      <th>...</th>\n",
       "      <td>...</td>\n",
       "      <td>...</td>\n",
       "      <td>...</td>\n",
       "      <td>...</td>\n",
       "      <td>...</td>\n",
       "      <td>...</td>\n",
       "      <td>...</td>\n",
       "      <td>...</td>\n",
       "      <td>...</td>\n",
       "      <td>...</td>\n",
       "      <td>...</td>\n",
       "      <td>...</td>\n",
       "      <td>...</td>\n",
       "      <td>...</td>\n",
       "      <td>...</td>\n",
       "    </tr>\n",
       "    <tr>\n",
       "      <th>5397</th>\n",
       "      <td>0.249178</td>\n",
       "      <td>0.412962</td>\n",
       "      <td>0.226532</td>\n",
       "      <td>0.168888</td>\n",
       "      <td>0.155060</td>\n",
       "      <td>0.166438</td>\n",
       "      <td>0.411330</td>\n",
       "      <td>0.192282</td>\n",
       "      <td>0.683750</td>\n",
       "      <td>0.872575</td>\n",
       "      <td>0.965475</td>\n",
       "      <td>0.161500</td>\n",
       "      <td>0.213620</td>\n",
       "      <td>0.179840</td>\n",
       "      <td>0.591142</td>\n",
       "    </tr>\n",
       "    <tr>\n",
       "      <th>5398</th>\n",
       "      <td>0.242361</td>\n",
       "      <td>0.228478</td>\n",
       "      <td>0.405985</td>\n",
       "      <td>0.047632</td>\n",
       "      <td>0.201372</td>\n",
       "      <td>0.334756</td>\n",
       "      <td>0.363550</td>\n",
       "      <td>0.282578</td>\n",
       "      <td>0.786329</td>\n",
       "      <td>0.311210</td>\n",
       "      <td>0.455136</td>\n",
       "      <td>0.392239</td>\n",
       "      <td>0.410212</td>\n",
       "      <td>0.060853</td>\n",
       "      <td>0.756263</td>\n",
       "    </tr>\n",
       "    <tr>\n",
       "      <th>5399</th>\n",
       "      <td>0.388889</td>\n",
       "      <td>0.326797</td>\n",
       "      <td>0.485476</td>\n",
       "      <td>0.338969</td>\n",
       "      <td>0.217057</td>\n",
       "      <td>0.404719</td>\n",
       "      <td>0.405512</td>\n",
       "      <td>0.265978</td>\n",
       "      <td>0.215858</td>\n",
       "      <td>0.125519</td>\n",
       "      <td>0.695451</td>\n",
       "      <td>0.429676</td>\n",
       "      <td>0.079617</td>\n",
       "      <td>0.300229</td>\n",
       "      <td>0.727896</td>\n",
       "    </tr>\n",
       "    <tr>\n",
       "      <th>5400</th>\n",
       "      <td>0.459842</td>\n",
       "      <td>0.387228</td>\n",
       "      <td>0.374363</td>\n",
       "      <td>0.341476</td>\n",
       "      <td>0.165753</td>\n",
       "      <td>0.344737</td>\n",
       "      <td>0.361869</td>\n",
       "      <td>0.285378</td>\n",
       "      <td>0.416160</td>\n",
       "      <td>0.508254</td>\n",
       "      <td>0.760331</td>\n",
       "      <td>0.405287</td>\n",
       "      <td>0.082443</td>\n",
       "      <td>0.278961</td>\n",
       "      <td>0.708519</td>\n",
       "    </tr>\n",
       "    <tr>\n",
       "      <th>5401</th>\n",
       "      <td>0.462090</td>\n",
       "      <td>0.115184</td>\n",
       "      <td>0.563583</td>\n",
       "      <td>0.838863</td>\n",
       "      <td>0.338996</td>\n",
       "      <td>0.624249</td>\n",
       "      <td>0.445780</td>\n",
       "      <td>0.762019</td>\n",
       "      <td>0.596954</td>\n",
       "      <td>0.219774</td>\n",
       "      <td>0.217991</td>\n",
       "      <td>0.619778</td>\n",
       "      <td>0.007432</td>\n",
       "      <td>0.696599</td>\n",
       "      <td>0.911571</td>\n",
       "    </tr>\n",
       "  </tbody>\n",
       "</table>\n",
       "<p>5402 rows × 15 columns</p>\n",
       "</div>"
      ],
      "text/plain": [
       "      fixed_acidity  volatile_acidity  citric_acid  residual_sugar  chlorides  \\\n",
       "0          0.361111          0.339869     0.364865        0.123596   0.384106   \n",
       "1          0.652778          0.483660     0.418919        0.112360   0.509934   \n",
       "2          0.291667          0.235294     0.351351        0.089888   0.172185   \n",
       "3          0.500000          0.274510     0.418919        0.469101   0.304636   \n",
       "4          0.333333          0.130719     0.297297        0.050562   0.225166   \n",
       "...             ...               ...          ...             ...        ...   \n",
       "5397       0.249178          0.412962     0.226532        0.168888   0.155060   \n",
       "5398       0.242361          0.228478     0.405985        0.047632   0.201372   \n",
       "5399       0.388889          0.326797     0.485476        0.338969   0.217057   \n",
       "5400       0.459842          0.387228     0.374363        0.341476   0.165753   \n",
       "5401       0.462090          0.115184     0.563583        0.838863   0.338996   \n",
       "\n",
       "      free_sulfur_dioxide  total_sulfur_dioxide   density        pH  \\\n",
       "0                0.085366              0.139706  0.434474  0.473118   \n",
       "1                0.243902              0.161765  0.715946  0.645161   \n",
       "2                0.109756              0.242647  0.152034  0.365591   \n",
       "3                0.231707              0.533088  0.625565  0.333333   \n",
       "4                0.536585              0.547794  0.340219  0.451613   \n",
       "...                   ...                   ...       ...       ...   \n",
       "5397             0.166438              0.411330  0.192282  0.683750   \n",
       "5398             0.334756              0.363550  0.282578  0.786329   \n",
       "5399             0.404719              0.405512  0.265978  0.215858   \n",
       "5400             0.344737              0.361869  0.285378  0.416160   \n",
       "5401             0.624249              0.445780  0.762019  0.596954   \n",
       "\n",
       "      sulphates   alcohol  free_SO2_ratio  alcohol_surgar_ratio  \\\n",
       "0      0.472222  0.661157        0.252078              0.221786   \n",
       "1      0.958333  0.314050        0.629474              0.193985   \n",
       "2      0.361111  0.685950        0.184057              0.293729   \n",
       "3      0.444444  0.214876        0.173855              0.032969   \n",
       "4      0.361111  0.363636        0.424001              0.368013   \n",
       "...         ...       ...             ...                   ...   \n",
       "5397   0.872575  0.965475        0.161500              0.213620   \n",
       "5398   0.311210  0.455136        0.392239              0.410212   \n",
       "5399   0.125519  0.695451        0.429676              0.079617   \n",
       "5400   0.508254  0.760331        0.405287              0.082443   \n",
       "5401   0.219774  0.217991        0.619778              0.007432   \n",
       "\n",
       "      sugar_acidity_ratio  fixed_acidity_ratio  \n",
       "0                0.117228             0.706963  \n",
       "1                0.075418             0.706841  \n",
       "2                0.097389             0.768827  \n",
       "3                0.370546             0.801419  \n",
       "4                0.056301             0.872936  \n",
       "...                   ...                  ...  \n",
       "5397             0.179840             0.591142  \n",
       "5398             0.060853             0.756263  \n",
       "5399             0.300229             0.727896  \n",
       "5400             0.278961             0.708519  \n",
       "5401             0.696599             0.911571  \n",
       "\n",
       "[5402 rows x 15 columns]"
      ]
     },
     "execution_count": 21,
     "metadata": {},
     "output_type": "execute_result"
    }
   ],
   "source": [
    "X_train = pd.read_csv(\"../Capstone_Two_Project/data/processed/X_train.csv\", index_col = 0)\n",
    "X_train"
   ]
  },
  {
   "cell_type": "code",
   "execution_count": 22,
   "id": "859f3315",
   "metadata": {},
   "outputs": [],
   "source": [
    "X_test = pd.read_csv(\"../Capstone_Two_Project/data/processed/X_test.csv\", index_col = 0)"
   ]
  },
  {
   "cell_type": "code",
   "execution_count": 23,
   "id": "2b950514",
   "metadata": {},
   "outputs": [],
   "source": [
    "y_train = pd.read_csv(\"../Capstone_Two_Project/data/processed/y_train.csv\",index_col = False)\n",
    "\n",
    "y_train=y_train.drop('Unnamed: 0',axis=1)"
   ]
  },
  {
   "cell_type": "code",
   "execution_count": 24,
   "id": "48c92a7f",
   "metadata": {},
   "outputs": [],
   "source": [
    "y_test = pd.read_csv(\"../Capstone_Two_Project/data/processed/y_test.csv\", index_col = False)\n",
    "y_test=y_test.drop('Unnamed: 0',axis=1)"
   ]
  },
  {
   "cell_type": "markdown",
   "id": "91db5b29",
   "metadata": {},
   "source": [
    "# Modeling"
   ]
  },
  {
   "cell_type": "markdown",
   "id": "89a34133",
   "metadata": {},
   "source": [
    "## Metrics for model performance"
   ]
  },
  {
   "cell_type": "markdown",
   "id": "8bda3a6e",
   "metadata": {},
   "source": [
    "For a classification machine learning, several metrics such as accuracy, recall, F1 and ROC_AUC are used in model performance evaluation. The project purpose is to predict good quality wine, and the dataset is imblanced, therefore the model with highest recall values with relative high scores in other metrics such as ROC_auc, Accuracy among the three models:Logisticregression, randomforest, XGBoost will be the winner. "
   ]
  },
  {
   "cell_type": "markdown",
   "id": "8c8eadb5",
   "metadata": {},
   "source": [
    "## Baseline model"
   ]
  },
  {
   "cell_type": "markdown",
   "id": "2d01ed37",
   "metadata": {},
   "source": [
    "dummyclassifier is used in modeling prediction. it will serve as the baseline modeling, good models should shows better metris than it."
   ]
  },
  {
   "cell_type": "code",
   "execution_count": 25,
   "id": "ebf91c01",
   "metadata": {},
   "outputs": [
    {
     "name": "stdout",
     "output_type": "stream",
     "text": [
      "0.5336420093337743\n"
     ]
    }
   ],
   "source": [
    "dummy = DummyClassifier(strategy =\"stratified\",random_state = 123)\n",
    "dummy.fit(X_train.values,y_train.values.ravel())\n",
    "y_pred = dummy.predict(X_test.values)\n",
    "y_pred_probs = dummy.predict_proba(X_test.values) [:,1]\n",
    "roc_auc_score_dummy = roc_auc_score(y_test, y_pred_probs)\n",
    "print(roc_auc_score_dummy)\n"
   ]
  },
  {
   "cell_type": "code",
   "execution_count": 26,
   "id": "feb71e13",
   "metadata": {},
   "outputs": [
    {
     "name": "stdout",
     "output_type": "stream",
     "text": [
      "dummy: recall=0.515\n",
      "report:               precision    recall  f1-score   support\n",
      "\n",
      "           0       0.83      0.50      0.63      1158\n",
      "           1       0.22      0.56      0.31       282\n",
      "\n",
      "    accuracy                           0.52      1440\n",
      "   macro avg       0.52      0.53      0.47      1440\n",
      "weighted avg       0.71      0.52      0.56      1440\n",
      " \n",
      "\n"
     ]
    },
    {
     "data": {
      "image/png": "[encoded data removed]",
      "text/plain": [
       "<Figure size 640x480 with 2 Axes>"
      ]
     },
     "metadata": {},
     "output_type": "display_data"
    }
   ],
   "source": [
    "pc_dummy = recall_score(y_test, y_pred_probs,average='weighted')\n",
    "report_dummy = classification_report(y_test, y_pred)\n",
    "cm_dummy = confusion_matrix(y_test, y_pred)\n",
    "print('dummy: recall=%.3f' % (pc_dummy))\n",
    "print(\"report:\", report_dummy,\"\\n\")\n",
    "ConfusionMatrixDisplay(confusion_matrix=cm_dummy,display_labels=dummy.classes_).plot()\n",
    "plt.show()"
   ]
  },
  {
   "cell_type": "markdown",
   "id": "6b55ff80",
   "metadata": {},
   "source": [
    "In dummy model, the recall for predict good win is 0.48."
   ]
  },
  {
   "cell_type": "markdown",
   "id": "304c0fff",
   "metadata": {},
   "source": [
    "three models:logisticregression, random forest and XGBoost Model will be selected. Also, the number of features used in modeling was controlled by selectkbest algorithms. "
   ]
  },
  {
   "cell_type": "markdown",
   "id": "2fe3b74a",
   "metadata": {},
   "source": [
    "## Logisticregression model"
   ]
  },
  {
   "cell_type": "code",
   "execution_count": 27,
   "id": "a1686511",
   "metadata": {},
   "outputs": [],
   "source": [
    "from sklearn.pipeline import Pipeline\n",
    "pipe_log = Pipeline(\n",
    "    steps =[(\"feature_selection\",SelectKBest(score_func=f_regression, k =5)),(\"model\",\n",
    "    LogisticRegression())]\n",
    ")"
   ]
  },
  {
   "cell_type": "code",
   "execution_count": 28,
   "id": "c3cd9f4b",
   "metadata": {},
   "outputs": [],
   "source": [
    "#k = [k+1 for k in range(len(X_train.columns))]\n",
    "c_values = [0.01,0.1,1.0,10,100]\n",
    "solvers = ['lbfgs', 'liblinear', 'newton-cg', 'newton-cholesky']\n",
    "grid_params = {'model__C':c_values,'model__solver':solvers}\n",
    "#grid_params = {'feature_selection__k': k, 'model__C':c_values,'model__solver':solvers}\n",
    "#grid_params = {'feature_slection__k': k}"
   ]
  },
  {
   "cell_type": "code",
   "execution_count": 29,
   "id": "6d213087",
   "metadata": {},
   "outputs": [
    {
     "data": {
      "text/plain": [
       "{'model__C': 1.0, 'model__solver': 'liblinear'}"
      ]
     },
     "execution_count": 29,
     "metadata": {},
     "output_type": "execute_result"
    }
   ],
   "source": [
    "log_grid_cv = GridSearchCV(pipe_log, param_grid=grid_params,scoring=\"recall\", cv=5, n_jobs=-1)\n",
    "log_grid_cv.fit(X_train, y_train.values.ravel())\n",
    "score_mean = log_grid_cv.cv_results_['mean_test_score']\n",
    "score_std = log_grid_cv.cv_results_['std_test_score']\n",
    "log_grid_cv.best_params_"
   ]
  },
  {
   "cell_type": "code",
   "execution_count": 30,
   "id": "cee6b782",
   "metadata": {},
   "outputs": [
    {
     "data": {
      "text/plain": [
       "alcohol                6.702779\n",
       "density                1.452130\n",
       "fixed_acidity_ratio    1.044544\n",
       "chlorides             -1.542285\n",
       "volatile_acidity      -2.468402\n",
       "dtype: float64"
      ]
     },
     "execution_count": 30,
     "metadata": {},
     "output_type": "execute_result"
    }
   ],
   "source": [
    "selected = log_grid_cv.best_estimator_.named_steps.feature_selection.get_support()\n",
    "coefs = log_grid_cv.best_estimator_.named_steps.model.coef_\n",
    "features = X_train.columns[selected]\n",
    "pd.Series(coefs.ravel(), index = features.ravel()).sort_values(ascending=False)"
   ]
  },
  {
   "cell_type": "markdown",
   "id": "4b301ca7",
   "metadata": {},
   "source": [
    "it shows the alcohol is critical in control wine quality."
   ]
  },
  {
   "cell_type": "code",
   "execution_count": 31,
   "id": "30122f97",
   "metadata": {},
   "outputs": [
    {
     "data": {
      "text/plain": [
       "(0.7804477305401519, 0.019022300711180346)"
      ]
     },
     "execution_count": 31,
     "metadata": {},
     "output_type": "execute_result"
    }
   ],
   "source": [
    "cv_log = cross_validate(log_grid_cv.best_estimator_, X_train, y_train, \n",
    "                            scoring='recall', cv=5, n_jobs=-1)\n",
    "cv_scores_log = cv_log['test_score']\n",
    "np.mean(cv_scores_log), np.std(cv_scores_log)"
   ]
  },
  {
   "cell_type": "code",
   "execution_count": 32,
   "id": "f3b5c003",
   "metadata": {},
   "outputs": [
    {
     "name": "stderr",
     "output_type": "stream",
     "text": [
      "C:\\Users\\Yan Zhang\\anaconda3\\lib\\site-packages\\sklearn\\base.py:465: UserWarning: X does not have valid feature names, but SelectKBest was fitted with feature names\n",
      "  warnings.warn(\n"
     ]
    }
   ],
   "source": [
    "y_tr_pred = log_grid_cv.best_estimator_.predict(X_train)\n",
    "y_te_pred = log_grid_cv.best_estimator_.predict(X_test)\n",
    "y_pred_probs = log_grid_cv.best_estimator_.predict_proba(X_test.values) [:,1]\n",
    "#print(roc_auc_score(y_test, y_pred_probs))"
   ]
  },
  {
   "cell_type": "code",
   "execution_count": 33,
   "id": "0d6a0010",
   "metadata": {},
   "outputs": [
    {
     "name": "stdout",
     "output_type": "stream",
     "text": [
      "Best Threshold=0.47\n"
     ]
    }
   ],
   "source": [
    "fpr, tpr, thresholds = roc_curve(y_test, y_pred_probs)\n",
    "J = tpr - fpr\n",
    "ix = np.argmax(J)\n",
    "best_thresh = thresholds[ix]\n",
    "print('Best Threshold=%.2f' % (best_thresh))"
   ]
  },
  {
   "cell_type": "code",
   "execution_count": 34,
   "id": "7bb1d218",
   "metadata": {},
   "outputs": [
    {
     "name": "stdout",
     "output_type": "stream",
     "text": [
      "logisticregression roc_auc:0.75\n",
      "logisticregression precision:0.39\n",
      "logisticregression recall:0.83\n",
      "logisticregression accuracy:0.71\n"
     ]
    }
   ],
   "source": [
    "y_pred = (y_pred_probs >= 0.47).astype('int')\n",
    "print(\"logisticregression roc_auc:%.2f\"% roc_auc_score(y_test, y_pred))\n",
    "print(\"logisticregression precision:%.2f\"%  precision_score(y_test, y_pred))\n",
    "print(\"logisticregression recall:%.2f\"% recall_score(y_test, y_pred))\n",
    "print(\"logisticregression accuracy:%.2f\"% accuracy_score(y_test, y_pred))"
   ]
  },
  {
   "cell_type": "code",
   "execution_count": 35,
   "id": "8caa7638",
   "metadata": {},
   "outputs": [
    {
     "data": {
      "image/png": "[encoded data removed]",
      "text/plain": [
       "<Figure size 640x480 with 2 Axes>"
      ]
     },
     "metadata": {},
     "output_type": "display_data"
    },
    {
     "name": "stdout",
     "output_type": "stream",
     "text": [
      "              precision    recall  f1-score   support\n",
      "\n",
      "           0       0.94      0.68      0.79      1158\n",
      "           1       0.39      0.83      0.53       282\n",
      "\n",
      "    accuracy                           0.71      1440\n",
      "   macro avg       0.66      0.75      0.66      1440\n",
      "weighted avg       0.83      0.71      0.74      1440\n",
      "\n"
     ]
    }
   ],
   "source": [
    "report_log = classification_report(y_test, y_pred)\n",
    "cm_log = confusion_matrix(y_test, y_pred)\n",
    "ConfusionMatrixDisplay(confusion_matrix=cm_log,\n",
    "                       display_labels=log_grid_cv.classes_).plot()\n",
    "plt.show()\n",
    "print(classification_report(y_test, y_pred))"
   ]
  },
  {
   "cell_type": "markdown",
   "id": "8472085e",
   "metadata": {},
   "source": [
    "## Random forest "
   ]
  },
  {
   "cell_type": "code",
   "execution_count": 36,
   "id": "e35f1a73",
   "metadata": {},
   "outputs": [],
   "source": [
    "pipe_rf = Pipeline(\n",
    "    steps =[(\"feature_selection\",SelectKBest(score_func=f_regression,k=5)),(\"rf\",\n",
    "    RandomForestClassifier(random_state= 123))]\n",
    ")"
   ]
  },
  {
   "cell_type": "code",
   "execution_count": 37,
   "id": "b09c9856",
   "metadata": {},
   "outputs": [
    {
     "data": {
      "text/plain": [
       "{'rf__n_estimators': 500}"
      ]
     },
     "execution_count": 37,
     "metadata": {},
     "output_type": "execute_result"
    }
   ],
   "source": [
    "pipe = Pipeline(\n",
    "    steps =[(\"feature_selection\",SelectKBest(score_func=f_regression,k=5)),(\"rf\",\n",
    "    RandomForestClassifier(random_state= 123))]\n",
    ")\n",
    "\n",
    "#k = [k+1 for k in range(len(X_train.columns))]\n",
    "n_est = [50,100,300,500]\n",
    "grid_params = {'rf__n_estimators': n_est}\n",
    "\n",
    "# grid_params = {'feature_selection__k': k,\n",
    "#         'rf__n_estimators': n_est\n",
    "# }\n",
    "\n",
    "rf_grid_cv = GridSearchCV(pipe, param_grid=grid_params,scoring =\"recall\", cv=5, n_jobs=-1)\n",
    "rf_grid_cv.fit(X_train, y_train.values.ravel())\n",
    "rf_grid_cv.best_params_"
   ]
  },
  {
   "cell_type": "code",
   "execution_count": 38,
   "id": "6115249c",
   "metadata": {},
   "outputs": [
    {
     "data": {
      "image/png": "[encoded data removed]",
      "text/plain": [
       "<Figure size 1000x500 with 1 Axes>"
      ]
     },
     "metadata": {},
     "output_type": "display_data"
    }
   ],
   "source": [
    "#Plot a barplot of the random forest's feature importances,\n",
    "#assigning the `feature_importances_` attribute of \n",
    "\n",
    "features_imp = rf_grid_cv.best_estimator_.named_steps.rf.feature_importances_\n",
    "\n",
    "feature_names =  rf_grid_cv.best_estimator_.named_steps.feature_selection.get_feature_names_out()\n",
    "\n",
    "plt.subplots(figsize=(10, 5))\n",
    "rf_feat = pd.Series(features_imp, index=feature_names).sort_values(ascending=False)\n",
    "rf_feat.plot(kind='bar')\n",
    "plt.xlabel('feature name')\n",
    "plt.ylabel('importance')\n",
    "plt.title('Tunied random forest feature importances');"
   ]
  },
  {
   "cell_type": "markdown",
   "id": "7ca2b64f",
   "metadata": {},
   "source": [
    "Similar to logistic regression, the alcohol level has high impact on producting high wine quality."
   ]
  },
  {
   "cell_type": "code",
   "execution_count": 39,
   "id": "cecdb3b3",
   "metadata": {},
   "outputs": [
    {
     "data": {
      "text/plain": [
       "(0.8952310536044363, 0.05373968334710933)"
      ]
     },
     "execution_count": 39,
     "metadata": {},
     "output_type": "execute_result"
    }
   ],
   "source": [
    "cv_rf = cross_validate(rf_grid_cv.best_estimator_, X_train, y_train, \n",
    "                            scoring='recall', cv=5, n_jobs=-1)\n",
    "cv_scores_rf = cv_rf['test_score']\n",
    "np.mean(cv_scores_rf), np.std(cv_scores_rf)"
   ]
  },
  {
   "cell_type": "code",
   "execution_count": 40,
   "id": "7fe5a0d7",
   "metadata": {},
   "outputs": [
    {
     "name": "stderr",
     "output_type": "stream",
     "text": [
      "C:\\Users\\Yan Zhang\\anaconda3\\lib\\site-packages\\sklearn\\base.py:465: UserWarning: X does not have valid feature names, but SelectKBest was fitted with feature names\n",
      "  warnings.warn(\n"
     ]
    }
   ],
   "source": [
    "y_tr_pred = rf_grid_cv.best_estimator_.predict(X_train)\n",
    "y_te_pred = rf_grid_cv.best_estimator_.predict(X_test)\n",
    "y_pred_probs = rf_grid_cv.best_estimator_.predict_proba(X_test.values) [:,1]\n",
    "#print(roc_auc_score(y_test, y_pred_probs))"
   ]
  },
  {
   "cell_type": "code",
   "execution_count": 41,
   "id": "7c547ebc",
   "metadata": {},
   "outputs": [
    {
     "name": "stdout",
     "output_type": "stream",
     "text": [
      "Best Threshold=0.31\n"
     ]
    }
   ],
   "source": [
    "# # get the best threshold\n",
    "fpr, tpr, thresholds = roc_curve(y_test, y_pred_probs)\n",
    "J = tpr - fpr\n",
    "ix = np.argmax(J)\n",
    "best_thresh = thresholds[ix]\n",
    "print('Best Threshold=%.2f' % (best_thresh))"
   ]
  },
  {
   "cell_type": "code",
   "execution_count": 42,
   "id": "6a61259d",
   "metadata": {},
   "outputs": [
    {
     "name": "stdout",
     "output_type": "stream",
     "text": [
      "randomforest roc_auc:0.74\n",
      "randomforest precision:0.37\n",
      "randomforest recall:0.82\n",
      "randomforest Accuracy:0.69\n"
     ]
    }
   ],
   "source": [
    "y_pred = (y_pred_probs >= 0.31).astype('int')\n",
    "print(\"randomforest roc_auc:%.2f\"%roc_auc_score(y_test, y_pred))\n",
    "print(\"randomforest precision:%.2f\"% precision_score(y_test, y_pred))\n",
    "print(\"randomforest recall:%.2f\"% recall_score(y_test, y_pred))\n",
    "print(\"randomforest Accuracy:%.2f\"% accuracy_score(y_test, y_pred))"
   ]
  },
  {
   "cell_type": "code",
   "execution_count": 43,
   "id": "7523af83",
   "metadata": {},
   "outputs": [
    {
     "data": {
      "image/png": "[encoded data removed]",
      "text/plain": [
       "<Figure size 640x480 with 2 Axes>"
      ]
     },
     "metadata": {},
     "output_type": "display_data"
    },
    {
     "name": "stdout",
     "output_type": "stream",
     "text": [
      "              precision    recall  f1-score   support\n",
      "\n",
      "           0       0.94      0.66      0.77      1158\n",
      "           1       0.37      0.82      0.51       282\n",
      "\n",
      "    accuracy                           0.69      1440\n",
      "   macro avg       0.65      0.74      0.64      1440\n",
      "weighted avg       0.83      0.69      0.72      1440\n",
      "\n"
     ]
    }
   ],
   "source": [
    "report_rf = classification_report(y_test, y_pred)\n",
    "cm_rf = confusion_matrix(y_test, y_pred)\n",
    "ConfusionMatrixDisplay(confusion_matrix=cm_rf,\n",
    "                       display_labels=rf_grid_cv.classes_).plot()\n",
    "plt.show()\n",
    "print(classification_report(y_test, y_pred))"
   ]
  },
  {
   "cell_type": "markdown",
   "id": "2a720546",
   "metadata": {},
   "source": [
    "## XGBoost model"
   ]
  },
  {
   "cell_type": "code",
   "execution_count": 44,
   "id": "0d00db77",
   "metadata": {},
   "outputs": [],
   "source": [
    "pipe_xgb = Pipeline(\n",
    "    steps =[(\"feature_selection\",SelectKBest(score_func=f_regression,k=5)),(\"xgb\",\n",
    "    XGBClassifier(objective='binary:logistic',learning_rate=0.1 , n_estimators=300, random_state=123))]\n",
    ")"
   ]
  },
  {
   "cell_type": "markdown",
   "id": "7cc90282",
   "metadata": {},
   "source": [
    "### xgb model tunning"
   ]
  },
  {
   "cell_type": "code",
   "execution_count": 45,
   "id": "fbf6da0f",
   "metadata": {},
   "outputs": [],
   "source": [
    "gbm_param_grid = {\n",
    "   'xgb__learning_rate' : np.arange(0.05, 1,0.05),\n",
    "    'xgb__max_depth': np.arange(3, 10, 1),\n",
    "    'xgb__n_estimators': np.arange(50,200, 50)\n",
    "}\n"
   ]
  },
  {
   "cell_type": "code",
   "execution_count": 46,
   "id": "3c2fb981",
   "metadata": {},
   "outputs": [
    {
     "name": "stdout",
     "output_type": "stream",
     "text": [
      "Fitting 5 folds for each of 2 candidates, totalling 10 fits\n"
     ]
    },
    {
     "data": {
      "text/html": [
       "<style>#sk-container-id-1 {color: black;}#sk-container-id-1 pre{padding: 0;}#sk-container-id-1 div.sk-toggleable {background-color: white;}#sk-container-id-1 label.sk-toggleable__label {cursor: pointer;display: block;width: 100%;margin-bottom: 0;padding: 0.3em;box-sizing: border-box;text-align: center;}#sk-container-id-1 label.sk-toggleable__label-arrow:before {content: \"▸\";float: left;margin-right: 0.25em;color: #696969;}#sk-container-id-1 label.sk-toggleable__label-arrow:hover:before {color: black;}#sk-container-id-1 div.sk-estimator:hover label.sk-toggleable__label-arrow:before {color: black;}#sk-container-id-1 div.sk-toggleable__content {max-height: 0;max-width: 0;overflow: hidden;text-align: left;background-color: #f0f8ff;}#sk-container-id-1 div.sk-toggleable__content pre {margin: 0.2em;color: black;border-radius: 0.25em;background-color: #f0f8ff;}#sk-container-id-1 input.sk-toggleable__control:checked~div.sk-toggleable__content {max-height: 200px;max-width: 100%;overflow: auto;}#sk-container-id-1 input.sk-toggleable__control:checked~label.sk-toggleable__label-arrow:before {content: \"▾\";}#sk-container-id-1 div.sk-estimator input.sk-toggleable__control:checked~label.sk-toggleable__label {background-color: #d4ebff;}#sk-container-id-1 div.sk-label input.sk-toggleable__control:checked~label.sk-toggleable__label {background-color: #d4ebff;}#sk-container-id-1 input.sk-hidden--visually {border: 0;clip: rect(1px 1px 1px 1px);clip: rect(1px, 1px, 1px, 1px);height: 1px;margin: -1px;overflow: hidden;padding: 0;position: absolute;width: 1px;}#sk-container-id-1 div.sk-estimator {font-family: monospace;background-color: #f0f8ff;border: 1px dotted black;border-radius: 0.25em;box-sizing: border-box;margin-bottom: 0.5em;}#sk-container-id-1 div.sk-estimator:hover {background-color: #d4ebff;}#sk-container-id-1 div.sk-parallel-item::after {content: \"\";width: 100%;border-bottom: 1px solid gray;flex-grow: 1;}#sk-container-id-1 div.sk-label:hover label.sk-toggleable__label {background-color: #d4ebff;}#sk-container-id-1 div.sk-serial::before {content: \"\";position: absolute;border-left: 1px solid gray;box-sizing: border-box;top: 0;bottom: 0;left: 50%;z-index: 0;}#sk-container-id-1 div.sk-serial {display: flex;flex-direction: column;align-items: center;background-color: white;padding-right: 0.2em;padding-left: 0.2em;position: relative;}#sk-container-id-1 div.sk-item {position: relative;z-index: 1;}#sk-container-id-1 div.sk-parallel {display: flex;align-items: stretch;justify-content: center;background-color: white;position: relative;}#sk-container-id-1 div.sk-item::before, #sk-container-id-1 div.sk-parallel-item::before {content: \"\";position: absolute;border-left: 1px solid gray;box-sizing: border-box;top: 0;bottom: 0;left: 50%;z-index: -1;}#sk-container-id-1 div.sk-parallel-item {display: flex;flex-direction: column;z-index: 1;position: relative;background-color: white;}#sk-container-id-1 div.sk-parallel-item:first-child::after {align-self: flex-end;width: 50%;}#sk-container-id-1 div.sk-parallel-item:last-child::after {align-self: flex-start;width: 50%;}#sk-container-id-1 div.sk-parallel-item:only-child::after {width: 0;}#sk-container-id-1 div.sk-dashed-wrapped {border: 1px dashed gray;margin: 0 0.4em 0.5em 0.4em;box-sizing: border-box;padding-bottom: 0.4em;background-color: white;}#sk-container-id-1 div.sk-label label {font-family: monospace;font-weight: bold;display: inline-block;line-height: 1.2em;}#sk-container-id-1 div.sk-label-container {text-align: center;}#sk-container-id-1 div.sk-container {/* jupyter's `normalize.less` sets `[hidden] { display: none; }` but bootstrap.min.css set `[hidden] { display: none !important; }` so we also need the `!important` here to be able to override the default hidden behavior on the sphinx rendered scikit-learn.org. See: https://github.com/scikit-learn/scikit-learn/issues/21755 */display: inline-block !important;position: relative;}#sk-container-id-1 div.sk-text-repr-fallback {display: none;}</style><div id=\"sk-container-id-1\" class=\"sk-top-container\"><div class=\"sk-text-repr-fallback\"><pre>RandomizedSearchCV(cv=5,\n",
       "                   estimator=Pipeline(steps=[(&#x27;feature_selection&#x27;,\n",
       "                                              SelectKBest(k=5,\n",
       "                                                          score_func=&lt;function f_regression at 0x000001873B7444C0&gt;)),\n",
       "                                             (&#x27;xgb&#x27;,\n",
       "                                              XGBClassifier(base_score=None,\n",
       "                                                            booster=None,\n",
       "                                                            callbacks=None,\n",
       "                                                            colsample_bylevel=None,\n",
       "                                                            colsample_bynode=None,\n",
       "                                                            colsample_bytree=None,\n",
       "                                                            device=None,\n",
       "                                                            early_stopping_rounds=None,\n",
       "                                                            enable_categorical=False,\n",
       "                                                            eval_metric...\n",
       "                                                            multi_strategy=None,\n",
       "                                                            n_estimators=300,\n",
       "                                                            n_jobs=None,\n",
       "                                                            num_parallel_tree=None,\n",
       "                                                            random_state=123, ...))]),\n",
       "                   n_iter=2,\n",
       "                   param_distributions={&#x27;xgb__learning_rate&#x27;: array([0.05, 0.1 , 0.15, 0.2 , 0.25, 0.3 , 0.35, 0.4 , 0.45, 0.5 , 0.55,\n",
       "       0.6 , 0.65, 0.7 , 0.75, 0.8 , 0.85, 0.9 , 0.95]),\n",
       "                                        &#x27;xgb__max_depth&#x27;: array([3, 4, 5, 6, 7, 8, 9]),\n",
       "                                        &#x27;xgb__n_estimators&#x27;: array([ 50, 100, 150])},\n",
       "                   scoring=&#x27;recall&#x27;, verbose=1)</pre><b>In a Jupyter environment, please rerun this cell to show the HTML representation or trust the notebook. <br />On GitHub, the HTML representation is unable to render, please try loading this page with nbviewer.org.</b></div><div class=\"sk-container\" hidden><div class=\"sk-item sk-dashed-wrapped\"><div class=\"sk-label-container\"><div class=\"sk-label sk-toggleable\"><input class=\"sk-toggleable__control sk-hidden--visually\" id=\"sk-estimator-id-1\" type=\"checkbox\" ><label for=\"sk-estimator-id-1\" class=\"sk-toggleable__label sk-toggleable__label-arrow\">RandomizedSearchCV</label><div class=\"sk-toggleable__content\"><pre>RandomizedSearchCV(cv=5,\n",
       "                   estimator=Pipeline(steps=[(&#x27;feature_selection&#x27;,\n",
       "                                              SelectKBest(k=5,\n",
       "                                                          score_func=&lt;function f_regression at 0x000001873B7444C0&gt;)),\n",
       "                                             (&#x27;xgb&#x27;,\n",
       "                                              XGBClassifier(base_score=None,\n",
       "                                                            booster=None,\n",
       "                                                            callbacks=None,\n",
       "                                                            colsample_bylevel=None,\n",
       "                                                            colsample_bynode=None,\n",
       "                                                            colsample_bytree=None,\n",
       "                                                            device=None,\n",
       "                                                            early_stopping_rounds=None,\n",
       "                                                            enable_categorical=False,\n",
       "                                                            eval_metric...\n",
       "                                                            multi_strategy=None,\n",
       "                                                            n_estimators=300,\n",
       "                                                            n_jobs=None,\n",
       "                                                            num_parallel_tree=None,\n",
       "                                                            random_state=123, ...))]),\n",
       "                   n_iter=2,\n",
       "                   param_distributions={&#x27;xgb__learning_rate&#x27;: array([0.05, 0.1 , 0.15, 0.2 , 0.25, 0.3 , 0.35, 0.4 , 0.45, 0.5 , 0.55,\n",
       "       0.6 , 0.65, 0.7 , 0.75, 0.8 , 0.85, 0.9 , 0.95]),\n",
       "                                        &#x27;xgb__max_depth&#x27;: array([3, 4, 5, 6, 7, 8, 9]),\n",
       "                                        &#x27;xgb__n_estimators&#x27;: array([ 50, 100, 150])},\n",
       "                   scoring=&#x27;recall&#x27;, verbose=1)</pre></div></div></div><div class=\"sk-parallel\"><div class=\"sk-parallel-item\"><div class=\"sk-item\"><div class=\"sk-label-container\"><div class=\"sk-label sk-toggleable\"><input class=\"sk-toggleable__control sk-hidden--visually\" id=\"sk-estimator-id-2\" type=\"checkbox\" ><label for=\"sk-estimator-id-2\" class=\"sk-toggleable__label sk-toggleable__label-arrow\">estimator: Pipeline</label><div class=\"sk-toggleable__content\"><pre>Pipeline(steps=[(&#x27;feature_selection&#x27;,\n",
       "                 SelectKBest(k=5,\n",
       "                             score_func=&lt;function f_regression at 0x000001873B7444C0&gt;)),\n",
       "                (&#x27;xgb&#x27;,\n",
       "                 XGBClassifier(base_score=None, booster=None, callbacks=None,\n",
       "                               colsample_bylevel=None, colsample_bynode=None,\n",
       "                               colsample_bytree=None, device=None,\n",
       "                               early_stopping_rounds=None,\n",
       "                               enable_categorical=False, eval_metric=None,\n",
       "                               feature_types=None, gamma=Non...row_policy=None,\n",
       "                               importance_type=None,\n",
       "                               interaction_constraints=None, learning_rate=0.1,\n",
       "                               max_bin=None, max_cat_threshold=None,\n",
       "                               max_cat_to_onehot=None, max_delta_step=None,\n",
       "                               max_depth=None, max_leaves=None,\n",
       "                               min_child_weight=None, missing=nan,\n",
       "                               monotone_constraints=None, multi_strategy=None,\n",
       "                               n_estimators=300, n_jobs=None,\n",
       "                               num_parallel_tree=None, random_state=123, ...))])</pre></div></div></div><div class=\"sk-serial\"><div class=\"sk-item\"><div class=\"sk-serial\"><div class=\"sk-item\"><div class=\"sk-estimator sk-toggleable\"><input class=\"sk-toggleable__control sk-hidden--visually\" id=\"sk-estimator-id-3\" type=\"checkbox\" ><label for=\"sk-estimator-id-3\" class=\"sk-toggleable__label sk-toggleable__label-arrow\">SelectKBest</label><div class=\"sk-toggleable__content\"><pre>SelectKBest(k=5, score_func=&lt;function f_regression at 0x000001873B7444C0&gt;)</pre></div></div></div><div class=\"sk-item\"><div class=\"sk-estimator sk-toggleable\"><input class=\"sk-toggleable__control sk-hidden--visually\" id=\"sk-estimator-id-4\" type=\"checkbox\" ><label for=\"sk-estimator-id-4\" class=\"sk-toggleable__label sk-toggleable__label-arrow\">XGBClassifier</label><div class=\"sk-toggleable__content\"><pre>XGBClassifier(base_score=None, booster=None, callbacks=None,\n",
       "              colsample_bylevel=None, colsample_bynode=None,\n",
       "              colsample_bytree=None, device=None, early_stopping_rounds=None,\n",
       "              enable_categorical=False, eval_metric=None, feature_types=None,\n",
       "              gamma=None, grow_policy=None, importance_type=None,\n",
       "              interaction_constraints=None, learning_rate=0.1, max_bin=None,\n",
       "              max_cat_threshold=None, max_cat_to_onehot=None,\n",
       "              max_delta_step=None, max_depth=None, max_leaves=None,\n",
       "              min_child_weight=None, missing=nan, monotone_constraints=None,\n",
       "              multi_strategy=None, n_estimators=300, n_jobs=None,\n",
       "              num_parallel_tree=None, random_state=123, ...)</pre></div></div></div></div></div></div></div></div></div></div></div></div>"
      ],
      "text/plain": [
       "RandomizedSearchCV(cv=5,\n",
       "                   estimator=Pipeline(steps=[('feature_selection',\n",
       "                                              SelectKBest(k=5,\n",
       "                                                          score_func=<function f_regression at 0x000001873B7444C0>)),\n",
       "                                             ('xgb',\n",
       "                                              XGBClassifier(base_score=None,\n",
       "                                                            booster=None,\n",
       "                                                            callbacks=None,\n",
       "                                                            colsample_bylevel=None,\n",
       "                                                            colsample_bynode=None,\n",
       "                                                            colsample_bytree=None,\n",
       "                                                            device=None,\n",
       "                                                            early_stopping_rounds=None,\n",
       "                                                            enable_categorical=False,\n",
       "                                                            eval_metric...\n",
       "                                                            multi_strategy=None,\n",
       "                                                            n_estimators=300,\n",
       "                                                            n_jobs=None,\n",
       "                                                            num_parallel_tree=None,\n",
       "                                                            random_state=123, ...))]),\n",
       "                   n_iter=2,\n",
       "                   param_distributions={'xgb__learning_rate': array([0.05, 0.1 , 0.15, 0.2 , 0.25, 0.3 , 0.35, 0.4 , 0.45, 0.5 , 0.55,\n",
       "       0.6 , 0.65, 0.7 , 0.75, 0.8 , 0.85, 0.9 , 0.95]),\n",
       "                                        'xgb__max_depth': array([3, 4, 5, 6, 7, 8, 9]),\n",
       "                                        'xgb__n_estimators': array([ 50, 100, 150])},\n",
       "                   scoring='recall', verbose=1)"
      ]
     },
     "execution_count": 46,
     "metadata": {},
     "output_type": "execute_result"
    }
   ],
   "source": [
    "from sklearn.model_selection import RandomizedSearchCV\n",
    "xgb_randomized_cv = RandomizedSearchCV(pipe_xgb,gbm_param_grid,n_iter=2,scoring='recall',cv=5,verbose=1)\n",
    "xgb_randomized_cv.fit(X_train, y_train.values.ravel())\n"
   ]
  },
  {
   "cell_type": "code",
   "execution_count": 47,
   "id": "8348889d",
   "metadata": {},
   "outputs": [
    {
     "data": {
      "text/plain": [
       "{'xgb__n_estimators': 50, 'xgb__max_depth': 4, 'xgb__learning_rate': 0.2}"
      ]
     },
     "execution_count": 47,
     "metadata": {},
     "output_type": "execute_result"
    }
   ],
   "source": [
    "xgb_randomized_cv.best_params_"
   ]
  },
  {
   "cell_type": "code",
   "execution_count": 48,
   "id": "2eb63b5c",
   "metadata": {},
   "outputs": [],
   "source": [
    "xgb_features_imp =xgb_randomized_cv.best_estimator_.named_steps[\"xgb\"].feature_importances_\n",
    "feature_names = xgb_randomized_cv.best_estimator_.named_steps.feature_selection.get_feature_names_out()"
   ]
  },
  {
   "cell_type": "code",
   "execution_count": 49,
   "id": "793ed734",
   "metadata": {},
   "outputs": [
    {
     "data": {
      "text/plain": [
       "<Axes: title={'center': 'xgb model feature importance'}, xlabel='feature important ratio', ylabel='Feature'>"
      ]
     },
     "execution_count": 49,
     "metadata": {},
     "output_type": "execute_result"
    },
    {
     "data": {
      "image/png": "[encoded data removed]",
      "text/plain": [
       "<Figure size 640x480 with 1 Axes>"
      ]
     },
     "metadata": {},
     "output_type": "display_data"
    }
   ],
   "source": [
    "# making a pandas dataframe\n",
    "data = list(zip(feature_names, xgb_features_imp))\n",
    "df_importances = pd.DataFrame(data, columns=['Feature', 'Importance'\n",
    "                                             ]).sort_values(by='Importance')\n",
    "df_importances.plot.barh(x='Feature',\n",
    "                         y='Importance',\n",
    "                         xlabel=\"feature important ratio\",\n",
    "                         title=\"xgb model feature importance\")"
   ]
  },
  {
   "cell_type": "code",
   "execution_count": 50,
   "id": "83705cf5",
   "metadata": {},
   "outputs": [
    {
     "data": {
      "text/plain": [
       "(0.8363496953515437, 0.0989943102958693)"
      ]
     },
     "execution_count": 50,
     "metadata": {},
     "output_type": "execute_result"
    }
   ],
   "source": [
    "cv_xgb= cross_validate(xgb_randomized_cv.best_estimator_, X_train, y_train, \n",
    "                            scoring='recall', cv=5, n_jobs=-1)\n",
    "\n",
    "cv_scores_xgb = cv_xgb['test_score']\n",
    "np.mean(cv_scores_xgb), np.std(cv_scores_xgb)"
   ]
  },
  {
   "cell_type": "code",
   "execution_count": 51,
   "id": "84fb30c3",
   "metadata": {},
   "outputs": [
    {
     "name": "stderr",
     "output_type": "stream",
     "text": [
      "C:\\Users\\Yan Zhang\\anaconda3\\lib\\site-packages\\sklearn\\base.py:465: UserWarning: X does not have valid feature names, but SelectKBest was fitted with feature names\n",
      "  warnings.warn(\n"
     ]
    }
   ],
   "source": [
    "y_tr_pred = xgb_randomized_cv.best_estimator_.predict(X_train)\n",
    "y_te_pred = xgb_randomized_cv.best_estimator_.predict(X_test)\n",
    "y_pred_probs = xgb_randomized_cv.best_estimator_.predict_proba(\n",
    "    X_test.values)[:, 1]\n",
    "#print(roc_auc_score(y_test, y_pred_probs))"
   ]
  },
  {
   "cell_type": "code",
   "execution_count": 52,
   "id": "8f89e849",
   "metadata": {},
   "outputs": [
    {
     "name": "stdout",
     "output_type": "stream",
     "text": [
      "Best Threshold=0.45\n"
     ]
    }
   ],
   "source": [
    "\n",
    "# # get the best threshold\n",
    "fpr, tpr, thresholds = roc_curve(y_test, y_pred_probs)\n",
    "J = tpr - fpr\n",
    "ix = np.argmax(J)\n",
    "best_thresh = thresholds[ix]\n",
    "print('Best Threshold=%.2f' % (best_thresh))"
   ]
  },
  {
   "cell_type": "code",
   "execution_count": 53,
   "id": "926e1ce5",
   "metadata": {},
   "outputs": [
    {
     "data": {
      "image/png": "[encoded data removed]",
      "text/plain": [
       "<Figure size 640x480 with 1 Axes>"
      ]
     },
     "metadata": {},
     "output_type": "display_data"
    }
   ],
   "source": [
    "\n",
    "# plot the roc curve for the model\n",
    "plt.plot([0,1], [0,1], linestyle='--', label='No Skill')\n",
    "plt.plot(fpr, tpr, marker='.', label='XGBoost')\n",
    "plt.scatter(fpr[ix], tpr[ix], marker='o', color='black', label='Best')\n",
    "# axis labels\n",
    "plt.xlabel('False Positive Rate')\n",
    "plt.ylabel('True Positive Rate')\n",
    "plt.legend()\n",
    "# show the plot\n",
    "plt.show()"
   ]
  },
  {
   "cell_type": "code",
   "execution_count": 54,
   "id": "01de660a",
   "metadata": {},
   "outputs": [],
   "source": [
    "y_pred = (y_pred_probs >= 0.45).astype('int')"
   ]
  },
  {
   "cell_type": "code",
   "execution_count": 55,
   "id": "879a2ac3",
   "metadata": {},
   "outputs": [
    {
     "name": "stdout",
     "output_type": "stream",
     "text": [
      "XGBOOST roc_auc:0.74\n",
      "XGBOOST precision:0.40\n",
      "XGBOOST recall:0.77\n",
      "XGBOOST Accuracy:0.73\n"
     ]
    }
   ],
   "source": [
    "print(\"XGBOOST roc_auc:%.2f\"% roc_auc_score(y_test, y_pred))\n",
    "print(\"XGBOOST precision:%.2f\"%  precision_score(y_test, y_pred))\n",
    "print(\"XGBOOST recall:%.2f\"% recall_score(y_test, y_pred))\n",
    "print(\"XGBOOST Accuracy:%.2f\"% accuracy_score(y_test, y_pred))"
   ]
  },
  {
   "cell_type": "code",
   "execution_count": 56,
   "id": "844ffaba",
   "metadata": {},
   "outputs": [
    {
     "data": {
      "image/png": "[encoded data removed]",
      "text/plain": [
       "<Figure size 640x480 with 2 Axes>"
      ]
     },
     "metadata": {},
     "output_type": "display_data"
    },
    {
     "name": "stdout",
     "output_type": "stream",
     "text": [
      "              precision    recall  f1-score   support\n",
      "\n",
      "           0       0.93      0.72      0.81      1158\n",
      "           1       0.40      0.77      0.52       282\n",
      "\n",
      "    accuracy                           0.73      1440\n",
      "   macro avg       0.66      0.74      0.67      1440\n",
      "weighted avg       0.82      0.73      0.75      1440\n",
      "\n"
     ]
    }
   ],
   "source": [
    "report_xgb = classification_report(y_test, y_pred)\n",
    "cm_xgb = confusion_matrix(y_test, y_pred)\n",
    "ConfusionMatrixDisplay(confusion_matrix=cm_xgb,display_labels=xgb_randomized_cv.classes_).plot()\n",
    "plt.show()\n",
    "print(classification_report(y_test, y_pred))"
   ]
  },
  {
   "cell_type": "code",
   "execution_count": 58,
   "id": "e7a350a3",
   "metadata": {},
   "outputs": [
    {
     "data": {
      "text/html": [
       "<div>\n",
       "<style scoped>\n",
       "    .dataframe tbody tr th:only-of-type {\n",
       "        vertical-align: middle;\n",
       "    }\n",
       "\n",
       "    .dataframe tbody tr th {\n",
       "        vertical-align: top;\n",
       "    }\n",
       "\n",
       "    .dataframe thead th {\n",
       "        text-align: right;\n",
       "    }\n",
       "</style>\n",
       "<table border=\"1\" class=\"dataframe\">\n",
       "  <thead>\n",
       "    <tr style=\"text-align: right;\">\n",
       "      <th></th>\n",
       "      <th>cv score</th>\n",
       "      <th>roc_auc</th>\n",
       "      <th>precision</th>\n",
       "      <th>recall</th>\n",
       "      <th>accuracy</th>\n",
       "    </tr>\n",
       "  </thead>\n",
       "  <tbody>\n",
       "    <tr>\n",
       "      <th>LogisticRegression</th>\n",
       "      <td>0.78</td>\n",
       "      <td>0.75</td>\n",
       "      <td>0.39</td>\n",
       "      <td>0.83</td>\n",
       "      <td>0.71</td>\n",
       "    </tr>\n",
       "    <tr>\n",
       "      <th>Randomforest</th>\n",
       "      <td>0.90</td>\n",
       "      <td>0.74</td>\n",
       "      <td>0.37</td>\n",
       "      <td>0.82</td>\n",
       "      <td>0.69</td>\n",
       "    </tr>\n",
       "    <tr>\n",
       "      <th>XGBoost</th>\n",
       "      <td>0.84</td>\n",
       "      <td>0.74</td>\n",
       "      <td>0.40</td>\n",
       "      <td>0.77</td>\n",
       "      <td>0.73</td>\n",
       "    </tr>\n",
       "  </tbody>\n",
       "</table>\n",
       "</div>"
      ],
      "text/plain": [
       "                    cv score  roc_auc  precision  recall  accuracy\n",
       "LogisticRegression      0.78     0.75       0.39    0.83      0.71\n",
       "Randomforest            0.90     0.74       0.37    0.82      0.69\n",
       "XGBoost                 0.84     0.74       0.40    0.77      0.73"
      ]
     },
     "execution_count": 58,
     "metadata": {},
     "output_type": "execute_result"
    }
   ],
   "source": [
    "\n",
    "model_1_metrics = {\"cv score\":0.78,\"roc_auc\":0.75,\"precision\":0.39, \"recall\":0.83,\"accuracy\":0.71}\n",
    "model_2_metrics = {\"cv score\":0.90,\"roc_auc\":0.74,\"precision\":0.37, \"recall\":0.82,\"accuracy\":0.69}\n",
    "model_3_metrics = {\"cv score\":0.84,\"roc_auc\":0.74,\"precision\":0.40, \"recall\":0.77,\"accuracy\":0.73}\n",
    "all_metrics=[model_1_metrics,model_2_metrics,model_3_metrics]\n",
    "model_names =[\"LogisticRegression\",\"Randomforest\",\"XGBoost\"]\n",
    "metrics_df = pd.DataFrame(all_metrics, index =model_names )\n",
    "metrics_df"
   ]
  },
  {
   "cell_type": "markdown",
   "id": "e984f90c",
   "metadata": {},
   "source": [
    "among the three models, the random forest showed the highest cross validation score 0.90 and recall score (0.81) and it be selected as the final model"
   ]
  },
  {
   "cell_type": "markdown",
   "id": "dd87e14b",
   "metadata": {},
   "source": [
    "## Save best model object frome pipeline"
   ]
  },
  {
   "cell_type": "code",
   "execution_count": 59,
   "id": "7847a7e3",
   "metadata": {},
   "outputs": [],
   "source": [
    "best_model = rf_grid_cv.best_estimator_\n",
    "best_model.version = '1.0'\n",
    "best_model.pandas_version = pd.__version__\n",
    "best_model.numpy_version = np.__version__\n",
    "best_model.sklearn_version = sklearn_version\n",
    "best_model.X_columns = [col for col in X_train.columns]\n",
    "best_model.build_datetime = datetime.datetime.now()\n"
   ]
  },
  {
   "cell_type": "code",
   "execution_count": 60,
   "id": "2fced55f",
   "metadata": {},
   "outputs": [],
   "source": [
    "import pickle"
   ]
  },
  {
   "cell_type": "code",
   "execution_count": 61,
   "id": "08dc62c9",
   "metadata": {},
   "outputs": [],
   "source": [
    "# save the model to disk\n",
    "filename = 'wine_quality_model.sav'\n",
    "pickle.dump(best_model, open(filename, 'wb'))"
   ]
  },
  {
   "cell_type": "markdown",
   "id": "e306b3bc",
   "metadata": {},
   "source": [
    "## summary"
   ]
  },
  {
   "cell_type": "raw",
   "id": "04a7f2cd",
   "metadata": {},
   "source": [
    "Four modeling were performed in good wine quality prediction. At beginner, the dummyclassifier is used as baseline model, which the prediction is irrelavent to featrues. Then three models logisticregression, random forest model and xgboost were evaluate through pipeline. the cv results shows the random forest model have highest scores. All three model were tunning, and the metrics such as precision, recall, f1 and roc_auc scores were recorded. In the end, the random forest had relative high recall score (0.82). \n"
   ]
  },
  {
   "cell_type": "markdown",
   "id": "baf147df",
   "metadata": {},
   "source": [
    "## future work"
   ]
  },
  {
   "cell_type": "markdown",
   "id": "86435163",
   "metadata": {},
   "source": [
    "1. in the modeling, only five feature were used, may try more features to feed a model.\n",
    "2. in the data preprocess, the distribution of each numeric features was not fully explored, some of features are not normally distributed, without further process, it maybe the cause of low precision in the modeling.\n",
    "3. the modeling reveals alcohol play important role in producing good wine quality, the relation of alcohol amount to quality need to further explored. "
   ]
  }
 ],
 "metadata": {
  "kernelspec": {
   "display_name": "Python 3 (ipykernel)",
   "language": "python",
   "name": "python3"
  },
  "language_info": {
   "codemirror_mode": {
    "name": "ipython",
    "version": 3
   },
   "file_extension": ".py",
   "mimetype": "text/x-python",
   "name": "python",
   "nbconvert_exporter": "python",
   "pygments_lexer": "ipython3",
   "version": "3.10.12"
  },
  "toc": {
   "base_numbering": 1,
   "nav_menu": {},
   "number_sections": true,
   "sideBar": true,
   "skip_h1_title": false,
   "title_cell": "Table of Contents",
   "title_sidebar": "Contents",
   "toc_cell": false,
   "toc_position": {},
   "toc_section_display": true,
   "toc_window_display": false
  }
 },
 "nbformat": 4,
 "nbformat_minor": 5
}
